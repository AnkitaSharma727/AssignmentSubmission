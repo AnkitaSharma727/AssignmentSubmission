{
  "nbformat": 4,
  "nbformat_minor": 0,
  "metadata": {
    "colab": {
      "name": "Assignment_6A.ipynb",
      "provenance": []
    },
    "kernelspec": {
      "name": "python3",
      "display_name": "Python 3"
    },
    "language_info": {
      "name": "python"
    }
  },
  "cells": [
    {
      "cell_type": "markdown",
      "source": [
        "Q1. Describe three applications for exception processing."
      ],
      "metadata": {
        "id": "wX8z5Ql-3lg5"
      }
    },
    {
      "cell_type": "markdown",
      "source": [
        "Sol: 1. The checked Exception\n",
        "2. The Error\n",
        "3. The runtime"
      ],
      "metadata": {
        "id": "aR0LaFI_3zIo"
      }
    },
    {
      "cell_type": "markdown",
      "source": [
        "Q2. What happens if you don't do something extra to treat an exception?"
      ],
      "metadata": {
        "id": "FgGl4Dy43nZS"
      }
    },
    {
      "cell_type": "markdown",
      "source": [
        "Sol: When an exception occurred, if you don't handle it, the program terminates abruptly and the code past the line that caused the exception will not get executed."
      ],
      "metadata": {
        "id": "1SjUpIplvtbx"
      }
    },
    {
      "cell_type": "markdown",
      "source": [
        "Q3. What are your options for recovering from an exception in your script?"
      ],
      "metadata": {
        "id": "W8A7hRqg3qcI"
      }
    },
    {
      "cell_type": "markdown",
      "source": [
        "Sol: Using the TRY and Except Block, we can recover from an exception in the script."
      ],
      "metadata": {
        "id": "qCPXAP7b4ZJm"
      }
    },
    {
      "cell_type": "markdown",
      "source": [
        "Q4. Describe two methods for triggering exceptions in your script."
      ],
      "metadata": {
        "id": "b9iOEFcO3s6p"
      }
    },
    {
      "cell_type": "markdown",
      "source": [
        "Sol: 1. Try – This method catches the exceptions raised by the program. \n",
        "2. Raise – Triggers an exception manually using custom exceptions."
      ],
      "metadata": {
        "id": "E0T3kJxf6oP0"
      }
    },
    {
      "cell_type": "markdown",
      "source": [
        "Q5. Identify two methods for specifying actions to be executed at termination time, regardless of whether or not an exception exists."
      ],
      "metadata": {
        "id": "ie0Z23JN3vZR"
      }
    },
    {
      "cell_type": "markdown",
      "source": [
        "Sol: 1. Else \n",
        "2. Finally"
      ],
      "metadata": {
        "id": "qp1zwZQd6tBi"
      }
    }
  ]
}
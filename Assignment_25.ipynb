{
  "nbformat": 4,
  "nbformat_minor": 0,
  "metadata": {
    "colab": {
      "name": "Assignment_25.ipynb",
      "provenance": []
    },
    "kernelspec": {
      "name": "python3",
      "display_name": "Python 3"
    },
    "language_info": {
      "name": "python"
    }
  },
  "cells": [
    {
      "cell_type": "markdown",
      "source": [
        "Q1. What is the difference between enclosing a list comprehension in square brackets and parentheses?"
      ],
      "metadata": {
        "id": "hsL6FA5aaM0J"
      }
    },
    {
      "cell_type": "markdown",
      "source": [
        "Sol: The list comprehend=sion is enclosed in the square brackets[] while generator expression is enclosed in parentheses().\n",
        "\n",
        "Syntax of List Comprehension:\n",
        "[expression for item in list]"
      ],
      "metadata": {
        "id": "BkyEdE72Sjrw"
      }
    },
    {
      "cell_type": "markdown",
      "source": [
        "Q2. What is the relationship between generators and iterators?"
      ],
      "metadata": {
        "id": "JkGK_RG7aQht"
      }
    },
    {
      "cell_type": "markdown",
      "source": [
        "Sol: Iterator: Iterators are used mostly to convert other objects to an iterator using iter() function.\n",
        "Generator: Generator are mostly used in loop to generate an iterator by returning all the values in the loop without affecting the iteration of the loop."
      ],
      "metadata": {
        "id": "rzEbjR4VTg6P"
      }
    },
    {
      "cell_type": "markdown",
      "source": [
        "Q3. What are the signs that a function is a generator function?"
      ],
      "metadata": {
        "id": "afD1y0JGbQ-2"
      }
    },
    {
      "cell_type": "markdown",
      "source": [
        "Sol: Use of the \"yield\" keyord inside the function converts the function into the generator.\n"
      ],
      "metadata": {
        "id": "XQQ7bobBULqS"
      }
    },
    {
      "cell_type": "markdown",
      "source": [
        "Q4. What is the purpose of a yield statement?"
      ],
      "metadata": {
        "id": "TxRCGZI0bT1m"
      }
    },
    {
      "cell_type": "markdown",
      "source": [
        "Sol: In its simplest form, the yield statements much like the return statement except that stopping the iteration and returning the value. Yield provides a value of the code looping over the generator and pauses the execution of the generator function."
      ],
      "metadata": {
        "id": "cQXwbVBIUiKG"
      }
    },
    {
      "cell_type": "markdown",
      "source": [
        "Q5. What is the relationship between map calls and list comprehensions? Make a comparison and contrast between the two."
      ],
      "metadata": {
        "id": "Hs-ogFNwbWST"
      }
    },
    {
      "cell_type": "markdown",
      "source": [
        "Sol: List Comprehension: \n",
        "1. It is more concise and easy to read.\n",
        "2. It is used when a list is required as an output.\n",
        "Map:\n",
        "1. It is faster in case of calling an already defined function. "
      ],
      "metadata": {
        "id": "TDBoO_jYVZin"
      }
    }
  ]
}
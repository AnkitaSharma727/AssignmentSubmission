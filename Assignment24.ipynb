{
  "nbformat": 4,
  "nbformat_minor": 0,
  "metadata": {
    "colab": {
      "name": "Assignment24.ipynb",
      "provenance": []
    },
    "kernelspec": {
      "name": "python3",
      "display_name": "Python 3"
    },
    "language_info": {
      "name": "python"
    }
  },
  "cells": [
    {
      "cell_type": "markdown",
      "source": [
        "Q1. What is the relationship between def statements and lambda expressions ?"
      ],
      "metadata": {
        "id": "YjVPkcjVaV4-"
      }
    },
    {
      "cell_type": "markdown",
      "source": [
        "Sol: Def is the block of expressions which executes with the name of header or on calling the function by its function.\n",
        "While the lambda expression also executes but they are expreesed in the single statement.\n",
        "Lambda expreesion can be optionally assigned a name while def statement always assigns the new function to the name in a header."
      ],
      "metadata": {
        "id": "8dTlykAZb2Z_"
      }
    },
    {
      "cell_type": "markdown",
      "source": [
        "Q2. What is the benefit of lambda?"
      ],
      "metadata": {
        "id": "_TNGB320bXzk"
      }
    },
    {
      "cell_type": "markdown",
      "source": [
        "Sol: Lambda is concise and the expression is expressed in the single statement which evaluates on a function object."
      ],
      "metadata": {
        "id": "sKpKTk7XdgT2"
      }
    },
    {
      "cell_type": "markdown",
      "source": [
        "Q3. Compare and contrast map, filter, and reduce."
      ],
      "metadata": {
        "id": "NRafMdRTbanC"
      }
    },
    {
      "cell_type": "markdown",
      "source": [
        "Sol: Map : This function returns map object(which is an iterator) of the results applying the given function to each item of the given iterable (list,tuple)\n",
        "Syntax of Map function():\n",
        "map (function, iter)\n",
        " \n",
        "Filter : The filter() method filters the given sequence with the help of a function that tests each element in the sequence to be true or not.\n",
        "Synatx of filter:\n",
        "filter(function,sequence)\n",
        "\n",
        "Reduce : Function is used to apply a particular function passed in its argument to all of the list elements mentioned in the sequence passed along.\n",
        "Reduce function is defined in the functools.\n",
        "Synatx of filter:\n",
        "reduce(function,sequence)"
      ],
      "metadata": {
        "id": "_x44ppa_eUAl"
      }
    },
    {
      "cell_type": "markdown",
      "source": [
        "Q4. What are function annotations, and how are they used?"
      ],
      "metadata": {
        "id": "7tFEy7WkbdEe"
      }
    },
    {
      "cell_type": "markdown",
      "source": [
        "Sol: Function annotations are the arbitrary python expression that are assosiated with various part of the functions. These expressions are evaluated at the compile time and have no life in python's runtime envronment.\n",
        "They take life when interpreted by third party libraries like numpy.\n",
        "\n",
        "Applications of function annotation:\n",
        "1. Use of 'mypy' = ‘mypy’ is an external library that provides static type checking with the help of function annotations.\n"
      ],
      "metadata": {
        "id": "zZnp7dtWf14_"
      }
    },
    {
      "cell_type": "markdown",
      "source": [
        "Q5. What are recursive functions, and how are they used?"
      ],
      "metadata": {
        "id": "tAGdY8MPbo4e"
      }
    },
    {
      "cell_type": "markdown",
      "source": [
        "Sol: Recursive functions are the functions that are calling itself directly or indirectly.\n",
        "Example : Tower of Hanoi"
      ],
      "metadata": {
        "id": "o13kF0-pjD0J"
      }
    },
    {
      "cell_type": "markdown",
      "source": [
        "Q6. What are some general design guidelines for coding functions?"
      ],
      "metadata": {
        "id": "WyoDDqtubsgb"
      }
    },
    {
      "cell_type": "markdown",
      "source": [
        "Sol: Guidelines of Coding Function :\n",
        "1. Safe: It can be used without causing any harm.\n",
        "2. Secure: It can't be hacked.\n",
        "3. Reliable: It should functions the way it is expected to be, everytime.\n",
        "4. Testable: It an be tetsed at the code level.\n",
        "5. Maintainable: It can be maintained, even as your codebase grows.\n",
        "6. Portable: It works same in every environment."
      ],
      "metadata": {
        "id": "b2KfWZ9pj5cC"
      }
    },
    {
      "cell_type": "markdown",
      "source": [
        "Q7. Name three or more ways that functions can communicate results to a caller."
      ],
      "metadata": {
        "id": "pbBz7Qogbyvc"
      }
    },
    {
      "cell_type": "markdown",
      "source": [
        "Sol: 1. Function calling itself\n",
        "2. Call by value\n",
        "3. call by function"
      ],
      "metadata": {
        "id": "aJJ3OXYRk8uW"
      }
    },
    {
      "cell_type": "code",
      "source": [
        ""
      ],
      "metadata": {
        "id": "Vp24T6kZmRb7"
      },
      "execution_count": null,
      "outputs": []
    }
  ]
}
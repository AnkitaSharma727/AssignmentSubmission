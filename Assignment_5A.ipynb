{
  "nbformat": 4,
  "nbformat_minor": 0,
  "metadata": {
    "colab": {
      "name": "Assignment_5A.ipynb",
      "provenance": []
    },
    "kernelspec": {
      "name": "python3",
      "display_name": "Python 3"
    },
    "language_info": {
      "name": "python"
    }
  },
  "cells": [
    {
      "cell_type": "markdown",
      "source": [
        "Q1. What is the meaning of multiple inheritance?"
      ],
      "metadata": {
        "id": "2Do-fSry0t1K"
      }
    },
    {
      "cell_type": "markdown",
      "source": [
        "Sol: Multiple inheritance a feature of some object-oriented programming languages in which a class or an object inherits characteristics and properties from more than one parent class or object."
      ],
      "metadata": {
        "id": "FAd0sD7t1O7D"
      }
    },
    {
      "cell_type": "markdown",
      "source": [
        "Q2. What is the concept of delegation?"
      ],
      "metadata": {
        "id": "p6bKGLHc045W"
      }
    },
    {
      "cell_type": "markdown",
      "source": [
        "Sol: The delegation pattern is an object-oriented design pattern that allows object composition to achieve the same code reuse as inheritance."
      ],
      "metadata": {
        "id": "xY2W6thg1q6A"
      }
    },
    {
      "cell_type": "markdown",
      "source": [
        "Q3. What is the concept of composition?"
      ],
      "metadata": {
        "id": "vJejyW_w1E0P"
      }
    },
    {
      "cell_type": "markdown",
      "source": [
        "Sol: Composition is a concept that models a has a relationship. It enables creating complex types by combining objects of other types. This means that a class Composite can contain an object of another class Component . This relationship means that a Composite has a Component ."
      ],
      "metadata": {
        "id": "n0WlJwm_14zk"
      }
    },
    {
      "cell_type": "markdown",
      "source": [
        "Q4. What are bound methods and how do we use them?"
      ],
      "metadata": {
        "id": "prlX5F1R1IDy"
      }
    },
    {
      "cell_type": "markdown",
      "source": [
        "Sol: A bound method is the one which is dependent on the instance of the class as the first argument. It passes the instance as the first argument which is used to access the variables and functions."
      ],
      "metadata": {
        "id": "BDxGqR6T23Aq"
      }
    },
    {
      "cell_type": "markdown",
      "source": [
        "Q5. What is the purpose of pseudoprivate attributes?"
      ],
      "metadata": {
        "id": "QmHobDgl1K3R"
      }
    },
    {
      "cell_type": "markdown",
      "source": [
        "Sol: The purpose of pseudoprivate attributes is to avoid namespace collisions in instances, not to restrict access to names in general."
      ],
      "metadata": {
        "id": "0rd2CQ-S3FvP"
      }
    }
  ]
}
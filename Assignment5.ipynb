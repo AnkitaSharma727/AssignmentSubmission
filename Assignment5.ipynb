{
  "nbformat": 4,
  "nbformat_minor": 0,
  "metadata": {
    "colab": {
      "name": "Assignment5.ipynb",
      "provenance": []
    },
    "kernelspec": {
      "name": "python3",
      "display_name": "Python 3"
    },
    "language_info": {
      "name": "python"
    }
  },
  "cells": [
    {
      "cell_type": "markdown",
      "source": [
        "Q1. What does an empty dictionary's code look like?"
      ],
      "metadata": {
        "id": "Ga3ZXByzJQF5"
      }
    },
    {
      "cell_type": "markdown",
      "source": [
        "Sol: Empty dictionary's code look like {}"
      ],
      "metadata": {
        "id": "sc4C_pSRJUOE"
      }
    },
    {
      "cell_type": "code",
      "execution_count": 2,
      "metadata": {
        "colab": {
          "base_uri": "https://localhost:8080/"
        },
        "id": "u0ag3l9nJMZs",
        "outputId": "ef168816-d404-4d05-f168-d5c235b27172"
      },
      "outputs": [
        {
          "output_type": "execute_result",
          "data": {
            "text/plain": [
              "dict"
            ]
          },
          "metadata": {},
          "execution_count": 2
        }
      ],
      "source": [
        "x = {}\n",
        "type(x)"
      ]
    },
    {
      "cell_type": "markdown",
      "source": [
        "Q2. What is the value of a dictionary value with the key 'foo' and the value 42?"
      ],
      "metadata": {
        "id": "gsepILDrJv9q"
      }
    },
    {
      "cell_type": "code",
      "source": [
        "x = {\"foo\": 42}"
      ],
      "metadata": {
        "id": "7oAHfgu9Jnwz"
      },
      "execution_count": 3,
      "outputs": []
    },
    {
      "cell_type": "markdown",
      "source": [
        "Q3. What is the most significant distinction between a dictionary and a list?"
      ],
      "metadata": {
        "id": "njX3MfRJJ3g8"
      }
    },
    {
      "cell_type": "markdown",
      "source": [
        "Sol: A list is an ordered sequence of data type where elements are accessed through the indexing. While dictionaries are unordered sets and their elements are accessed via keys."
      ],
      "metadata": {
        "id": "R5f5CNbjKB6y"
      }
    },
    {
      "cell_type": "markdown",
      "source": [
        "Q4. What happens if you try to access spam['foo'] if spam is {'bar': 100}?"
      ],
      "metadata": {
        "id": "Vw1IP6HTKiGd"
      }
    },
    {
      "cell_type": "code",
      "source": [
        "spam= {'bar': 100}"
      ],
      "metadata": {
        "id": "5yGCNeYeKBOP"
      },
      "execution_count": 8,
      "outputs": []
    },
    {
      "cell_type": "code",
      "source": [
        "spam[\"foo\"]"
      ],
      "metadata": {
        "colab": {
          "base_uri": "https://localhost:8080/",
          "height": 165
        },
        "id": "2T1x7CPeJ2ls",
        "outputId": "422a4954-6fcb-4305-abdf-85c2072b2d10"
      },
      "execution_count": 9,
      "outputs": [
        {
          "output_type": "error",
          "ename": "KeyError",
          "evalue": "ignored",
          "traceback": [
            "\u001b[0;31m---------------------------------------------------------------------------\u001b[0m",
            "\u001b[0;31mKeyError\u001b[0m                                  Traceback (most recent call last)",
            "\u001b[0;32m<ipython-input-9-eb1d0efbede1>\u001b[0m in \u001b[0;36m<module>\u001b[0;34m()\u001b[0m\n\u001b[0;32m----> 1\u001b[0;31m \u001b[0mspam\u001b[0m\u001b[0;34m[\u001b[0m\u001b[0;34m\"foo\"\u001b[0m\u001b[0;34m]\u001b[0m\u001b[0;34m\u001b[0m\u001b[0;34m\u001b[0m\u001b[0m\n\u001b[0m",
            "\u001b[0;31mKeyError\u001b[0m: 'foo'"
          ]
        }
      ]
    },
    {
      "cell_type": "markdown",
      "source": [
        "Q5. If a dictionary is stored in spam, what is the difference between the expressions 'cat' in spam and 'cat' in spam.keys()?"
      ],
      "metadata": {
        "id": "AcN46CE3K2M1"
      }
    },
    {
      "cell_type": "markdown",
      "source": [
        "Sol: No difference"
      ],
      "metadata": {
        "id": "DJNGe0iYLmkM"
      }
    },
    {
      "cell_type": "code",
      "source": [
        "spam = {\"cat\":89}\n",
        "\"cat\"in spam"
      ],
      "metadata": {
        "colab": {
          "base_uri": "https://localhost:8080/"
        },
        "id": "d4M2aISCMP9U",
        "outputId": "ec9209ec-af35-46e9-9bc7-62854f40b478"
      },
      "execution_count": 15,
      "outputs": [
        {
          "output_type": "execute_result",
          "data": {
            "text/plain": [
              "True"
            ]
          },
          "metadata": {},
          "execution_count": 15
        }
      ]
    },
    {
      "cell_type": "code",
      "source": [
        "\"cat\" in spam.keys()"
      ],
      "metadata": {
        "colab": {
          "base_uri": "https://localhost:8080/"
        },
        "id": "ExkBE-3ELhwe",
        "outputId": "696cd797-b822-4582-954c-c463d33db6d2"
      },
      "execution_count": 16,
      "outputs": [
        {
          "output_type": "execute_result",
          "data": {
            "text/plain": [
              "True"
            ]
          },
          "metadata": {},
          "execution_count": 16
        }
      ]
    },
    {
      "cell_type": "markdown",
      "source": [
        "Q7. What is a shortcut for the following code?\n",
        "if 'color' not in spam:\n",
        "spam['color'] = 'black'\n"
      ],
      "metadata": {
        "id": "jpy3n1cBMiNK"
      }
    },
    {
      "cell_type": "code",
      "source": [
        "spam={\"blue\":\"kite\",\"yellow\":\"teeth\",\"white\":\"parrot\"}\n",
        "spam[\"color\"]=\"black\"\n",
        "spam"
      ],
      "metadata": {
        "colab": {
          "base_uri": "https://localhost:8080/"
        },
        "id": "-hhPKjQ5MWTM",
        "outputId": "771c45c3-05c6-44df-c609-d2c4465ae4c4"
      },
      "execution_count": 17,
      "outputs": [
        {
          "output_type": "execute_result",
          "data": {
            "text/plain": [
              "{'blue': 'kite', 'color': 'black', 'white': 'parrot', 'yellow': 'teeth'}"
            ]
          },
          "metadata": {},
          "execution_count": 17
        }
      ]
    },
    {
      "cell_type": "markdown",
      "source": [
        "Q8. How do you \"pretty print\" dictionary values using which module and function?"
      ],
      "metadata": {
        "id": "VsZRNOD5ViaH"
      }
    },
    {
      "cell_type": "markdown",
      "source": [
        "Sol: By importing the pprint() module and within that module there is a function with the same name pprint()\n",
        "The pretty print is used in the dictionary to make them more readable."
      ],
      "metadata": {
        "id": "tOKfjEPnWKfu"
      }
    },
    {
      "cell_type": "code",
      "source": [
        "import pprint\n",
        "dict = [{\"name\":\"Jakky\",\"age\":7,\"colour\":\"Brown\"},{\"name\":\"Tuffy\",\"age\":3,\"colour\":\"White\"},{\"name\":\"Duke\",\"age\":2,\"colour\":\"Black\"}]\n",
        "pprint.pprint(dict)  "
      ],
      "metadata": {
        "colab": {
          "base_uri": "https://localhost:8080/"
        },
        "id": "o51f1jskM357",
        "outputId": "2d3be58c-fc08-4a37-b4d9-096c69330f70"
      },
      "execution_count": 4,
      "outputs": [
        {
          "output_type": "stream",
          "name": "stdout",
          "text": [
            "[{'age': 7, 'colour': 'Brown', 'name': 'Jakky'},\n",
            " {'age': 3, 'colour': 'White', 'name': 'Tuffy'},\n",
            " {'age': 2, 'colour': 'Black', 'name': 'Duke'}]\n"
          ]
        }
      ]
    },
    {
      "cell_type": "code",
      "source": [
        "# Code without pprint\n",
        "dict = {\"name\":\"Jakky\",\"age\":7,\"colour\":\"Brown\"},{\"name\":\"Tuffy\",\"age\":3,\"colour\":\"White\"},{\"name\":\"Duke\",\"age\":2,\"colour\":\"Black\"}\n",
        "print(dict)        "
      ],
      "metadata": {
        "colab": {
          "base_uri": "https://localhost:8080/"
        },
        "id": "srWwhmxdXnHG",
        "outputId": "cb02f49a-36c5-4178-fd2c-2a973a6da424"
      },
      "execution_count": 5,
      "outputs": [
        {
          "output_type": "stream",
          "name": "stdout",
          "text": [
            "({'name': 'Jakky', 'age': 7, 'colour': 'Brown'}, {'name': 'Tuffy', 'age': 3, 'colour': 'White'}, {'name': 'Duke', 'age': 2, 'colour': 'Black'})\n"
          ]
        }
      ]
    }
  ]
}
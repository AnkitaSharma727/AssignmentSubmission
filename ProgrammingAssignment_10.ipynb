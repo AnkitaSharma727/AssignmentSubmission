{
  "cells": [
    {
      "cell_type": "markdown",
      "metadata": {
        "id": "Q0-00I0p-289"
      },
      "source": [
        "Q1.\tWrite a Python program to find sum of elements in list?"
      ]
    },
    {
      "cell_type": "code",
      "execution_count": null,
      "metadata": {
        "colab": {
          "base_uri": "https://localhost:8080/",
          "height": 536
        },
        "id": "8y5TRRbr-wGJ",
        "outputId": "8b4dca95-2fe8-4814-ae77-68e8d671da97"
      },
      "outputs": [
        {
          "ename": "KeyboardInterrupt",
          "evalue": "ignored",
          "output_type": "error",
          "traceback": [
            "\u001b[0;31m---------------------------------------------------------------------------\u001b[0m",
            "\u001b[0;31mKeyboardInterrupt\u001b[0m                         Traceback (most recent call last)",
            "\u001b[0;32m/usr/local/lib/python3.7/dist-packages/ipykernel/kernelbase.py\u001b[0m in \u001b[0;36m_input_request\u001b[0;34m(self, prompt, ident, parent, password)\u001b[0m\n\u001b[1;32m    728\u001b[0m             \u001b[0;32mtry\u001b[0m\u001b[0;34m:\u001b[0m\u001b[0;34m\u001b[0m\u001b[0;34m\u001b[0m\u001b[0m\n\u001b[0;32m--> 729\u001b[0;31m                 \u001b[0mident\u001b[0m\u001b[0;34m,\u001b[0m \u001b[0mreply\u001b[0m \u001b[0;34m=\u001b[0m \u001b[0mself\u001b[0m\u001b[0;34m.\u001b[0m\u001b[0msession\u001b[0m\u001b[0;34m.\u001b[0m\u001b[0mrecv\u001b[0m\u001b[0;34m(\u001b[0m\u001b[0mself\u001b[0m\u001b[0;34m.\u001b[0m\u001b[0mstdin_socket\u001b[0m\u001b[0;34m,\u001b[0m \u001b[0;36m0\u001b[0m\u001b[0;34m)\u001b[0m\u001b[0;34m\u001b[0m\u001b[0;34m\u001b[0m\u001b[0m\n\u001b[0m\u001b[1;32m    730\u001b[0m             \u001b[0;32mexcept\u001b[0m \u001b[0mException\u001b[0m\u001b[0;34m:\u001b[0m\u001b[0;34m\u001b[0m\u001b[0;34m\u001b[0m\u001b[0m\n",
            "\u001b[0;32m/usr/local/lib/python3.7/dist-packages/jupyter_client/session.py\u001b[0m in \u001b[0;36mrecv\u001b[0;34m(self, socket, mode, content, copy)\u001b[0m\n\u001b[1;32m    802\u001b[0m         \u001b[0;32mtry\u001b[0m\u001b[0;34m:\u001b[0m\u001b[0;34m\u001b[0m\u001b[0;34m\u001b[0m\u001b[0m\n\u001b[0;32m--> 803\u001b[0;31m             \u001b[0mmsg_list\u001b[0m \u001b[0;34m=\u001b[0m \u001b[0msocket\u001b[0m\u001b[0;34m.\u001b[0m\u001b[0mrecv_multipart\u001b[0m\u001b[0;34m(\u001b[0m\u001b[0mmode\u001b[0m\u001b[0;34m,\u001b[0m \u001b[0mcopy\u001b[0m\u001b[0;34m=\u001b[0m\u001b[0mcopy\u001b[0m\u001b[0;34m)\u001b[0m\u001b[0;34m\u001b[0m\u001b[0;34m\u001b[0m\u001b[0m\n\u001b[0m\u001b[1;32m    804\u001b[0m         \u001b[0;32mexcept\u001b[0m \u001b[0mzmq\u001b[0m\u001b[0;34m.\u001b[0m\u001b[0mZMQError\u001b[0m \u001b[0;32mas\u001b[0m \u001b[0me\u001b[0m\u001b[0;34m:\u001b[0m\u001b[0;34m\u001b[0m\u001b[0;34m\u001b[0m\u001b[0m\n",
            "\u001b[0;32m/usr/local/lib/python3.7/dist-packages/zmq/sugar/socket.py\u001b[0m in \u001b[0;36mrecv_multipart\u001b[0;34m(self, flags, copy, track)\u001b[0m\n\u001b[1;32m    624\u001b[0m         \"\"\"\n\u001b[0;32m--> 625\u001b[0;31m         \u001b[0mparts\u001b[0m \u001b[0;34m=\u001b[0m \u001b[0;34m[\u001b[0m\u001b[0mself\u001b[0m\u001b[0;34m.\u001b[0m\u001b[0mrecv\u001b[0m\u001b[0;34m(\u001b[0m\u001b[0mflags\u001b[0m\u001b[0;34m,\u001b[0m \u001b[0mcopy\u001b[0m\u001b[0;34m=\u001b[0m\u001b[0mcopy\u001b[0m\u001b[0;34m,\u001b[0m \u001b[0mtrack\u001b[0m\u001b[0;34m=\u001b[0m\u001b[0mtrack\u001b[0m\u001b[0;34m)\u001b[0m\u001b[0;34m]\u001b[0m\u001b[0;34m\u001b[0m\u001b[0;34m\u001b[0m\u001b[0m\n\u001b[0m\u001b[1;32m    626\u001b[0m         \u001b[0;31m# have first part already, only loop while more to receive\u001b[0m\u001b[0;34m\u001b[0m\u001b[0;34m\u001b[0m\u001b[0;34m\u001b[0m\u001b[0m\n",
            "\u001b[0;32mzmq/backend/cython/socket.pyx\u001b[0m in \u001b[0;36mzmq.backend.cython.socket.Socket.recv\u001b[0;34m()\u001b[0m\n",
            "\u001b[0;32mzmq/backend/cython/socket.pyx\u001b[0m in \u001b[0;36mzmq.backend.cython.socket.Socket.recv\u001b[0;34m()\u001b[0m\n",
            "\u001b[0;32mzmq/backend/cython/socket.pyx\u001b[0m in \u001b[0;36mzmq.backend.cython.socket._recv_copy\u001b[0;34m()\u001b[0m\n",
            "\u001b[0;32m/usr/local/lib/python3.7/dist-packages/zmq/backend/cython/checkrc.pxd\u001b[0m in \u001b[0;36mzmq.backend.cython.checkrc._check_rc\u001b[0;34m()\u001b[0m\n",
            "\u001b[0;31mKeyboardInterrupt\u001b[0m: ",
            "\nDuring handling of the above exception, another exception occurred:\n",
            "\u001b[0;31mKeyboardInterrupt\u001b[0m                         Traceback (most recent call last)",
            "\u001b[0;32m<ipython-input-7-a9c9121dd81a>\u001b[0m in \u001b[0;36m<module>\u001b[0;34m()\u001b[0m\n\u001b[1;32m     10\u001b[0m   \u001b[0mf\u001b[0m\u001b[0;34m=\u001b[0m\u001b[0mreduce\u001b[0m\u001b[0;34m(\u001b[0m\u001b[0;32mlambda\u001b[0m \u001b[0ma\u001b[0m\u001b[0;34m,\u001b[0m\u001b[0mb\u001b[0m\u001b[0;34m:\u001b[0m \u001b[0ma\u001b[0m\u001b[0;34m+\u001b[0m\u001b[0mb\u001b[0m\u001b[0;34m,\u001b[0m\u001b[0mm\u001b[0m\u001b[0;34m)\u001b[0m\u001b[0;34m\u001b[0m\u001b[0;34m\u001b[0m\u001b[0m\n\u001b[1;32m     11\u001b[0m   \u001b[0;32mreturn\u001b[0m \u001b[0mf\u001b[0m\u001b[0;34m\u001b[0m\u001b[0;34m\u001b[0m\u001b[0m\n\u001b[0;32m---> 12\u001b[0;31m \u001b[0mlst\u001b[0m\u001b[0;34m(\u001b[0m\u001b[0;34m)\u001b[0m\u001b[0;34m\u001b[0m\u001b[0;34m\u001b[0m\u001b[0m\n\u001b[0m",
            "\u001b[0;32m<ipython-input-7-a9c9121dd81a>\u001b[0m in \u001b[0;36mlst\u001b[0;34m()\u001b[0m\n\u001b[1;32m      2\u001b[0m \u001b[0;32mdef\u001b[0m \u001b[0mlst\u001b[0m\u001b[0;34m(\u001b[0m\u001b[0;34m)\u001b[0m\u001b[0;34m:\u001b[0m\u001b[0;34m\u001b[0m\u001b[0;34m\u001b[0m\u001b[0m\n\u001b[1;32m      3\u001b[0m   \u001b[0;34m'''Function to find the sum of elements of list'''\u001b[0m\u001b[0;34m\u001b[0m\u001b[0;34m\u001b[0m\u001b[0m\n\u001b[0;32m----> 4\u001b[0;31m   \u001b[0mx\u001b[0m\u001b[0;34m=\u001b[0m\u001b[0mint\u001b[0m\u001b[0;34m(\u001b[0m\u001b[0minput\u001b[0m\u001b[0;34m(\u001b[0m\u001b[0;34m\"Enter the length of list\"\u001b[0m\u001b[0;34m)\u001b[0m\u001b[0;34m)\u001b[0m\u001b[0;34m\u001b[0m\u001b[0;34m\u001b[0m\u001b[0m\n\u001b[0m\u001b[1;32m      5\u001b[0m \u001b[0;34m\u001b[0m\u001b[0m\n\u001b[1;32m      6\u001b[0m   \u001b[0mm\u001b[0m\u001b[0;34m=\u001b[0m\u001b[0;34m[\u001b[0m\u001b[0;34m]\u001b[0m\u001b[0;34m\u001b[0m\u001b[0;34m\u001b[0m\u001b[0m\n",
            "\u001b[0;32m/usr/local/lib/python3.7/dist-packages/ipykernel/kernelbase.py\u001b[0m in \u001b[0;36mraw_input\u001b[0;34m(self, prompt)\u001b[0m\n\u001b[1;32m    702\u001b[0m             \u001b[0mself\u001b[0m\u001b[0;34m.\u001b[0m\u001b[0m_parent_ident\u001b[0m\u001b[0;34m,\u001b[0m\u001b[0;34m\u001b[0m\u001b[0;34m\u001b[0m\u001b[0m\n\u001b[1;32m    703\u001b[0m             \u001b[0mself\u001b[0m\u001b[0;34m.\u001b[0m\u001b[0m_parent_header\u001b[0m\u001b[0;34m,\u001b[0m\u001b[0;34m\u001b[0m\u001b[0;34m\u001b[0m\u001b[0m\n\u001b[0;32m--> 704\u001b[0;31m             \u001b[0mpassword\u001b[0m\u001b[0;34m=\u001b[0m\u001b[0;32mFalse\u001b[0m\u001b[0;34m,\u001b[0m\u001b[0;34m\u001b[0m\u001b[0;34m\u001b[0m\u001b[0m\n\u001b[0m\u001b[1;32m    705\u001b[0m         )\n\u001b[1;32m    706\u001b[0m \u001b[0;34m\u001b[0m\u001b[0m\n",
            "\u001b[0;32m/usr/local/lib/python3.7/dist-packages/ipykernel/kernelbase.py\u001b[0m in \u001b[0;36m_input_request\u001b[0;34m(self, prompt, ident, parent, password)\u001b[0m\n\u001b[1;32m    732\u001b[0m             \u001b[0;32mexcept\u001b[0m \u001b[0mKeyboardInterrupt\u001b[0m\u001b[0;34m:\u001b[0m\u001b[0;34m\u001b[0m\u001b[0;34m\u001b[0m\u001b[0m\n\u001b[1;32m    733\u001b[0m                 \u001b[0;31m# re-raise KeyboardInterrupt, to truncate traceback\u001b[0m\u001b[0;34m\u001b[0m\u001b[0;34m\u001b[0m\u001b[0;34m\u001b[0m\u001b[0m\n\u001b[0;32m--> 734\u001b[0;31m                 \u001b[0;32mraise\u001b[0m \u001b[0mKeyboardInterrupt\u001b[0m\u001b[0;34m\u001b[0m\u001b[0;34m\u001b[0m\u001b[0m\n\u001b[0m\u001b[1;32m    735\u001b[0m             \u001b[0;32melse\u001b[0m\u001b[0;34m:\u001b[0m\u001b[0;34m\u001b[0m\u001b[0;34m\u001b[0m\u001b[0m\n\u001b[1;32m    736\u001b[0m                 \u001b[0;32mbreak\u001b[0m\u001b[0;34m\u001b[0m\u001b[0;34m\u001b[0m\u001b[0m\n",
            "\u001b[0;31mKeyboardInterrupt\u001b[0m: "
          ]
        }
      ],
      "source": [
        "from functools import reduce\n",
        "def lst():\n",
        "  '''Function to find the sum of elements of list'''\n",
        "  x=int(input(\"Enter the length of list\"))\n",
        "\n",
        "  m=[]\n",
        "  for i in range(x):\n",
        "    y=int(input(\"Enter the elements of list\"))\n",
        "    m.append(y)\n",
        "  f=reduce(lambda a,b: a+b,m)\n",
        "  return f\n",
        "lst()"
      ]
    },
    {
      "cell_type": "markdown",
      "metadata": {
        "id": "AfQdtzNqBO0r"
      },
      "source": [
        "Q2.\tWrite a Python program to  Multiply all numbers in the list?"
      ]
    },
    {
      "cell_type": "code",
      "execution_count": null,
      "metadata": {
        "colab": {
          "base_uri": "https://localhost:8080/"
        },
        "id": "OCARTSGdAd10",
        "outputId": "4d3ffc15-6e86-49ad-c5fa-07975a3b83b2"
      },
      "outputs": [
        {
          "name": "stdout",
          "output_type": "stream",
          "text": [
            "Enter the length of list5\n",
            "Enter the elements of list1\n",
            "Enter the elements of list2\n",
            "Enter the elements of list3\n",
            "Enter the elements of list4\n",
            "Enter the elements of list5\n"
          ]
        },
        {
          "data": {
            "text/plain": [
              "120"
            ]
          },
          "execution_count": 9,
          "metadata": {},
          "output_type": "execute_result"
        }
      ],
      "source": [
        "from functools import reduce\n",
        "def lst():\n",
        "  '''Function to find the product of elements of list'''\n",
        "  x=int(input(\"Enter the length of list\"))\n",
        "\n",
        "  m=[]\n",
        "  for i in range(x):\n",
        "    y=int(input(\"Enter the elements of list\"))\n",
        "    m.append(y)\n",
        "  f=reduce(lambda a,b: a*b,m)\n",
        "  return f\n",
        "lst()"
      ]
    },
    {
      "cell_type": "markdown",
      "metadata": {
        "id": "QTwfQFJjB3av"
      },
      "source": [
        "Q3.\tWrite a Python program to find smallest number in a list?"
      ]
    },
    {
      "cell_type": "code",
      "execution_count": null,
      "metadata": {
        "colab": {
          "base_uri": "https://localhost:8080/"
        },
        "id": "LorhhJWTBqnO",
        "outputId": "e4fc940e-1187-4b14-c21c-c0d8a6fff755"
      },
      "outputs": [
        {
          "name": "stdout",
          "output_type": "stream",
          "text": [
            "Enter the length of list5\n",
            "Enter the elements of list1\n",
            "Enter the elements of list4\n",
            "Enter the elements of list2\n",
            "Enter the elements of list9\n",
            "Enter the elements of list18\n"
          ]
        },
        {
          "data": {
            "text/plain": [
              "1"
            ]
          },
          "execution_count": 12,
          "metadata": {},
          "output_type": "execute_result"
        }
      ],
      "source": [
        "def lst():\n",
        "  '''function to find the smallest number in the list'''\n",
        "  x=int(input(\"Enter the length of list\"))\n",
        "\n",
        "  m=[]\n",
        "  for i in range(x):\n",
        "    y=int(input(\"Enter the elements of list\"))\n",
        "    m.append(y)\n",
        "  m.sort()\n",
        "  return m[0]\n",
        "\n",
        "lst()\n"
      ]
    },
    {
      "cell_type": "markdown",
      "metadata": {
        "id": "gR9UFVevCyEo"
      },
      "source": [
        "Q4.\tWrite a Python program to find largest number in a list?"
      ]
    },
    {
      "cell_type": "code",
      "execution_count": null,
      "metadata": {
        "colab": {
          "base_uri": "https://localhost:8080/"
        },
        "id": "uQzOBsE2Cg3h",
        "outputId": "bd8c0233-e016-4a63-83de-ccfe17c9b069"
      },
      "outputs": [
        {
          "name": "stdout",
          "output_type": "stream",
          "text": [
            "Enter the length of list5\n",
            "Enter the elements of list1\n",
            "Enter the elements of list8\n",
            "Enter the elements of list10\n",
            "Enter the elements of list2\n",
            "Enter the elements of list3\n"
          ]
        },
        {
          "data": {
            "text/plain": [
              "10"
            ]
          },
          "execution_count": 13,
          "metadata": {},
          "output_type": "execute_result"
        }
      ],
      "source": [
        "def lst():\n",
        "  '''function to find the greatest number in the list'''\n",
        "  x=int(input(\"Enter the length of list\"))\n",
        "\n",
        "  m=[]\n",
        "  for i in range(x):\n",
        "    y=int(input(\"Enter the elements of list\"))\n",
        "    m.append(y)\n",
        "  m.sort()\n",
        "  return m[-1]\n",
        "\n",
        "lst()"
      ]
    },
    {
      "cell_type": "markdown",
      "metadata": {
        "id": "Kn4-LZmsDEtF"
      },
      "source": [
        "Q5.\tWrite a Python program to find second largest number in a list?"
      ]
    },
    {
      "cell_type": "code",
      "execution_count": null,
      "metadata": {
        "id": "lw2qK7Q1DArJ"
      },
      "outputs": [],
      "source": [
        "def lst():\n",
        "  '''function to find the second largest number in the list'''\n",
        "  x=int(input(\"Enter the length of list\"))\n",
        "\n",
        "  m=[]\n",
        "  for i in range(x):\n",
        "    y=int(input(\"Enter the elements of list\"))\n",
        "    m.append(y)\n",
        "  m.sort()\n",
        "  return m[-2]\n",
        "\n",
        "lst()"
      ]
    },
    {
      "cell_type": "markdown",
      "metadata": {
        "id": "hYaSukZXDPx1"
      },
      "source": [
        "Q6.\tWrite a Python program to find N largest elements from a list?"
      ]
    },
    {
      "cell_type": "code",
      "execution_count": null,
      "metadata": {
        "colab": {
          "base_uri": "https://localhost:8080/"
        },
        "id": "sgRfWsenDbFy",
        "outputId": "40bad1ea-f3d9-4868-c714-2c28ba41f5a6"
      },
      "outputs": [
        {
          "name": "stdout",
          "output_type": "stream",
          "text": [
            "Enter the length of list3\n",
            "Enter the elements of list1\n",
            "Enter the elements of list2\n",
            "Enter the elements of list3\n",
            "Enter the value of N2\n"
          ]
        },
        {
          "data": {
            "text/plain": [
              "[3, 2]"
            ]
          },
          "execution_count": 18,
          "metadata": {},
          "output_type": "execute_result"
        }
      ],
      "source": [
        "def lst():\n",
        "  '''function to find the N largest elements from the list'''\n",
        "  x=int(input(\"Enter the length of list\"))\n",
        "\n",
        "  m=[]\n",
        "  for i in range(x):\n",
        "    y=int(input(\"Enter the elements of list\"))\n",
        "    m.append(y)\n",
        "  m.sort()\n",
        "  N=int(input(\"Enter the value of N\"))\n",
        "  return m[-1:-(N+1):-1]\n",
        "lst()\n"
      ]
    },
    {
      "cell_type": "markdown",
      "metadata": {
        "id": "DiT5PHqnHQuf"
      },
      "source": [
        "Q7. \tWrite a Python program to print even numbers in a list?\n"
      ]
    },
    {
      "cell_type": "code",
      "execution_count": null,
      "metadata": {
        "colab": {
          "base_uri": "https://localhost:8080/"
        },
        "id": "NrHCRRS_Fz7P",
        "outputId": "b3f275e2-1839-46fa-e1c3-2e0e3c97f837"
      },
      "outputs": [
        {
          "name": "stdout",
          "output_type": "stream",
          "text": [
            "Enter the length of list5\n",
            "Enter the elements of list1\n",
            "Enter the elements of list2\n",
            "Enter the elements of list3\n",
            "Enter the elements of list4\n",
            "Enter the elements of list5\n"
          ]
        },
        {
          "data": {
            "text/plain": [
              "[2, 4]"
            ]
          },
          "execution_count": 19,
          "metadata": {},
          "output_type": "execute_result"
        }
      ],
      "source": [
        "def lst():\n",
        "  '''function to find the even elements from the list'''\n",
        "  x=int(input(\"Enter the length of list\"))\n",
        "\n",
        "  m=[]\n",
        "  for i in range(x):\n",
        "    y=int(input(\"Enter the elements of list\"))\n",
        "    m.append(y)\n",
        "  f= list(filter(lambda m:m%2==0,m))\n",
        "  return f\n",
        "\n",
        "lst()"
      ]
    },
    {
      "cell_type": "markdown",
      "metadata": {
        "id": "2DM5DAucHzdA"
      },
      "source": [
        "Q8.\tWrite a Python program to print odd numbers in a List?"
      ]
    },
    {
      "cell_type": "code",
      "execution_count": null,
      "metadata": {
        "colab": {
          "base_uri": "https://localhost:8080/"
        },
        "id": "ApufQe5THsZk",
        "outputId": "5b69414d-96cd-4a88-feff-47f2d9e3479d"
      },
      "outputs": [
        {
          "name": "stdout",
          "output_type": "stream",
          "text": [
            "Enter the length of list5\n",
            "Enter the elements of list1\n",
            "Enter the elements of list2\n",
            "Enter the elements of list3\n",
            "Enter the elements of list4\n",
            "Enter the elements of list5\n"
          ]
        },
        {
          "data": {
            "text/plain": [
              "[1, 3, 5]"
            ]
          },
          "execution_count": 20,
          "metadata": {},
          "output_type": "execute_result"
        }
      ],
      "source": [
        "def lst():\n",
        "  '''function to find the odd elements from the list'''\n",
        "  x=int(input(\"Enter the length of list\"))\n",
        "\n",
        "  m=[]\n",
        "  for i in range(x):\n",
        "    y=int(input(\"Enter the elements of list\"))\n",
        "    m.append(y)\n",
        "  f= list(filter(lambda m:m%2!=0,m))\n",
        "  return f\n",
        "\n",
        "lst()"
      ]
    },
    {
      "cell_type": "markdown",
      "metadata": {
        "id": "A8K_AuxRIB1M"
      },
      "source": [
        "Q9.\tWrite a Python program to Remove empty List from List?"
      ]
    },
    {
      "cell_type": "code",
      "execution_count": 9,
      "metadata": {
        "id": "0su6QZMmfjGk",
        "colab": {
          "base_uri": "https://localhost:8080/"
        },
        "outputId": "0e67039f-50a3-4dbf-d344-ffc7b3af4d5a"
      },
      "outputs": [
        {
          "output_type": "stream",
          "name": "stdout",
          "text": [
            "[1, 2, 3, 5, 4]\n"
          ]
        }
      ],
      "source": [
        "l=[1,2,[],3,[],5,4,[]]\n",
        "f=[i for i in l if i!=[]]\n",
        "print(f)"
      ]
    },
    {
      "cell_type": "markdown",
      "metadata": {
        "id": "MpCiyHTYoY-2"
      },
      "source": [
        "Q10.\tWrite a Python program to Cloning or Copying a list?"
      ]
    },
    {
      "cell_type": "code",
      "execution_count": null,
      "metadata": {
        "colab": {
          "background_save": true,
          "base_uri": "https://localhost:8080/"
        },
        "id": "_pzYdWrLofD4",
        "outputId": "d1eb3765-0896-49b4-b84a-cd80a7fc6308"
      },
      "outputs": [
        {
          "name": "stdout",
          "output_type": "stream",
          "text": [
            "[1]\n"
          ]
        }
      ],
      "source": [
        "def lst():\n",
        "  '''function to find the odd elements from the list'''\n",
        "  x=int(input(\"Enter the length of list\"))\n",
        "\n",
        "  m=[]\n",
        "  for i in range(x):\n",
        "    y=int(input(\"Enter the elements of list\"))\n",
        "    m.append(y)\n",
        "  print(m)\n",
        "  f=m.copy()\n",
        "  return f\n",
        "lst()"
      ]
    },
    {
      "cell_type": "markdown",
      "metadata": {
        "id": "wyzKF3R5ofj4"
      },
      "source": [
        "Q11.\tWrite a Python program to Count occurrences of an element in a list?"
      ]
    },
    {
      "cell_type": "code",
      "execution_count": 3,
      "metadata": {
        "id": "MVhzalMTpkp2",
        "colab": {
          "base_uri": "https://localhost:8080/"
        },
        "outputId": "65805079-e288-4389-f4be-ed99f55f7b23"
      },
      "outputs": [
        {
          "name": "stdout",
          "output_type": "stream",
          "text": [
            "Enter the length of list5\n",
            "Enter some repetitive elements in the list1\n",
            "Enter some repetitive elements in the list2\n",
            "Enter some repetitive elements in the list2\n",
            "Enter some repetitive elements in the list2\n",
            "Enter some repetitive elements in the list3\n",
            "Enter the elements that you want to find the occurance of: 2\n"
          ]
        },
        {
          "output_type": "execute_result",
          "data": {
            "text/plain": [
              "3"
            ]
          },
          "metadata": {},
          "execution_count": 3
        }
      ],
      "source": [
        "def lst():\n",
        "  '''function is used to find out the count occurence of an element in a list'''\n",
        "  x=int(input(\"Enter the length of list\"))\n",
        "\n",
        "  m=[]\n",
        "  for i in range(x):\n",
        "    y=int(input(\"Enter some repetitive elements in the list\"))\n",
        "    m.append(y)\n",
        "  z=int(input(\"Enter the elements that you want to find the occurance of: \"))\n",
        "  count=0\n",
        "  for i in range(x):\n",
        "    if z == m[i]:\n",
        "      count+=1\n",
        "  return count\n",
        "      \n",
        "  # return m.count(z)\n",
        "\n",
        "  \n",
        "lst()\n"
      ]
    },
    {
      "cell_type": "code",
      "source": [
        "l=[1,2,2,2,3,4]\n",
        "l.count(2)"
      ],
      "metadata": {
        "colab": {
          "base_uri": "https://localhost:8080/"
        },
        "id": "wwIlG1uz6lJQ",
        "outputId": "1ec1345e-f666-40fe-f17c-4c0ef27ab434"
      },
      "execution_count": 1,
      "outputs": [
        {
          "output_type": "execute_result",
          "data": {
            "text/plain": [
              "3"
            ]
          },
          "metadata": {},
          "execution_count": 1
        }
      ]
    },
    {
      "cell_type": "code",
      "source": [
        ""
      ],
      "metadata": {
        "id": "kokIdBkh6oNN"
      },
      "execution_count": null,
      "outputs": []
    }
  ],
  "metadata": {
    "colab": {
      "name": "ProgrammingAssignment_10.ipynb",
      "provenance": []
    },
    "kernelspec": {
      "display_name": "Python 3",
      "name": "python3"
    },
    "language_info": {
      "name": "python"
    }
  },
  "nbformat": 4,
  "nbformat_minor": 0
}
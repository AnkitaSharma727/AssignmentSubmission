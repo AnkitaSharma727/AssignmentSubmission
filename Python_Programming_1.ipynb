{
  "nbformat": 4,
  "nbformat_minor": 0,
  "metadata": {
    "colab": {
      "name": "Python Programming 1.ipynb",
      "provenance": []
    },
    "kernelspec": {
      "name": "python3",
      "display_name": "Python 3"
    },
    "language_info": {
      "name": "python"
    }
  },
  "cells": [
    {
      "cell_type": "markdown",
      "source": [
        "1. Write a code to print \"Hello World\"?\n",
        "\n"
      ],
      "metadata": {
        "id": "eWk8NLFdBsMk"
      }
    },
    {
      "cell_type": "code",
      "execution_count": null,
      "metadata": {
        "colab": {
          "base_uri": "https://localhost:8080/"
        },
        "id": "sgqJUImbBG9v",
        "outputId": "4884440a-312a-4c35-decb-c26932aadb4a"
      },
      "outputs": [
        {
          "output_type": "stream",
          "name": "stdout",
          "text": [
            "Hello World\n"
          ]
        }
      ],
      "source": [
        "print(\"Hello World\")"
      ]
    },
    {
      "cell_type": "markdown",
      "source": [
        "2. Write a python program to do arithmetical operations addition and division?"
      ],
      "metadata": {
        "id": "HYDieYG9CHcM"
      }
    },
    {
      "cell_type": "code",
      "source": [
        "a = int(input(\"Enter the 1st Value\"))\n",
        "b = int(input(\"Enter the 2nd Value\"))\n",
        "c = a+b \n",
        "d = a/b\n",
        "print(c)\n",
        "print(d)\n",
        "\n"
      ],
      "metadata": {
        "colab": {
          "base_uri": "https://localhost:8080/"
        },
        "id": "Rci2wMxgCNK9",
        "outputId": "3d9434ba-f0e6-450f-ff9d-06db9b4dc039"
      },
      "execution_count": null,
      "outputs": [
        {
          "output_type": "stream",
          "name": "stdout",
          "text": [
            "Enter the 1st Value1\n",
            "Enter the 2nd Value2\n",
            "3\n",
            "0.5\n"
          ]
        }
      ]
    },
    {
      "cell_type": "markdown",
      "source": [
        "3.\tWrite a Python program to find the area of a triangle?"
      ],
      "metadata": {
        "id": "raX3uBmTCpAS"
      }
    },
    {
      "cell_type": "code",
      "source": [
        "from math import *\n",
        "a = int(input(\"Enter the Value of Side 1\"))\n",
        "b = int(input(\"Enter the Value of Side 2\"))\n",
        "c= int(input(\"Enter the Value of Side 3\"))\n",
        "s = (a+b+c)/2\n",
        "A = sqrt(s*(s-a)*(s-b)*(s-c))\n",
        "print(A)"
      ],
      "metadata": {
        "colab": {
          "base_uri": "https://localhost:8080/"
        },
        "id": "XFFpblfpCyDx",
        "outputId": "b26aea17-0425-4ebf-cb2a-82e4ebbc6f62"
      },
      "execution_count": null,
      "outputs": [
        {
          "output_type": "stream",
          "name": "stdout",
          "text": [
            "Enter the Value of Side 14\n",
            "Enter the Value of Side 26\n",
            "Enter the Value of Side 38\n",
            "11.61895003862225\n"
          ]
        }
      ]
    },
    {
      "cell_type": "markdown",
      "source": [
        "4.\tWrite a Python program to swap two variables?"
      ],
      "metadata": {
        "id": "iPaEuPAZDxfr"
      }
    },
    {
      "cell_type": "code",
      "source": [
        "a = int(input(\"Enter the 1st Value\"))\n",
        "b = int(input(\"Enter the 2nd Value\"))\n",
        "temp = a\n",
        "a = b\n",
        "b= temp\n",
        "print(a)\n",
        "print(b)"
      ],
      "metadata": {
        "colab": {
          "base_uri": "https://localhost:8080/"
        },
        "id": "i2aEmYZIDy4i",
        "outputId": "fab82481-22e8-4350-db18-a0f8ce11c7d5"
      },
      "execution_count": null,
      "outputs": [
        {
          "output_type": "stream",
          "name": "stdout",
          "text": [
            "Enter the 1st Value2\n",
            "Enter the 2nd Value3\n",
            "3\n",
            "2\n"
          ]
        }
      ]
    },
    {
      "cell_type": "markdown",
      "source": [
        ""
      ],
      "metadata": {
        "id": "kD6VautbJMwe"
      }
    },
    {
      "cell_type": "code",
      "source": [
        "5.\tWrite a Python program to generate a random number?"
      ],
      "metadata": {
        "id": "YhIcMfVwEHOK"
      },
      "execution_count": null,
      "outputs": []
    },
    {
      "cell_type": "code",
      "source": [
        "import random \n",
        "n= random.random()\n",
        "print(n)"
      ],
      "metadata": {
        "colab": {
          "base_uri": "https://localhost:8080/"
        },
        "id": "7U-D_Ld8HbQA",
        "outputId": "33a97cd1-2214-40f2-c6d9-3f0b055179f2"
      },
      "execution_count": null,
      "outputs": [
        {
          "output_type": "stream",
          "name": "stdout",
          "text": [
            "0.6850315581020431\n"
          ]
        }
      ]
    },
    {
      "cell_type": "code",
      "source": [
        ""
      ],
      "metadata": {
        "id": "4C6i8bJEHkzJ"
      },
      "execution_count": null,
      "outputs": []
    }
  ]
}
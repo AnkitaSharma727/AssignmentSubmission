{
  "nbformat": 4,
  "nbformat_minor": 0,
  "metadata": {
    "colab": {
      "name": "Programming_Assignment8.ipynb",
      "provenance": []
    },
    "kernelspec": {
      "name": "python3",
      "display_name": "Python 3"
    },
    "language_info": {
      "name": "python"
    }
  },
  "cells": [
    {
      "cell_type": "markdown",
      "source": [
        "Q1.\tWrite a Python Program to Add Two Matrices?"
      ],
      "metadata": {
        "id": "PR53Lkl8BfqE"
      }
    },
    {
      "cell_type": "code",
      "execution_count": 7,
      "metadata": {
        "colab": {
          "base_uri": "https://localhost:8080/"
        },
        "id": "sDA9OVEh1_Rg",
        "outputId": "64d8b3c9-7fe7-444f-f2ea-3c9ae975afe3"
      },
      "outputs": [
        {
          "output_type": "stream",
          "name": "stdout",
          "text": [
            "[4, 4, 4]\n",
            "[10, 12, 9]\n",
            "[14, 16, 18]\n"
          ]
        }
      ],
      "source": [
        "X = [[1,2,3],\n",
        "    [4 ,5,6],\n",
        "    [7 ,8,9]]\n",
        "\n",
        "Y = [[3,2,1],\n",
        "    [6,7,3],\n",
        "    [7,8,9]]\n",
        "\n",
        "result = [[X[i][j] + Y[i][j]  for j in range(len(X[0]))] for i in range(len(X))]\n",
        "\n",
        "for r in result:\n",
        "   print(r)"
      ]
    },
    {
      "cell_type": "markdown",
      "source": [
        "Q2. Write a Python Program to Multiply Two Matrices?"
      ],
      "metadata": {
        "id": "kRyfdRUXBro-"
      }
    },
    {
      "cell_type": "code",
      "source": [
        " X = [[12,7,3],\n",
        "    [4 ,5,6],\n",
        "    [7 ,8,9]]\n",
        "\n",
        "Y = [[5,8,1,2],\n",
        "    [6,7,3,0],\n",
        "    [4,5,9,1]]\n",
        "\n",
        "result = [[0,0,0,0],\n",
        "         [0,0,0,0],\n",
        "         [0,0,0,0]]\n",
        "\n",
        "for i in range(len(X)):\n",
        "   \n",
        "   for j in range(len(Y[0])):\n",
        "     \n",
        "       for k in range(len(Y)):\n",
        "           result[i][j] += X[i][k] * Y[k][j]\n",
        "\n",
        "for r in result:\n",
        "   print(r)"
      ],
      "metadata": {
        "id": "lEiyP_KD2Ol-",
        "colab": {
          "base_uri": "https://localhost:8080/"
        },
        "outputId": "4e9942a6-6547-490d-9a64-8a61489a4bd1"
      },
      "execution_count": 9,
      "outputs": [
        {
          "output_type": "stream",
          "name": "stdout",
          "text": [
            "[114, 160, 60, 27]\n",
            "[74, 97, 73, 14]\n",
            "[119, 157, 112, 23]\n"
          ]
        }
      ]
    },
    {
      "cell_type": "markdown",
      "source": [
        "Q3.\tWrite a Python Program to Transpose a Matrix?"
      ],
      "metadata": {
        "id": "UaLLAHfaBeVC"
      }
    },
    {
      "cell_type": "code",
      "source": [
        "X = [[1,2],\n",
        "    [3,4],\n",
        "    [5,6]]\n",
        "\n",
        "result = [[0,0,0],\n",
        "         [0,0,0]]\n",
        "\n",
        "for i in range(len(X)):\n",
        "  for j in range(len(X[0])):\n",
        "       result[j][i] = X[i][j]\n",
        "\n",
        "for r in result:\n",
        "   print(r)"
      ],
      "metadata": {
        "colab": {
          "base_uri": "https://localhost:8080/"
        },
        "id": "JR4ck8tlCgu7",
        "outputId": "8a1e923c-46e3-436f-cde6-a279a8cdf970"
      },
      "execution_count": 13,
      "outputs": [
        {
          "output_type": "stream",
          "name": "stdout",
          "text": [
            "[1, 3, 5]\n",
            "[2, 4, 6]\n"
          ]
        }
      ]
    },
    {
      "cell_type": "markdown",
      "source": [
        "Q4.\tWrite a Python Program to Sort Words in Alphabetic Order?"
      ],
      "metadata": {
        "id": "FcsTp5OaChNu"
      }
    },
    {
      "cell_type": "code",
      "source": [
        "my_str = \"Peacocks are dancing in the rain while other animals are escaping\"\n",
        "\n",
        "\n",
        "words = [word.lower() for word in my_str.split()]\n",
        "\n",
        "\n",
        "words.sort()\n",
        "\n",
        "print(\"The sorted words are:\")\n",
        "for word in words:\n",
        "   print(word)"
      ],
      "metadata": {
        "colab": {
          "base_uri": "https://localhost:8080/"
        },
        "id": "Bmzo3Nx0C7JL",
        "outputId": "279b7744-9626-4837-9f3e-b159e471fb03"
      },
      "execution_count": 12,
      "outputs": [
        {
          "output_type": "stream",
          "name": "stdout",
          "text": [
            "The sorted words are:\n",
            "animals\n",
            "are\n",
            "are\n",
            "dancing\n",
            "escaping\n",
            "in\n",
            "other\n",
            "peacocks\n",
            "rain\n",
            "the\n",
            "while\n"
          ]
        }
      ]
    },
    {
      "cell_type": "markdown",
      "source": [
        "Q5.\tWrite a Python Program to Remove Punctuation From a String?"
      ],
      "metadata": {
        "id": "xV-RPaqiDFsv"
      }
    },
    {
      "cell_type": "code",
      "source": [
        "punctuations = '''!()-[]{};:'\"\\,<>./?@#$%^&*_~'''\n",
        "\n",
        "my_str = input(\"Enter a string with punctuations: \")\n",
        "\n",
        "no_punct = \"\"\n",
        "for char in my_str:\n",
        "   if char not in punctuations:\n",
        "       no_punct = no_punct + char\n",
        "\n",
        "print(no_punct)"
      ],
      "metadata": {
        "colab": {
          "base_uri": "https://localhost:8080/"
        },
        "id": "la6FKcLcDC6N",
        "outputId": "845c71b0-658b-4af0-abc2-dd01c7780256"
      },
      "execution_count": 14,
      "outputs": [
        {
          "output_type": "stream",
          "name": "stdout",
          "text": [
            "Enter a string with punctuations: Hello><)(!, Hi@#$% How$%^are%^&you??\n",
            "Hello Hi Howareyou\n"
          ]
        }
      ]
    },
    {
      "cell_type": "code",
      "source": [
        ""
      ],
      "metadata": {
        "id": "OUJw5cxFD0qq"
      },
      "execution_count": null,
      "outputs": []
    }
  ]
}
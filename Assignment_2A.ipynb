{
  "nbformat": 4,
  "nbformat_minor": 0,
  "metadata": {
    "colab": {
      "name": "Assignment_2A.ipynb",
      "provenance": []
    },
    "kernelspec": {
      "name": "python3",
      "display_name": "Python 3"
    },
    "language_info": {
      "name": "python"
    }
  },
  "cells": [
    {
      "cell_type": "markdown",
      "source": [
        "Q1. What is the relationship between classes and modules?"
      ],
      "metadata": {
        "id": "yiiIyhJ6p01a"
      }
    },
    {
      "cell_type": "markdown",
      "source": [
        "Sol: Modules are collections of methods and constants. They cannot generate instances. Classes may generate instances (objects), and have per-instance state (instance variables)."
      ],
      "metadata": {
        "id": "xx4VDurvqOjC"
      }
    },
    {
      "cell_type": "markdown",
      "source": [
        "Q2. How do you make instances and classes?"
      ],
      "metadata": {
        "id": "J5qWqY1gp4K2"
      }
    },
    {
      "cell_type": "markdown",
      "source": [
        "Sol: Instances are the objects of classes.\n",
        "Eg: class car:\n",
        "      def name(self):\n",
        "          self.color = \"Blue\"'\n",
        "          self.wheel = 4\n",
        "    BMW=car()\n",
        "  \n",
        "Here car is a class while BMW is the object of the class."
      ],
      "metadata": {
        "id": "K7aI6QMGqhVs"
      }
    },
    {
      "cell_type": "markdown",
      "source": [
        "Q3. Where and how should be class attributes created?"
      ],
      "metadata": {
        "id": "SlvsGkmDp6yS"
      }
    },
    {
      "cell_type": "markdown",
      "source": [
        "Sol: Class attributes are attributes which are owned by the class itself. They will be shared by all the instances of the class. Therefore they have the same value for every instance."
      ],
      "metadata": {
        "id": "2Guwr2haq-kB"
      }
    },
    {
      "cell_type": "markdown",
      "source": [
        "Q4. Where and how are instance attributes created?"
      ],
      "metadata": {
        "id": "svPCLtzzp9KN"
      }
    },
    {
      "cell_type": "markdown",
      "source": [
        "Sol: Instance attributes are defined in the constructor. Defined directly inside a class. Defined inside a constructor using the self parameter."
      ],
      "metadata": {
        "id": "DnFDyC-mQPSO"
      }
    },
    {
      "cell_type": "markdown",
      "source": [
        "Q5. What does the term \"self\" in a Python class mean?"
      ],
      "metadata": {
        "id": "OcG2alqwp_t2"
      }
    },
    {
      "cell_type": "markdown",
      "source": [
        "Sol: \"Self\" in python is used as a refrence. \n",
        "By using the “self” keyword we can access the attributes and methods of the class in python. It binds the attributes with the given arguments. "
      ],
      "metadata": {
        "id": "Nqhn7oTzQRYU"
      }
    },
    {
      "cell_type": "markdown",
      "source": [
        "Q6. How does a Python class handle operator overloading?"
      ],
      "metadata": {
        "id": "h9oiHOsaqB-h"
      }
    },
    {
      "cell_type": "markdown",
      "source": [
        "Sol: Python operators work for built-in classes. But the same operator behaves differently with different types.\n",
        "Ex: The + operator will perform arithmetic addition on two numbers, merge two lists, or concatenate two strings."
      ],
      "metadata": {
        "id": "aW0qYss9QrfR"
      }
    },
    {
      "cell_type": "markdown",
      "source": [
        "Q7. When do you consider allowing operator overloading of your classes?"
      ],
      "metadata": {
        "id": "15KS_B39qEX-"
      }
    },
    {
      "cell_type": "markdown",
      "source": [
        "Sol: When it is required to perform different function using the same built-in function."
      ],
      "metadata": {
        "id": "S8P1k047Q4oM"
      }
    },
    {
      "cell_type": "markdown",
      "source": [
        "Q8.What is the most popular form of operator overloading?"
      ],
      "metadata": {
        "id": "UGMC-OhmqGkc"
      }
    },
    {
      "cell_type": "markdown",
      "source": [
        "Sol: Addition (+) is the most popular form of operator overloading. It can be used as arithmetic addition on two numbers, merge two lists, or concatenate two strings."
      ],
      "metadata": {
        "id": "N9P66RRqR0Pn"
      }
    },
    {
      "cell_type": "markdown",
      "source": [
        "Q9. What are the two most important concepts to grasp in order to comprehend Python OOP code?"
      ],
      "metadata": {
        "id": "QdZO6VPlqKiH"
      }
    },
    {
      "cell_type": "markdown",
      "source": [
        "Sol: Two most imortant concepts to grasp in order to comprehend Python OOP code is:\n",
        "1. Inheritence\n",
        "2. Polymorphism"
      ],
      "metadata": {
        "id": "Y3usQFQXSN8P"
      }
    }
  ]
}
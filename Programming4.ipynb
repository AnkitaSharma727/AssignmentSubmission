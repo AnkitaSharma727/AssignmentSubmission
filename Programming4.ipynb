{
  "nbformat": 4,
  "nbformat_minor": 0,
  "metadata": {
    "colab": {
      "name": "Programming4.ipynb",
      "provenance": []
    },
    "kernelspec": {
      "name": "python3",
      "display_name": "Python 3"
    },
    "language_info": {
      "name": "python"
    }
  },
  "cells": [
    {
      "cell_type": "markdown",
      "source": [
        "1. write a python program to find factorial of a number"
      ],
      "metadata": {
        "id": "TtATefOAZIsY"
      }
    },
    {
      "cell_type": "code",
      "source": [
        "n = int(input(\"Enter the value\"))\n",
        "fact=1\n",
        "for i in range(1,n+1):\n",
        "  fact = fact*i\n",
        "print(fact)"
      ],
      "metadata": {
        "colab": {
          "base_uri": "https://localhost:8080/"
        },
        "id": "-MhmMpInN7tB",
        "outputId": "77376471-03b8-4023-f78b-d9b5ca754119"
      },
      "execution_count": null,
      "outputs": [
        {
          "output_type": "stream",
          "name": "stdout",
          "text": [
            "Enter the value5\n",
            "120\n"
          ]
        }
      ]
    },
    {
      "cell_type": "markdown",
      "source": [
        "2. Write a Python program tp Display the multiplication Table?"
      ],
      "metadata": {
        "id": "iDH9V9gOQZ0t"
      }
    },
    {
      "cell_type": "code",
      "source": [
        "n = int(input(\"Enter the value\"))\n",
        "for i in range(1,11):\n",
        "  fact = n*i\n",
        "  print( n, \"*\", i ,\"=\" ,fact )"
      ],
      "metadata": {
        "colab": {
          "base_uri": "https://localhost:8080/"
        },
        "id": "Vd_RV6IFgN29",
        "outputId": "07244703-4554-4306-f8c0-3f964bc2a9ac"
      },
      "execution_count": null,
      "outputs": [
        {
          "output_type": "stream",
          "name": "stdout",
          "text": [
            "Enter the value4\n",
            "4 * 1 = 4\n",
            "4 * 2 = 8\n",
            "4 * 3 = 12\n",
            "4 * 4 = 16\n",
            "4 * 5 = 20\n",
            "4 * 6 = 24\n",
            "4 * 7 = 28\n",
            "4 * 8 = 32\n",
            "4 * 9 = 36\n",
            "4 * 10 = 40\n"
          ]
        }
      ]
    },
    {
      "cell_type": "markdown",
      "source": [
        "Q3. Write a Python program to print Fibonnaci Sequences."
      ],
      "metadata": {
        "id": "IYrw1I2BiR6z"
      }
    },
    {
      "cell_type": "code",
      "source": [
        "def fib(n):\n",
        "  a=0\n",
        "  b=1\n",
        "  print(a)\n",
        "  print(b)\n",
        "  for i in range(2,n):\n",
        "    c=a+b\n",
        "    a=b\n",
        "    b=c\n",
        "    print(c)\n",
        "    \n",
        "fib(10)"
      ],
      "metadata": {
        "id": "4wUzCYyNl5q-",
        "colab": {
          "base_uri": "https://localhost:8080/"
        },
        "outputId": "3d7758a8-791b-4f71-c4dc-d8a42ce95e2d"
      },
      "execution_count": null,
      "outputs": [
        {
          "output_type": "stream",
          "name": "stdout",
          "text": [
            "0\n",
            "1\n",
            "1\n",
            "2\n",
            "3\n",
            "5\n",
            "8\n",
            "13\n",
            "21\n",
            "34\n"
          ]
        }
      ]
    },
    {
      "cell_type": "markdown",
      "source": [
        "4. Write a program to check Armstrong Number."
      ],
      "metadata": {
        "id": "ZneVcuvcsjBt"
      }
    },
    {
      "cell_type": "code",
      "source": [
        "num=int(input(\"Enter the number\"))\n",
        "sum=0\n",
        "x=num\n",
        "while x>0:\n",
        "  digit=x%10\n",
        "  sum+=digit**3\n",
        "  x//=10\n",
        "  if sum==num:\n",
        "    print(num, \"Number is Armstrong\")\n",
        "  else:\n",
        "    print(num, \"Number is not Armstrong\")"
      ],
      "metadata": {
        "colab": {
          "base_uri": "https://localhost:8080/"
        },
        "id": "vN3b1lJs7ovQ",
        "outputId": "5012c0d4-6351-41b9-825e-b5c55139ae5a"
      },
      "execution_count": null,
      "outputs": [
        {
          "output_type": "stream",
          "name": "stdout",
          "text": [
            "Enter the number12\n",
            "12 Number is not Armstrong\n",
            "12 Number is not Armstrong\n"
          ]
        }
      ]
    },
    {
      "cell_type": "markdown",
      "source": [
        "5. Write a Python program to find Armstrong Number in an interval."
      ],
      "metadata": {
        "id": "aTmwCAYoDbJQ"
      }
    },
    {
      "cell_type": "code",
      "source": [
        "x=int(input(\"Enter the lower range\"))\n",
        "y=int(input(\"Enter the upper range\"))\n",
        "for i in (x,y+1):\n",
        "  order=len(str(i))\n",
        "  sum=0\n",
        "  a=i\n",
        "  while i>0:\n",
        "    digit=a%10\n",
        "    sum+=digit**order\n",
        "    x//=10\n",
        "  if i==sum:\n",
        "    print(i)"
      ],
      "metadata": {
        "id": "E6qBnL35Dl0w"
      },
      "execution_count": null,
      "outputs": []
    },
    {
      "cell_type": "markdown",
      "source": [
        "6. Write a Python program to find the sum of Natural numbers?"
      ],
      "metadata": {
        "id": "AHqqjMvaZI5_"
      }
    },
    {
      "cell_type": "code",
      "source": [
        "n = int(input(\"Enter the value of last number\"))\n",
        "if n >0:\n",
        "  S = 0\n",
        "  while (n>0):\n",
        "    S+=n\n",
        "    n-=1\n",
        "print(S)"
      ],
      "metadata": {
        "colab": {
          "base_uri": "https://localhost:8080/"
        },
        "id": "Q7P8K_CEZSJy",
        "outputId": "16c40685-e9cb-4fc3-c86d-5621ed1ff6b6"
      },
      "execution_count": null,
      "outputs": [
        {
          "output_type": "stream",
          "name": "stdout",
          "text": [
            "Enter the value of last number16\n",
            "136\n"
          ]
        }
      ]
    },
    {
      "cell_type": "code",
      "source": [
        ""
      ],
      "metadata": {
        "id": "zUlx5cQAZjGH"
      },
      "execution_count": null,
      "outputs": []
    }
  ]
}
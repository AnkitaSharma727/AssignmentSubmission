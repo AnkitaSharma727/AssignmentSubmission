{
  "nbformat": 4,
  "nbformat_minor": 0,
  "metadata": {
    "colab": {
      "name": "Python Programming2.ipynb",
      "provenance": []
    },
    "kernelspec": {
      "name": "python3",
      "display_name": "Python 3"
    },
    "language_info": {
      "name": "python"
    }
  },
  "cells": [
    {
      "cell_type": "markdown",
      "source": [
        "1. Write a Python program to convert kilometers in miles.\n"
      ],
      "metadata": {
        "id": "8pRNlkiQJPda"
      }
    },
    {
      "cell_type": "code",
      "source": [
        "a = int(input(\"Enter the Value in kilometers : \"))\n",
        "b = a * .621 \n",
        "print(b)"
      ],
      "metadata": {
        "colab": {
          "base_uri": "https://localhost:8080/"
        },
        "id": "7vg2TuO_JeSl",
        "outputId": "14878c9e-fcf6-477e-b1f0-06184aa6e85e"
      },
      "execution_count": null,
      "outputs": [
        {
          "output_type": "stream",
          "name": "stdout",
          "text": [
            "Enter the Value in kilometers : 4\n",
            "2.484\n"
          ]
        }
      ]
    },
    {
      "cell_type": "markdown",
      "source": [
        "2. Write a Python program to convert Celsius to Fahrenheit."
      ],
      "metadata": {
        "id": "4dzfWcYEKNvU"
      }
    },
    {
      "cell_type": "code",
      "source": [
        "a = int(input(\"Enter the Value in Celcius : \"))\n",
        "b = ((a*9)/5)+32\n",
        "print(b)"
      ],
      "metadata": {
        "colab": {
          "base_uri": "https://localhost:8080/"
        },
        "id": "a2tddagPJqp6",
        "outputId": "7514dd4e-baa7-4787-e744-13c9c1ec88ad"
      },
      "execution_count": null,
      "outputs": [
        {
          "output_type": "stream",
          "name": "stdout",
          "text": [
            "Enter the Value in Celcius : 5\n",
            "41.0\n"
          ]
        }
      ]
    },
    {
      "cell_type": "code",
      "source": [
        ""
      ],
      "metadata": {
        "id": "0_DI8LpEKjV_"
      },
      "execution_count": null,
      "outputs": []
    },
    {
      "cell_type": "markdown",
      "source": [
        "3. Write a program to display calendar?\n"
      ],
      "metadata": {
        "id": "9HzEpm7jLMPJ"
      }
    },
    {
      "cell_type": "code",
      "source": [
        "from calendar import *\n",
        "a = int(input(\"Enter the year: \"))\n",
        "b = int(input(\"Enter the month\"))\n",
        "print(month(a,b))"
      ],
      "metadata": {
        "colab": {
          "base_uri": "https://localhost:8080/"
        },
        "id": "57zRplqtOOP2",
        "outputId": "52d15d44-4092-4691-a4c6-155f0379fe80"
      },
      "execution_count": null,
      "outputs": [
        {
          "output_type": "stream",
          "name": "stdout",
          "text": [
            "Enter the year: 2021\n",
            "Enter the month12\n",
            "   December 2021\n",
            "Mo Tu We Th Fr Sa Su\n",
            "       1  2  3  4  5\n",
            " 6  7  8  9 10 11 12\n",
            "13 14 15 16 17 18 19\n",
            "20 21 22 23 24 25 26\n",
            "27 28 29 30 31\n",
            "\n"
          ]
        }
      ]
    },
    {
      "cell_type": "code",
      "source": [
        ""
      ],
      "metadata": {
        "id": "ySim-XRVOUai"
      },
      "execution_count": null,
      "outputs": []
    },
    {
      "cell_type": "markdown",
      "source": [
        "4. Write a Python program to solve Quadratic Equation?\n"
      ],
      "metadata": {
        "id": "XqbA62miPTMC"
      }
    },
    {
      "cell_type": "code",
      "source": [
        "from cmath import *\n",
        "a = int(input(\"Enter the a : \"))\n",
        "b = int(input(\"Enter the b : \"))\n",
        "c = int(input(\"Enter the c : \"))\n",
        "d = ((b**2)-4*a*c)\n",
        "Root1= (-b + sqrt(d))/(2*a)\n",
        "Root2= (-b - sqrt(d))/(2*a)\n",
        "print(\"Root 1 : \", Root1)\n",
        "print(\"Root 2 : \", Root2)"
      ],
      "metadata": {
        "id": "b1NiSC8WS2nZ",
        "colab": {
          "base_uri": "https://localhost:8080/"
        },
        "outputId": "4ab3a405-906e-4a59-da2d-1c9bf4fccb34"
      },
      "execution_count": 6,
      "outputs": [
        {
          "output_type": "stream",
          "name": "stdout",
          "text": [
            "Enter the a : 1\n",
            "Enter the b : 5\n",
            "Enter the c : 6\n",
            "Root 1 :  (-2+0j)\n",
            "Root 2 :  (-3+0j)\n"
          ]
        }
      ]
    },
    {
      "cell_type": "markdown",
      "source": [
        "5. Write a Python program to swap two variables without temp variable?\n"
      ],
      "metadata": {
        "id": "iuEQ7AqqVEuz"
      }
    },
    {
      "cell_type": "code",
      "source": [
        "a = int(input(\"Enter the 1st Number : \"))\n",
        "b = int(input(\"Enter the 2nd Number : \"))\n",
        "a,b = b,a\n",
        "print(a)\n",
        "print(b)"
      ],
      "metadata": {
        "id": "H9OERU2IVXt4"
      },
      "execution_count": null,
      "outputs": []
    },
    {
      "cell_type": "code",
      "source": [
        ""
      ],
      "metadata": {
        "id": "oYHOPwswVh37"
      },
      "execution_count": null,
      "outputs": []
    }
  ]
}
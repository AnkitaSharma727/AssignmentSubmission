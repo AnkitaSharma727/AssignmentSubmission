{
  "nbformat": 4,
  "nbformat_minor": 0,
  "metadata": {
    "colab": {
      "name": "Assignment_3.ipynb",
      "provenance": []
    },
    "kernelspec": {
      "name": "python3",
      "display_name": "Python 3"
    },
    "language_info": {
      "name": "python"
    }
  },
  "cells": [
    {
      "cell_type": "markdown",
      "source": [
        "Q1. Why are functions advantageous to have in your program?"
      ],
      "metadata": {
        "id": "KP-TZtS_iFY-"
      }
    },
    {
      "cell_type": "markdown",
      "source": [
        "Sol : Functions reduce the need for duplicate code. This makes program shorter, easier to read and easier to update. A function call is what moves the program execution into the function, and the function call evaluates to the function's return value. "
      ],
      "metadata": {
        "id": "O0AlVcs_iOdA"
      }
    },
    {
      "cell_type": "markdown",
      "source": [
        "Q2. When does the code is a function run: when it's specified or when it is called? "
      ],
      "metadata": {
        "id": "6kccNG2iqmVL"
      }
    },
    {
      "cell_type": "markdown",
      "source": [
        "Sol: When the function is called , the function runs."
      ],
      "metadata": {
        "id": "UO1aWkWZq2vB"
      }
    },
    {
      "cell_type": "markdown",
      "source": [
        "Q3. What statement creates a function?\n"
      ],
      "metadata": {
        "id": "qfOYofFWrSp0"
      }
    },
    {
      "cell_type": "markdown",
      "source": [
        "Sol : A funtion is created by the **def** keyword. And is followed by the function name. The function name is then followed by the arguments enclosed in the round brackets and then the colon.\n",
        "The statements in the block of function must be indented. And lastly, it is called for its execution. \n",
        "\n",
        "\n"
      ],
      "metadata": {
        "id": "d7ZidcNrrZYL"
      }
    },
    {
      "cell_type": "markdown",
      "source": [
        "Q4. What is the difference between function and a function call?"
      ],
      "metadata": {
        "id": "sbPh-LnIvdDh"
      }
    },
    {
      "cell_type": "markdown",
      "source": [
        "Sol : Function : A function is a block of organized, reusable code that is used to perform a single and related action.\n",
        "A function is a procedure to get the particular result while calling a function means achiving the function for that task. "
      ],
      "metadata": {
        "id": "TGwFGun8voCf"
      }
    },
    {
      "cell_type": "markdown",
      "source": [
        "Q5. How many global scopes are there in a python program? How many local scopes?\n"
      ],
      "metadata": {
        "id": "ZSwGrausmO2O"
      }
    },
    {
      "cell_type": "markdown",
      "source": [
        "Sol: There are only one global scope in per python program execution.\n",
        "The scope of global is in the entire program while the scope of the local is limited to the function where it is defined.  \n",
        "Local Scope has also one. A local variable has a limited scope."
      ],
      "metadata": {
        "id": "Xi492-6Pm9fz"
      }
    },
    {
      "cell_type": "markdown",
      "source": [
        "Q 6. What happens to variable in a local scope when the function call returns?"
      ],
      "metadata": {
        "id": "bhCLcBng0-mH"
      }
    },
    {
      "cell_type": "markdown",
      "source": [
        "Sol: The local variable destroys when the function call returns. "
      ],
      "metadata": {
        "id": "c8me_9ze1Lhb"
      }
    },
    {
      "cell_type": "markdown",
      "source": [
        "Q7. What is the concept of return value? Is it possible to have a return value in an expression?"
      ],
      "metadata": {
        "id": "S1p8mH-h18Zl"
      }
    },
    {
      "cell_type": "markdown",
      "source": [
        "Sol: A return is a value that a function returns to the calling script or function when it completes its task. \n",
        "The type of value the return function largely depends upon the task it performs. "
      ],
      "metadata": {
        "id": "q5pbvrdc2Iix"
      }
    },
    {
      "cell_type": "markdown",
      "source": [
        "Q8. If a function does not have a return statement, what is the return value of a call to that function?"
      ],
      "metadata": {
        "id": "MH3AIq1H2JcE"
      }
    },
    {
      "cell_type": "markdown",
      "source": [
        "Sol: If no return statement appears in a function definition, control automatically returns to the calling function after the last statement of the called function is executed. In this case, the return value of the called function is undefined."
      ],
      "metadata": {
        "id": "jFyxPPYQ2X-A"
      }
    },
    {
      "cell_type": "markdown",
      "source": [
        "Q9. How do you make a function variable refer to the global variable?"
      ],
      "metadata": {
        "id": "GUV8MtOy2YgP"
      }
    },
    {
      "cell_type": "markdown",
      "source": [
        "Sol: If you want to refer to a global variable in a function, you can use the global keyword to declare which variables are global."
      ],
      "metadata": {
        "id": "BKZhFy1V2i5t"
      }
    },
    {
      "cell_type": "markdown",
      "source": [
        "Q 10. What is the data type of None?\n"
      ],
      "metadata": {
        "id": "71-zHOlY2jdE"
      }
    },
    {
      "cell_type": "code",
      "source": [
        "print(type(None))"
      ],
      "metadata": {
        "colab": {
          "base_uri": "https://localhost:8080/"
        },
        "id": "-hVXA6xZ24dQ",
        "outputId": "2f0c7bdc-92fa-470f-ae16-eff71cb3f868"
      },
      "execution_count": null,
      "outputs": [
        {
          "output_type": "stream",
          "name": "stdout",
          "text": [
            "<class 'NoneType'>\n"
          ]
        }
      ]
    },
    {
      "cell_type": "markdown",
      "source": [
        "Q 11.What does the sentence import areallyourpetsnamederic do?  "
      ],
      "metadata": {
        "id": "7S2-K8bC39H_"
      }
    },
    {
      "cell_type": "markdown",
      "source": [
        "Sol: That import statement imports a module named areallyourpetsnamederic."
      ],
      "metadata": {
        "id": "J26W6o-zR-3o"
      }
    },
    {
      "cell_type": "markdown",
      "source": [
        "Q 12. If you had a bacon() feature in a spam module, what would you call it after importing spam?"
      ],
      "metadata": {
        "id": "ugnOkrIr-jz-"
      }
    },
    {
      "cell_type": "markdown",
      "source": [
        "SOl: This can be called with spam.bacon()"
      ],
      "metadata": {
        "id": "JtYSG7T2RsAD"
      }
    },
    {
      "cell_type": "markdown",
      "source": [
        "Q 13. What can you do to save a program from crashing if it encounters an error?\n",
        " "
      ],
      "metadata": {
        "id": "4Dfp_5s2-x-f"
      }
    },
    {
      "cell_type": "markdown",
      "source": [
        "Sol: The program can be saved from crashing by exception handling.\n",
        "Excetion handling is the process of handling the error occurs at the run time of the program and notify the user why the error is occuring and gracefully exiting the process that caused that error. "
      ],
      "metadata": {
        "id": "Sh3aGLgdQ3ah"
      }
    },
    {
      "cell_type": "markdown",
      "source": [
        "Q 14. What is the purpose of the try clause? What is the purpose of the expect clause?"
      ],
      "metadata": {
        "id": "yEkPxDAK--e4"
      }
    },
    {
      "cell_type": "markdown",
      "source": [
        "Sol : The try block allows you to test a block of code for errors. The expect block enables you to handle the error with a user-defined response."
      ],
      "metadata": {
        "id": "7SczfJGd_Pzl"
      }
    }
  ]
}
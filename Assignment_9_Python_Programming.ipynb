{
  "nbformat": 4,
  "nbformat_minor": 0,
  "metadata": {
    "colab": {
      "provenance": []
    },
    "kernelspec": {
      "name": "python3",
      "display_name": "Python 3"
    },
    "language_info": {
      "name": "python"
    }
  },
  "cells": [
    {
      "cell_type": "markdown",
      "source": [
        "Q1. Write a Python program to check if the given number is a Disarium Number?"
      ],
      "metadata": {
        "id": "xGn9DNFOvFm_"
      }
    },
    {
      "cell_type": "code",
      "execution_count": 8,
      "metadata": {
        "colab": {
          "base_uri": "https://localhost:8080/"
        },
        "id": "zlXQYhOEuoZ8",
        "outputId": "994e0d0b-5fe4-454c-d163-0bed1654afee"
      },
      "outputs": [
        {
          "output_type": "stream",
          "name": "stdout",
          "text": [
            "Enter the value135\n",
            "DN\n"
          ]
        }
      ],
      "source": [
        "from math import *\n",
        "n = input(\"Enter the value\")\n",
        "def check(n):\n",
        "  count_digit = len(str(n))\n",
        "  sum = 0\n",
        "  x= int(n)\n",
        "  while (x !=0):\n",
        "    r = x%10\n",
        "    sum = int(sum + pow(r,count_digit))\n",
        "    count_digit-= 1\n",
        "    x = x //10\n",
        "  if sum == int(n):\n",
        "    return 1\n",
        "  else:\n",
        "    return 0\n",
        "\n",
        "if (check(n)==1):\n",
        "  print(\"DN\")\n",
        "else:\n",
        "  print(\"NDN\")\n"
      ]
    },
    {
      "cell_type": "markdown",
      "source": [
        "Q2. Write a Python program to print all disarium numbers between 1 to 100?"
      ],
      "metadata": {
        "id": "4bmGQzUU1W5g"
      }
    },
    {
      "cell_type": "code",
      "source": [
        "def calculateLength(n):  \n",
        "    length = 0;  \n",
        "    while(n != 0):  \n",
        "        length = length + 1;  \n",
        "        n = n//10;  \n",
        "    return length;\n",
        "def sumOfDigits(num):  \n",
        "    rem = sum = 0;  \n",
        "    len = calculateLength(num); \n",
        "    while(num > 0):  \n",
        "        rem = num%10;  \n",
        "        sum = sum + (rem**len);  \n",
        "        num = num//10;  \n",
        "        len = len - 1;  \n",
        "    return sum;  \n",
        "    \n",
        "result = 0\n",
        "print(\"Disarium numbers between 1 and 100 are\");  \n",
        "for i in range(1, 101):  \n",
        "    result = sumOfDigits(i);  \n",
        "      \n",
        "    if(result == i):  \n",
        "        print(i)    "
      ],
      "metadata": {
        "colab": {
          "base_uri": "https://localhost:8080/"
        },
        "id": "J80sbDJ2bi_U",
        "outputId": "217a412e-19aa-4029-d38b-f3f5b1e02cbe"
      },
      "execution_count": 1,
      "outputs": [
        {
          "output_type": "stream",
          "name": "stdout",
          "text": [
            "Disarium numbers between 1 and 100 are\n",
            "1\n",
            "2\n",
            "3\n",
            "4\n",
            "5\n",
            "6\n",
            "7\n",
            "8\n",
            "9\n",
            "89\n"
          ]
        }
      ]
    },
    {
      "cell_type": "markdown",
      "source": [
        "Q3. Write a Python program to check if the given number is Happy Number?"
      ],
      "metadata": {
        "id": "_IU7llyWcMLp"
      }
    },
    {
      "cell_type": "code",
      "source": [
        "def isHappyNumber(num):    \n",
        "    rem = sum = 0    \n",
        "   \n",
        "    while(num > 0):    \n",
        "        rem = num%10;    \n",
        "        sum = sum + (rem*rem);    \n",
        "        num = num//10;    \n",
        "    return sum;    \n",
        "        \n",
        "num = 82;    \n",
        "result = num;    \n",
        "     \n",
        "while(result != 1 and result != 4):    \n",
        "    result = isHappyNumber(result);    \n",
        "     \n",
        "    \n",
        "if(result == 1):    \n",
        "    print(str(num) + \" is a happy number\");    \n",
        "   \n",
        "elif(result == 4):    \n",
        "    print(str(num) + \" is not a happy number\");  "
      ],
      "metadata": {
        "colab": {
          "base_uri": "https://localhost:8080/"
        },
        "id": "xB8lqSwkeNu-",
        "outputId": "a99b6892-6130-408e-e77c-20738522114e"
      },
      "execution_count": 2,
      "outputs": [
        {
          "output_type": "stream",
          "name": "stdout",
          "text": [
            "82 is a happy number\n"
          ]
        }
      ]
    },
    {
      "cell_type": "markdown",
      "source": [
        "Q4. Write a Python program to print all happy numbers between 1 and 100?"
      ],
      "metadata": {
        "id": "MPltuKxKeiO_"
      }
    },
    {
      "cell_type": "code",
      "source": [
        "def check_happy_num(my_num):\n",
        "   remaining = sum_val = 0\n",
        "   while(my_num > 0):\n",
        "      remaining = my_num%10\n",
        "      sum_val = sum_val + (remaining*remaining)\n",
        "      my_num = my_num//10\n",
        "   return sum_val\n",
        "print(\"The list of happy numbers between 1 and 100 are : \")\n",
        "for i in range(1, 101):\n",
        "   my_result = i\n",
        "   while(my_result != 1 and my_result != 4):\n",
        "      my_result = check_happy_num(my_result)\n",
        "   if(my_result == 1):\n",
        "      print(i)"
      ],
      "metadata": {
        "colab": {
          "base_uri": "https://localhost:8080/"
        },
        "id": "ca96yGyDeehC",
        "outputId": "e1b51723-59d0-4c0b-f4c4-bb0352af16ef"
      },
      "execution_count": 3,
      "outputs": [
        {
          "output_type": "stream",
          "name": "stdout",
          "text": [
            "The list of happy numbers between 1 and 100 are : \n",
            "1\n",
            "7\n",
            "10\n",
            "13\n",
            "19\n",
            "23\n",
            "28\n",
            "31\n",
            "32\n",
            "44\n",
            "49\n",
            "68\n",
            "70\n",
            "79\n",
            "82\n",
            "86\n",
            "91\n",
            "94\n",
            "97\n",
            "100\n"
          ]
        }
      ]
    },
    {
      "cell_type": "markdown",
      "source": [
        "Q5.Write a Python program to determine whether the given number is a Harshad Number?"
      ],
      "metadata": {
        "id": "WOfqk13de8xD"
      }
    },
    {
      "cell_type": "code",
      "source": [
        "def checkHarshad( n ) :\n",
        "    sum = 0\n",
        "    temp = n\n",
        "    while temp > 0 :\n",
        "        sum = sum + temp % 10\n",
        "        temp = temp // 10\n",
        "    return n % sum == 0\n",
        " \n",
        "if(checkHarshad(12)) : print(\"Yes\")\n",
        "else : print (\"No\")\n",
        " \n",
        "if (checkHarshad(15)) : print(\"Yes\")\n",
        "else : print (\"No\")"
      ],
      "metadata": {
        "colab": {
          "base_uri": "https://localhost:8080/"
        },
        "id": "lFkn-fbkeyU4",
        "outputId": "310e28e3-6734-4ec3-9ea0-7101f1397fca"
      },
      "execution_count": 4,
      "outputs": [
        {
          "output_type": "stream",
          "name": "stdout",
          "text": [
            "Yes\n",
            "No\n"
          ]
        }
      ]
    },
    {
      "cell_type": "markdown",
      "source": [
        "Q6. Write a Python program to print all pronic numbers between 1 and 100?"
      ],
      "metadata": {
        "id": "62wCpjT-fcb3"
      }
    },
    {
      "cell_type": "code",
      "source": [
        "def isPronicNumber(num):    \n",
        "    flag = False;    \n",
        "        \n",
        "    for j in range(1, num+1):    \n",
        "            \n",
        "        if((j*(j+1)) == num):    \n",
        "            flag = True;    \n",
        "            break;    \n",
        "    return flag;    \n",
        "     \n",
        "   \n",
        "print(\"Pronic numbers between 1 and 100: \");    \n",
        "for i in range(1, 101):    \n",
        "    if(isPronicNumber(i)):    \n",
        "        print(i)  "
      ],
      "metadata": {
        "colab": {
          "base_uri": "https://localhost:8080/"
        },
        "id": "az2qS9yyfZzB",
        "outputId": "ce1a68ed-3985-47d9-fcbd-d336a7341cb2"
      },
      "execution_count": 6,
      "outputs": [
        {
          "output_type": "stream",
          "name": "stdout",
          "text": [
            "Pronic numbers between 1 and 100: \n",
            "2\n",
            "6\n",
            "12\n",
            "20\n",
            "30\n",
            "42\n",
            "56\n",
            "72\n",
            "90\n"
          ]
        }
      ]
    },
    {
      "cell_type": "code",
      "source": [],
      "metadata": {
        "id": "UnjEhcw0gCMm"
      },
      "execution_count": null,
      "outputs": []
    }
  ]
}
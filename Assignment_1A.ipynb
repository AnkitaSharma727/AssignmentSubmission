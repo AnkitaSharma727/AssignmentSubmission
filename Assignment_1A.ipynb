{
  "nbformat": 4,
  "nbformat_minor": 0,
  "metadata": {
    "colab": {
      "name": "Assignment_1A.ipynb",
      "provenance": []
    },
    "kernelspec": {
      "name": "python3",
      "display_name": "Python 3"
    },
    "language_info": {
      "name": "python"
    }
  },
  "cells": [
    {
      "cell_type": "markdown",
      "source": [
        "Q1. What is the purpose of Python's OOP?"
      ],
      "metadata": {
        "id": "6twi8VOwgAB6"
      }
    },
    {
      "cell_type": "markdown",
      "source": [
        "SOl: OOP's is a object oriented programming which works on the concept of  creating object and classes. \n",
        "Python is a multi-paradigm programming language. A object ahs two characteristics:\n",
        "1. Attribute\n",
        "2. Behaviour\n",
        "The concept of OOPs focuses on creating reusable code.This concept is also known as DRY(Don't repeat Yourself).\n"
      ],
      "metadata": {
        "id": "ypDg5gYAgDWy"
      }
    },
    {
      "cell_type": "markdown",
      "source": [
        "Q2. Where does an inheritance search look for an attribute?"
      ],
      "metadata": {
        "id": "MwY18XXtiLy8"
      }
    },
    {
      "cell_type": "markdown",
      "source": [
        "Sol: The inheritance search is simply a search of the tree from bottom to top looking for the lowest occurrence of an attribute name."
      ],
      "metadata": {
        "id": "9zffA7MFoFp_"
      }
    },
    {
      "cell_type": "markdown",
      "source": [
        "Q3. How do you distinguish between a class object and an instance object?"
      ],
      "metadata": {
        "id": "E5NMXMOtiP8B"
      }
    },
    {
      "cell_type": "markdown",
      "source": [
        "Sol: Class Object is defined as the objects associated with the class variable.\n",
        "The class variables can be accessed through the class object,.\n",
        "While the objects that are associated instances and methods are termed to be the Instance Object.\n",
        "These objects are used for instantiating."
      ],
      "metadata": {
        "id": "gQLnIj5cjRyo"
      }
    },
    {
      "cell_type": "markdown",
      "source": [
        "Q4. What makes the first argument in a class’s method function special?"
      ],
      "metadata": {
        "id": "FIzElEpIiSh1"
      }
    },
    {
      "cell_type": "markdown",
      "source": [
        "Sol: First Argument in a class's method is always a reference to the current instance of the class."
      ],
      "metadata": {
        "id": "H3qjDl1lnym9"
      }
    },
    {
      "cell_type": "markdown",
      "source": [
        "Q5. What is the purpose of the __init__ method?"
      ],
      "metadata": {
        "id": "Hc7KM3t8iU2t"
      }
    },
    {
      "cell_type": "markdown",
      "source": [
        "Sol: The __init__ method is defined as the method which works as a constructor. It is a initializer method that is first run as soon as the onject is created."
      ],
      "metadata": {
        "id": "AGE1nNgVikZZ"
      }
    },
    {
      "cell_type": "markdown",
      "source": [
        "Q6. What is the process for creating a class instance?"
      ],
      "metadata": {
        "id": "sek4X9vxiXe-"
      }
    },
    {
      "cell_type": "markdown",
      "source": [
        "Sol: When you create an object, you are creating an instance of a class, therefore \"instantiating\" a class. \n",
        "The name of the constructor provides the name of the class to instantiate. The constructor initializes the new object."
      ],
      "metadata": {
        "id": "9T8qQVV6oQ5v"
      }
    },
    {
      "cell_type": "markdown",
      "source": [
        "Q7. What is the process for creating a class?"
      ],
      "metadata": {
        "id": "n4gNG4gZiagB"
      }
    },
    {
      "cell_type": "markdown",
      "source": [
        "Sol: The class can be created by the keyword class.\n",
        "The class is defined by the class keyword.\n",
        "class car:"
      ],
      "metadata": {
        "id": "23Rf2h53obd_"
      }
    },
    {
      "cell_type": "markdown",
      "source": [
        "Q8.How would you define the superclasses of a class?"
      ],
      "metadata": {
        "id": "8V2XGfkVieWE"
      }
    },
    {
      "cell_type": "markdown",
      "source": [
        "Sol: A superclass is the class from which many subclasses can be created. The subclasses inherit the characteristics of a superclass. The superclass is also known as the parent class or base class.\n"
      ],
      "metadata": {
        "id": "ke81XXenpADP"
      }
    }
  ]
}
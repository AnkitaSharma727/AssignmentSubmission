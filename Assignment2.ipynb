{
  "nbformat": 4,
  "nbformat_minor": 0,
  "metadata": {
    "colab": {
      "name": "Assignment2.ipynb",
      "provenance": []
    },
    "kernelspec": {
      "name": "python3",
      "display_name": "Python 3"
    },
    "language_info": {
      "name": "python"
    }
  },
  "cells": [
    {
      "cell_type": "code",
      "execution_count": null,
      "metadata": {
        "id": "xs-fPmgs10bm"
      },
      "outputs": [],
      "source": [
        "1. What are the two values of the Boolean data type? How do you write them."
      ]
    },
    {
      "cell_type": "markdown",
      "source": [
        "Answer: The value of two Boolean data type is:\n",
        "True and False.\n",
        "Here True = 1\n",
        "and False = 0\n",
        "Boolean expression use both Relational and Logical Operators and yeilds the answer in True and False."
      ],
      "metadata": {
        "id": "CRhj0GK12Ms_"
      }
    },
    {
      "cell_type": "markdown",
      "source": [
        "2. What are the three different type of Boolean operators?\n"
      ],
      "metadata": {
        "id": "Z8TNmJCu183d"
      }
    },
    {
      "cell_type": "markdown",
      "source": [
        "Answer: The three Boolean operators are :\n",
        "1. AND = When both the values are non-zero, yeilds True otherwise False.\n",
        "2. OR = When any of the value or both is non-zero, yeilds True otherwise False.\n",
        "3. NOT = It returns the value TRUE or 1 when operand is False or 0 and vice - versa.\n"
      ],
      "metadata": {
        "id": "282nwem73BP-"
      }
    },
    {
      "cell_type": "markdown",
      "source": [
        "3. Make a list of each Boolean operator's truth tables (i.e. every possible combination of Boolean values for the operator and what it evaluate )."
      ],
      "metadata": {
        "id": "ASvbw3b24z1M"
      }
    },
    {
      "cell_type": "markdown",
      "source": [
        "![Q3.PNG](data:image/png;base64,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)"
      ],
      "metadata": {
        "id": "ZEW3WxwgMv7N"
      }
    },
    {
      "cell_type": "markdown",
      "source": [
        "4. What are the values of the following expressions?\n",
        "(5 > 4) and (3 == 5)\n",
        "not (5 > 4)\n",
        "(5 > 4) or (3 == 5)\n",
        "not ((5 > 4) or (3 == 5))\n",
        "(True and True) and (True == False)\n",
        "(not False) or (not True)\n"
      ],
      "metadata": {
        "id": "qwwOEjs45N6T"
      }
    },
    {
      "cell_type": "code",
      "source": [
        "(5 > 4) and (3 == 5)"
      ],
      "metadata": {
        "colab": {
          "base_uri": "https://localhost:8080/"
        },
        "id": "MeXHrOo_5b5q",
        "outputId": "0c242dab-0a2b-45fd-9c2c-43323b432f99"
      },
      "execution_count": 1,
      "outputs": [
        {
          "output_type": "execute_result",
          "data": {
            "text/plain": [
              "False"
            ]
          },
          "metadata": {},
          "execution_count": 1
        }
      ]
    },
    {
      "cell_type": "code",
      "source": [
        ""
      ],
      "metadata": {
        "id": "FewG4_-q5c7o"
      },
      "execution_count": null,
      "outputs": []
    },
    {
      "cell_type": "code",
      "source": [
        "not (5 > 4)"
      ],
      "metadata": {
        "colab": {
          "base_uri": "https://localhost:8080/"
        },
        "id": "bSZq5ebt5hZj",
        "outputId": "d026488a-68f2-4ac7-b115-a9a6caaaa10d"
      },
      "execution_count": 3,
      "outputs": [
        {
          "output_type": "execute_result",
          "data": {
            "text/plain": [
              "False"
            ]
          },
          "metadata": {},
          "execution_count": 3
        }
      ]
    },
    {
      "cell_type": "code",
      "source": [
        "(5 > 4) or (3 == 5) "
      ],
      "metadata": {
        "colab": {
          "base_uri": "https://localhost:8080/"
        },
        "id": "wCcfax-F5j_v",
        "outputId": "2b2320bc-62ec-4791-c7d3-6d5a0cc43d6e"
      },
      "execution_count": 4,
      "outputs": [
        {
          "output_type": "execute_result",
          "data": {
            "text/plain": [
              "True"
            ]
          },
          "metadata": {},
          "execution_count": 4
        }
      ]
    },
    {
      "cell_type": "code",
      "source": [
        "not ((5 > 4) or (3 == 5))"
      ],
      "metadata": {
        "colab": {
          "base_uri": "https://localhost:8080/"
        },
        "id": "NdOPuT1f5tkV",
        "outputId": "db788f8e-eac6-400e-9aa0-7a652ccc7094"
      },
      "execution_count": 5,
      "outputs": [
        {
          "output_type": "execute_result",
          "data": {
            "text/plain": [
              "False"
            ]
          },
          "metadata": {},
          "execution_count": 5
        }
      ]
    },
    {
      "cell_type": "code",
      "source": [
        "(True and True) and (True == False)"
      ],
      "metadata": {
        "colab": {
          "base_uri": "https://localhost:8080/"
        },
        "id": "IZb9kVwD5y9E",
        "outputId": "8fed4ae6-4a7e-4dce-c91b-2b1fa9a67896"
      },
      "execution_count": 6,
      "outputs": [
        {
          "output_type": "execute_result",
          "data": {
            "text/plain": [
              "False"
            ]
          },
          "metadata": {},
          "execution_count": 6
        }
      ]
    },
    {
      "cell_type": "code",
      "source": [
        "(not False) or (not True)"
      ],
      "metadata": {
        "colab": {
          "base_uri": "https://localhost:8080/"
        },
        "id": "9l0q_RIg6CpU",
        "outputId": "60fa3439-4243-4737-8ee9-7e0148564aec"
      },
      "execution_count": 8,
      "outputs": [
        {
          "output_type": "execute_result",
          "data": {
            "text/plain": [
              "True"
            ]
          },
          "metadata": {},
          "execution_count": 8
        }
      ]
    },
    {
      "cell_type": "markdown",
      "source": [
        "5. What are the six comparison operators?"
      ],
      "metadata": {
        "id": "ogmimPFK6JkS"
      }
    },
    {
      "cell_type": "markdown",
      "source": [
        "1. == : equal : x==y"
      ],
      "metadata": {
        "id": "LqLxNHYz6Ovi"
      }
    },
    {
      "cell_type": "code",
      "source": [
        "2==3"
      ],
      "metadata": {
        "colab": {
          "base_uri": "https://localhost:8080/"
        },
        "id": "L_HIwMOf6dwz",
        "outputId": "79b734a0-2360-483b-ec67-2fe8bb3ed6ca"
      },
      "execution_count": 12,
      "outputs": [
        {
          "output_type": "execute_result",
          "data": {
            "text/plain": [
              "False"
            ]
          },
          "metadata": {},
          "execution_count": 12
        }
      ]
    },
    {
      "cell_type": "markdown",
      "source": [
        "2.  !=  : Not equal to   : x !=y"
      ],
      "metadata": {
        "id": "rdi-hVPB6rNz"
      }
    },
    {
      "cell_type": "code",
      "source": [
        "2!=3"
      ],
      "metadata": {
        "colab": {
          "base_uri": "https://localhost:8080/"
        },
        "id": "ZNxBe1La6fhX",
        "outputId": "01948d89-54f4-467b-a782-2683add0a2e5"
      },
      "execution_count": 13,
      "outputs": [
        {
          "output_type": "execute_result",
          "data": {
            "text/plain": [
              "True"
            ]
          },
          "metadata": {},
          "execution_count": 13
        }
      ]
    },
    {
      "cell_type": "markdown",
      "source": [
        "3. < : Less than : x<y"
      ],
      "metadata": {
        "id": "fkOp3Vd57JGs"
      }
    },
    {
      "cell_type": "code",
      "source": [
        " 2<3"
      ],
      "metadata": {
        "colab": {
          "base_uri": "https://localhost:8080/"
        },
        "id": "JxqAECHA7AVR",
        "outputId": "b5bf6bee-ae3d-445f-d25e-5c4b391a851a"
      },
      "execution_count": 14,
      "outputs": [
        {
          "output_type": "execute_result",
          "data": {
            "text/plain": [
              "True"
            ]
          },
          "metadata": {},
          "execution_count": 14
        }
      ]
    },
    {
      "cell_type": "markdown",
      "source": [
        "4.  > : Greater than : x > y"
      ],
      "metadata": {
        "id": "fSTfWu4D7EmF"
      }
    },
    {
      "cell_type": "code",
      "source": [
        "4>3"
      ],
      "metadata": {
        "colab": {
          "base_uri": "https://localhost:8080/"
        },
        "id": "zQtCJBWw7DBS",
        "outputId": "9dbc5984-2425-4839-f17f-4361e94484bf"
      },
      "execution_count": 15,
      "outputs": [
        {
          "output_type": "execute_result",
          "data": {
            "text/plain": [
              "True"
            ]
          },
          "metadata": {},
          "execution_count": 15
        }
      ]
    },
    {
      "cell_type": "markdown",
      "source": [
        "5.  <= : Less than or equal to : x<=y"
      ],
      "metadata": {
        "id": "p2LwWPM17crW"
      }
    },
    {
      "cell_type": "code",
      "source": [
        " 4<=8"
      ],
      "metadata": {
        "colab": {
          "base_uri": "https://localhost:8080/"
        },
        "id": "oxh9ioE67BnE",
        "outputId": "006657c9-73df-4166-ca15-f4d3d6152449"
      },
      "execution_count": 16,
      "outputs": [
        {
          "output_type": "execute_result",
          "data": {
            "text/plain": [
              "True"
            ]
          },
          "metadata": {},
          "execution_count": 16
        }
      ]
    },
    {
      "cell_type": "markdown",
      "source": [
        "6. >= : Greater than or equal to : x>=y"
      ],
      "metadata": {
        "id": "eePo9Oyz7rbI"
      }
    },
    {
      "cell_type": "code",
      "source": [
        "5>=2"
      ],
      "metadata": {
        "colab": {
          "base_uri": "https://localhost:8080/"
        },
        "id": "i0u_OqX67o7q",
        "outputId": "07967e4b-d644-4c73-c549-eae1ac786877"
      },
      "execution_count": 17,
      "outputs": [
        {
          "output_type": "execute_result",
          "data": {
            "text/plain": [
              "True"
            ]
          },
          "metadata": {},
          "execution_count": 17
        }
      ]
    },
    {
      "cell_type": "markdown",
      "source": [
        "6. How do you tell the difference between the equal to and assignment operators?Describe a condition and when you would use one.\n"
      ],
      "metadata": {
        "id": "ij7_N57076wh"
      }
    },
    {
      "cell_type": "markdown",
      "source": [
        "Answer : Assignment operators are used to assign the values to the variable. "
      ],
      "metadata": {
        "id": "Os0l9SGx7-2l"
      }
    },
    {
      "cell_type": "code",
      "source": [
        "x = 8\n",
        "y = 9\n",
        "# In the above example we assigned the value 8 and 9 to x and y respectively."
      ],
      "metadata": {
        "id": "oryXp8H58M1y"
      },
      "execution_count": null,
      "outputs": []
    },
    {
      "cell_type": "markdown",
      "source": [
        "while in equal to operator we compare the value of two different entities. \n"
      ],
      "metadata": {
        "id": "EwoJ8VwK8PT3"
      }
    },
    {
      "cell_type": "code",
      "source": [
        "x = 8\n",
        "y = 9\n",
        "x==y\n",
        "# Here we are just comparing the values and the values are already assigned to us. "
      ],
      "metadata": {
        "colab": {
          "base_uri": "https://localhost:8080/"
        },
        "id": "B9i5wlsp8m39",
        "outputId": "c4901044-9291-4f4a-f010-978ccefff580"
      },
      "execution_count": 20,
      "outputs": [
        {
          "output_type": "execute_result",
          "data": {
            "text/plain": [
              "False"
            ]
          },
          "metadata": {},
          "execution_count": 20
        }
      ]
    },
    {
      "cell_type": "markdown",
      "source": [
        "7. Identify the three blocks in this code:\n",
        "spam = 0\n",
        "if spam == 10:\n",
        "print('eggs')\n",
        "if spam > 5:\n",
        "print('bacon')\n",
        "else:\n",
        "print('ham')\n",
        "print('spam')\n",
        "print('spam')\n"
      ],
      "metadata": {
        "id": "bZYTRTfm843y"
      }
    },
    {
      "cell_type": "code",
      "source": [
        "spam = 0\n",
        "if spam == 10:\n",
        "  print('eggs')\n",
        "if spam > 5:\n",
        "  print('bacon')\n",
        "else:\n",
        "  print('ham')\n",
        "  print('spam')\n",
        "  print('spam')\n"
      ],
      "metadata": {
        "colab": {
          "base_uri": "https://localhost:8080/"
        },
        "id": "ClrO2zkW9EVM",
        "outputId": "a9951d9e-38a8-4a26-ed52-de4604b993d7"
      },
      "execution_count": 21,
      "outputs": [
        {
          "output_type": "stream",
          "name": "stdout",
          "text": [
            "ham\n",
            "spam\n",
            "spam\n"
          ]
        }
      ]
    },
    {
      "cell_type": "markdown",
      "source": [
        "8. Write code that prints Hello if 1 is stored in spam, prints Howdy if 2 is stored in spam, and prints Greetings! if anything else is stored in spam.\n"
      ],
      "metadata": {
        "id": "2PQgVOed_Csn"
      }
    },
    {
      "cell_type": "code",
      "source": [
        "spam = int(input(\"ENTER THE NUMBER\"))\n",
        "if spam == 1:\n",
        "  print(\"Hello\")\n",
        "elif spam == 2 :\n",
        "  print(\"Howdy\")\n",
        "else: \n",
        "  print(\"Greetings!\")"
      ],
      "metadata": {
        "colab": {
          "base_uri": "https://localhost:8080/"
        },
        "id": "SCTQR7L97yZP",
        "outputId": "c4daa1bb-3ff4-497f-9d48-9966160f8928"
      },
      "execution_count": 26,
      "outputs": [
        {
          "output_type": "stream",
          "name": "stdout",
          "text": [
            "ENTER THE NUMBER0\n",
            "Greetings!\n"
          ]
        }
      ]
    },
    {
      "cell_type": "markdown",
      "source": [
        "9. If your programme is stuck in an endless loop, what keys you’ll press?\n",
        "Answer : Ctrl + C"
      ],
      "metadata": {
        "id": "UNjNk0hnANml"
      }
    },
    {
      "cell_type": "markdown",
      "source": [
        "10. How can you tell the difference between break and continue?"
      ],
      "metadata": {
        "id": "pWugI4XSAap7"
      }
    },
    {
      "cell_type": "markdown",
      "source": [
        "Answer : Break statement is used to break the loop from further execution after achieving the desired result. \n",
        "Continue Statement is used to skip that particular iteration in the loop and returns all the other values. "
      ],
      "metadata": {
        "id": "lVeHr8BGAdSf"
      }
    },
    {
      "cell_type": "code",
      "source": [
        "11. In a for loop, what is the difference between range(10), range(0, 10), and range(0, 10, 1)?"
      ],
      "metadata": {
        "id": "QEh5NQxS_5pX"
      },
      "execution_count": 25,
      "outputs": []
    },
    {
      "cell_type": "markdown",
      "source": [
        "Answer : Range is an in-bulit function which can be written as :\n",
        "1. range(stop) = range(10)\n",
        "2. range(start , stop) = range(0, 10)\n",
        "3. range(start, stop, step size) = range(0, 10, 1)\n",
        "In range(10) or range (stop), only the last stop value is given which is stop - 1 whereas the iterations will start from 0 by default beacuse we are not declaring the start value. \n",
        "\n",
        "In range(0, 10) or range( start, stop), both start as well as stop is given. In range( start, stop), it is not mandatory to always start the iterations from 0 as we can choose our start value by our choice which is not applicable in first case. \n",
        "\n",
        "In range(0, 10, 1), here along with the start and stop, the step size is also given. Which is not mentioned in the earlier ones. By default we assume the step size to be 1. But in this case step size can be altered. "
      ],
      "metadata": {
        "id": "ccalcaoeEGHM"
      }
    },
    {
      "cell_type": "markdown",
      "source": [
        "12. Write a short program that prints the numbers 1 to 10 using a for loop. Then write an equivalent program that prints the numbers 1 to 10 using a while loop.\n"
      ],
      "metadata": {
        "id": "Q72z-3o7F-JM"
      }
    },
    {
      "cell_type": "code",
      "source": [
        "for i in range(0,11,1):\n",
        "  print(i)"
      ],
      "metadata": {
        "colab": {
          "base_uri": "https://localhost:8080/"
        },
        "id": "Ij1TzESKGQ4t",
        "outputId": "b19a5714-58a6-443e-bdef-800c559650d8"
      },
      "execution_count": 32,
      "outputs": [
        {
          "output_type": "stream",
          "name": "stdout",
          "text": [
            "0\n",
            "1\n",
            "2\n",
            "3\n",
            "4\n",
            "5\n",
            "6\n",
            "7\n",
            "8\n",
            "9\n",
            "10\n"
          ]
        }
      ]
    },
    {
      "cell_type": "code",
      "source": [
        "i=0\n",
        "while i<=10:\n",
        "  print(i)\n",
        "  i+=1"
      ],
      "metadata": {
        "colab": {
          "base_uri": "https://localhost:8080/"
        },
        "id": "gEY-LlnsIoWZ",
        "outputId": "8a1d773e-cad3-4248-fdbf-d3230f500058"
      },
      "execution_count": 33,
      "outputs": [
        {
          "output_type": "stream",
          "name": "stdout",
          "text": [
            "0\n",
            "1\n",
            "2\n",
            "3\n",
            "4\n",
            "5\n",
            "6\n",
            "7\n",
            "8\n",
            "9\n",
            "10\n"
          ]
        }
      ]
    },
    {
      "cell_type": "markdown",
      "source": [
        "13. If you had a function named bacon() inside a module named spam, how would you call it after importing spam?\n"
      ],
      "metadata": {
        "id": "hIQ-B5x2IzgT"
      }
    },
    {
      "cell_type": "markdown",
      "source": [
        "Answer : from spam import bacon\n",
        " x = bacon()"
      ],
      "metadata": {
        "id": "sMH9fzPcI9Xe"
      }
    }
  ]
}
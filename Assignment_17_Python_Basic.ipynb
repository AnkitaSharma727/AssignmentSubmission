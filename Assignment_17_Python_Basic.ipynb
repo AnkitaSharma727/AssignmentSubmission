{
  "nbformat": 4,
  "nbformat_minor": 0,
  "metadata": {
    "colab": {
      "provenance": []
    },
    "kernelspec": {
      "name": "python3",
      "display_name": "Python 3"
    },
    "language_info": {
      "name": "python"
    }
  },
  "cells": [
    {
      "cell_type": "markdown",
      "source": [
        "Q1. Assign the value 7 to the variable guess_me. Then, write the conditional tests (if, else, and elif) to\n",
        "print the string &#39;too low&#39; if guess_me is less than 7, &#39;too high&#39; if greater than 7, and &#39;just right&#39; if equal\n",
        "to 7."
      ],
      "metadata": {
        "id": "aWzhU9jgFdHi"
      }
    },
    {
      "cell_type": "code",
      "execution_count": 3,
      "metadata": {
        "colab": {
          "base_uri": "https://localhost:8080/"
        },
        "id": "c5TOIEdbFcVY",
        "outputId": "2a4220fc-92a4-4520-e3eb-39e4f9b13581"
      },
      "outputs": [
        {
          "output_type": "stream",
          "name": "stdout",
          "text": [
            "Enter the guess value7\n",
            "Just Right\n"
          ]
        }
      ],
      "source": [
        "guess_me= 7\n",
        "n = int(input(\"Enter the guess value\"))\n",
        "if n>guess_me:\n",
        "  print(\"Too high\")\n",
        "elif n<guess_me:\n",
        "  print(\"Too Low\")\n",
        "else:\n",
        "  print(\"Just Right\")"
      ]
    },
    {
      "cell_type": "markdown",
      "source": [
        "Q2. Assign the value 7 to the variable guess_me and the value 1 to the variable start. Write a while\n",
        "loop that compares start with guess_me. Print too low if start is less than guess me. If start equals\n",
        "guess_me, print &#39;found it!&#39; and exit the loop. If start is greater than guess_me, print &#39;oops&#39; and exit\n",
        "the loop. Increment start at the end of the loop."
      ],
      "metadata": {
        "id": "l08SEv3hGILI"
      }
    },
    {
      "cell_type": "code",
      "source": [
        "guess_me = 7\n",
        "start = 1\n",
        "while guess_me>= start:\n",
        "  print(\"Too low\")\n",
        "  if guess_me==start:\n",
        "    print(\"Found it\")\n",
        "    break\n",
        "  elif guess_me<start:\n",
        "    print(\"oops\")\n",
        "    break\n",
        "\n",
        "  start+=1"
      ],
      "metadata": {
        "colab": {
          "base_uri": "https://localhost:8080/"
        },
        "id": "sQpInA1SGGr2",
        "outputId": "e219b6ae-373e-41e1-fbf2-a85a50619257"
      },
      "execution_count": 9,
      "outputs": [
        {
          "output_type": "stream",
          "name": "stdout",
          "text": [
            "Too low\n",
            "Too low\n",
            "Too low\n",
            "Too low\n",
            "Too low\n",
            "Too low\n",
            "Too low\n",
            "Found it\n"
          ]
        }
      ]
    },
    {
      "cell_type": "markdown",
      "source": [
        "Q3. Print the following values of the list [3, 2, 1, 0] using a for loop."
      ],
      "metadata": {
        "id": "K3C2XKi1H3Bk"
      }
    },
    {
      "cell_type": "code",
      "source": [
        "l=[3,2,1,0]\n",
        "for i in l:\n",
        "  print(i)"
      ],
      "metadata": {
        "colab": {
          "base_uri": "https://localhost:8080/"
        },
        "id": "ZgbhKftbH5S9",
        "outputId": "68243de0-585f-492b-9402-faba61572150"
      },
      "execution_count": 10,
      "outputs": [
        {
          "output_type": "stream",
          "name": "stdout",
          "text": [
            "3\n",
            "2\n",
            "1\n",
            "0\n"
          ]
        }
      ]
    },
    {
      "cell_type": "markdown",
      "source": [
        "Q4. Use a list comprehension to make a list of the even numbers in range(10)"
      ],
      "metadata": {
        "id": "_M4Y9xiwIDHp"
      }
    },
    {
      "cell_type": "code",
      "source": [
        "x=[i for i in range(10) if i%2==0]"
      ],
      "metadata": {
        "id": "hLiTDi0HIBTn"
      },
      "execution_count": 12,
      "outputs": []
    },
    {
      "cell_type": "code",
      "source": [
        "x"
      ],
      "metadata": {
        "colab": {
          "base_uri": "https://localhost:8080/"
        },
        "id": "zNRNXRJ7IVnd",
        "outputId": "c07ba603-424c-4399-c716-54e8dd523a48"
      },
      "execution_count": 13,
      "outputs": [
        {
          "output_type": "execute_result",
          "data": {
            "text/plain": [
              "[0, 2, 4, 6, 8]"
            ]
          },
          "metadata": {},
          "execution_count": 13
        }
      ]
    },
    {
      "cell_type": "markdown",
      "source": [
        "Q5. Use a dictionary comprehension to create the dictionary squares. Use range(10) to return the\n",
        "keys, and use the square of each key as its value."
      ],
      "metadata": {
        "id": "nYuegts3IjjG"
      }
    },
    {
      "cell_type": "code",
      "source": [
        " a = range(10)\n",
        " b=[]\n",
        " for i in a:\n",
        "   b.append(i**2)\n",
        "my_dict = {a:b for (a,b) in zip(a,b)}\n",
        "my_dict"
      ],
      "metadata": {
        "colab": {
          "base_uri": "https://localhost:8080/"
        },
        "id": "OKogvfm0IiCc",
        "outputId": "e2a0aca2-7b74-4d8a-c48f-2552436aed66"
      },
      "execution_count": 13,
      "outputs": [
        {
          "output_type": "execute_result",
          "data": {
            "text/plain": [
              "{0: 0, 1: 1, 2: 4, 3: 9, 4: 16, 5: 25, 6: 36, 7: 49, 8: 64, 9: 81}"
            ]
          },
          "metadata": {},
          "execution_count": 13
        }
      ]
    },
    {
      "cell_type": "markdown",
      "source": [
        "Q6. Construct the set odd from the odd numbers in the range using a set comprehension (10)."
      ],
      "metadata": {
        "id": "H2QHUlt0nrpa"
      }
    },
    {
      "cell_type": "code",
      "source": [
        "my_set= {i for i in range(10) if i%2!=0}"
      ],
      "metadata": {
        "id": "GtnI3oFNLi-D"
      },
      "execution_count": 18,
      "outputs": []
    },
    {
      "cell_type": "code",
      "source": [
        "my_set"
      ],
      "metadata": {
        "colab": {
          "base_uri": "https://localhost:8080/"
        },
        "id": "EsJi-h1Dm-AQ",
        "outputId": "b93279a7-6403-4393-ba3d-0e400742b8ab"
      },
      "execution_count": 19,
      "outputs": [
        {
          "output_type": "execute_result",
          "data": {
            "text/plain": [
              "{1, 3, 5, 7, 9}"
            ]
          },
          "metadata": {},
          "execution_count": 19
        }
      ]
    },
    {
      "cell_type": "markdown",
      "source": [
        "Q7. Use a generator comprehension to return the string &#39;Got &#39; and a number for the numbers in\n",
        "range(10). Iterate through this by using a for loop."
      ],
      "metadata": {
        "id": "uNEr88ceoZJH"
      }
    },
    {
      "cell_type": "code",
      "source": [
        "my_gen = (\"Got\"+ str(i) for i in range(10))\n",
        "for i in my_gen:\n",
        "  print(i)"
      ],
      "metadata": {
        "colab": {
          "base_uri": "https://localhost:8080/"
        },
        "id": "4DvRpk6FoQxA",
        "outputId": "f91d13e8-82f2-4625-e452-ca43051a0ff9"
      },
      "execution_count": 22,
      "outputs": [
        {
          "output_type": "stream",
          "name": "stdout",
          "text": [
            "Got0\n",
            "Got1\n",
            "Got2\n",
            "Got3\n",
            "Got4\n",
            "Got5\n",
            "Got6\n",
            "Got7\n",
            "Got8\n",
            "Got9\n"
          ]
        }
      ]
    },
    {
      "cell_type": "markdown",
      "source": [
        "Q8. 8. Define a function called good that returns the list [&#39;Harry&#39;, &#39;Ron&#39;, &#39;Hermione&#39;]."
      ],
      "metadata": {
        "id": "pEDx7FNUqOvU"
      }
    },
    {
      "cell_type": "code",
      "source": [
        "def good(m):\n",
        "  l=[]\n",
        "  for i in m:\n",
        "    return l.append(i)\n",
        "m = [\"Harry\", \"Ron\", \"Hermoine\"]\n",
        "l = good(m)"
      ],
      "metadata": {
        "id": "mOmzBkwAp_o1"
      },
      "execution_count": 36,
      "outputs": []
    },
    {
      "cell_type": "markdown",
      "source": [
        "Q9. Define a generator function called get_odds that returns the odd numbers from range(10). Use a\n",
        "for loop to find and print the third value returned."
      ],
      "metadata": {
        "id": "47rJiM5irWsY"
      }
    },
    {
      "cell_type": "code",
      "source": [
        "def get_odds(n):\n",
        "  for i in range(10):\n",
        "    if i%2 !=0:\n",
        "      yield i"
      ],
      "metadata": {
        "id": "rg6tNKVgrVVX"
      },
      "execution_count": 38,
      "outputs": []
    },
    {
      "cell_type": "code",
      "source": [
        "for i in get_odds(n):\n",
        "  print(i)"
      ],
      "metadata": {
        "colab": {
          "base_uri": "https://localhost:8080/"
        },
        "id": "3RW7kdiqquwg",
        "outputId": "368f44c6-3c52-4efd-cb02-a8c6c561af71"
      },
      "execution_count": 40,
      "outputs": [
        {
          "output_type": "stream",
          "name": "stdout",
          "text": [
            "1\n",
            "3\n",
            "5\n",
            "7\n",
            "9\n"
          ]
        }
      ]
    },
    {
      "cell_type": "markdown",
      "source": [
        "Q10. Define an exception called OopsException. Raise this exception to see what happens. Then write\n",
        "the code to catch this exception and print &#39;Caught an oops&#39;."
      ],
      "metadata": {
        "id": "UOcsl0d8r_P6"
      }
    },
    {
      "cell_type": "code",
      "source": [
        "# Answer: An exception in an event, which occurs during the execution of the program and that interupts the normal flow of the instruction.\n",
        "try:\n",
        "  def OopsException():\n",
        "    print(\"Good\")\n",
        "\n",
        "except OopsException as e: \n",
        "  print(e, \"Caught an Oops\")"
      ],
      "metadata": {
        "id": "Io0qBsf5r5ro"
      },
      "execution_count": 46,
      "outputs": []
    },
    {
      "cell_type": "markdown",
      "source": [
        "Q11. Use zip() to make a dictionary called movies that pairs these lists: titles = [&#39;Creature of Habit&#39;,\n",
        "&#39;Crewel Fate&#39;] and plots = [&#39;A nun turns into a monster&#39;, &#39;A haunted yarn shop&#39;]."
      ],
      "metadata": {
        "id": "WHrSPe6ft4vs"
      }
    },
    {
      "cell_type": "code",
      "source": [
        "titles = ['Creature of Habit', 'Crewel Fate']\n",
        "plots = ['A nun turns into a monster', 'A haunted yarn shop']\n",
        "a = dict(zip(titles , plots))"
      ],
      "metadata": {
        "id": "Y1FN66ndtHtq"
      },
      "execution_count": 48,
      "outputs": []
    },
    {
      "cell_type": "code",
      "source": [
        "a"
      ],
      "metadata": {
        "colab": {
          "base_uri": "https://localhost:8080/"
        },
        "id": "wTUqp0pmuJ_y",
        "outputId": "ca9c9534-fbd2-47e1-921e-36d5b619b089"
      },
      "execution_count": 49,
      "outputs": [
        {
          "output_type": "execute_result",
          "data": {
            "text/plain": [
              "{'Creature of Habit': 'A nun turns into a monster',\n",
              " 'Crewel Fate': 'A haunted yarn shop'}"
            ]
          },
          "metadata": {},
          "execution_count": 49
        }
      ]
    },
    {
      "cell_type": "code",
      "source": [],
      "metadata": {
        "id": "IGogeTo5uNJb"
      },
      "execution_count": null,
      "outputs": []
    }
  ]
}
{
  "nbformat": 4,
  "nbformat_minor": 0,
  "metadata": {
    "colab": {
      "name": "Assignment_22.ipynb",
      "provenance": []
    },
    "kernelspec": {
      "name": "python3",
      "display_name": "Python 3"
    },
    "language_info": {
      "name": "python"
    }
  },
  "cells": [
    {
      "cell_type": "markdown",
      "source": [
        "Q1. What is the result of the code, and explain?\n",
        "\n",
        "\n",
        ">>> X = 'iNeuron'\n",
        ">>> def func():\n",
        "print(X)\n",
        "\n",
        "\n",
        ">>> func()\n"
      ],
      "metadata": {
        "id": "tqep2JOBGQxW"
      }
    },
    {
      "cell_type": "code",
      "execution_count": 3,
      "metadata": {
        "colab": {
          "base_uri": "https://localhost:8080/"
        },
        "id": "t1VDuif6F8Tc",
        "outputId": "0e1c86d8-cee8-452f-f1bb-d1aaf74b7683"
      },
      "outputs": [
        {
          "output_type": "stream",
          "name": "stdout",
          "text": [
            "iNeuron\n"
          ]
        }
      ],
      "source": [
        "x= \"iNeuron\"\n",
        "def func():\n",
        "  print(x)\n",
        "func()"
      ]
    },
    {
      "cell_type": "markdown",
      "source": [
        "Sol 1: In this program, func() is defined and is called.\n",
        "When the function executes, it will print the value of x i.e. \"iNeuron\".\n",
        "Here x is a global variable."
      ],
      "metadata": {
        "id": "oY0v7PtqInTa"
      }
    },
    {
      "cell_type": "markdown",
      "source": [
        "Q2. What is the result of the code, and explain?\n",
        "\n",
        "\n",
        ">>> X = 'iNeuron'\n",
        ">>> def func():\n",
        "X = 'NI!'\n",
        "\n",
        "\n",
        ">>> func()\n",
        ">>> print(X)\n"
      ],
      "metadata": {
        "id": "d3D7L6o2IPAT"
      }
    },
    {
      "cell_type": "code",
      "source": [
        "x= \"iNeuron\"\n",
        "def func():\n",
        "  x=\"NI!\"\n",
        "func()\n",
        "print(x)"
      ],
      "metadata": {
        "colab": {
          "base_uri": "https://localhost:8080/"
        },
        "id": "I4lL9YemIJwK",
        "outputId": "7da795f8-3952-4826-d1c6-a340ea53a40c"
      },
      "execution_count": 4,
      "outputs": [
        {
          "output_type": "stream",
          "name": "stdout",
          "text": [
            "iNeuron\n"
          ]
        }
      ]
    },
    {
      "cell_type": "markdown",
      "source": [
        "Sol: In this program, func() is defined and called. But inside the function, the value of x = \"NI!\". The value of x is printed but outside the function. \n",
        "So, the  global variable x with the value \"iNeuron\" is printed."
      ],
      "metadata": {
        "id": "GPYgFcQyJFLh"
      }
    },
    {
      "cell_type": "markdown",
      "source": [
        "Q3. What output does this code produce? Why? \n",
        "x= \"iNeuron\"\n",
        "def func():\n",
        "  x=\"NI!\"\n",
        "func()\n",
        "print(x)"
      ],
      "metadata": {
        "id": "M-J9xPP_J-7P"
      }
    },
    {
      "cell_type": "code",
      "source": [
        "x=\"iNeuron\"\n",
        "def func():\n",
        "  \n",
        "  x=\"NI!\"\n",
        "  print(x)\n",
        "func()\n",
        "print(x)"
      ],
      "metadata": {
        "colab": {
          "base_uri": "https://localhost:8080/"
        },
        "id": "f_h8pHAqKbK4",
        "outputId": "71738d49-21e6-4ca8-8c0e-5fc68746486e"
      },
      "execution_count": 5,
      "outputs": [
        {
          "output_type": "stream",
          "name": "stdout",
          "text": [
            "NI!\n",
            "iNeuron\n"
          ]
        }
      ]
    },
    {
      "cell_type": "markdown",
      "source": [
        "Sol: In this program, orignally the value of x = \"iNeuron\" (Global Variable).\n",
        "But inside the function x = \"NI!\"(local variable)\n",
        "First print statement gives the value of local variable i.e. \"NI!\"\n",
        "Second print statement gives the value of global varaible x i.e. \"iNeuron\"."
      ],
      "metadata": {
        "id": "FYu52s-MMMw6"
      }
    },
    {
      "cell_type": "markdown",
      "source": [
        "Q4. What output does this code produce? Why?\n",
        "\n",
        "\n",
        ">>> X = 'iNeuron'\n",
        ">>> def func():\n",
        "global X\n",
        "X = 'NI'\n",
        "\n",
        "\n",
        ">>> func()\n",
        ">>> print(X)\n"
      ],
      "metadata": {
        "id": "lv4rbfxOKEgI"
      }
    },
    {
      "cell_type": "code",
      "source": [
        "x=\"iNeuron\"\n",
        "def func():\n",
        "  global x\n",
        "  x=\"NI!\"\n",
        "func()\n",
        "print(x)\n"
      ],
      "metadata": {
        "colab": {
          "base_uri": "https://localhost:8080/"
        },
        "id": "zWhmFHR_Mw3S",
        "outputId": "dccfae85-aa23-4a29-c5c9-26e4724ebe2b"
      },
      "execution_count": 6,
      "outputs": [
        {
          "output_type": "stream",
          "name": "stdout",
          "text": [
            "NI!\n"
          ]
        }
      ]
    },
    {
      "cell_type": "markdown",
      "source": [
        "Sol: In this program, orignally the value of x = \"iNeuron\" (Global Variable).\n",
        "But inside the function x is mentioned as global and the value of x is reassigned to be x = \"NI!\"\n",
        "Now on printing the value of x , the output turned out to be \"NI!\"."
      ],
      "metadata": {
        "id": "hApKHa7kNBhS"
      }
    },
    {
      "cell_type": "markdown",
      "source": [
        "Q5. What about this code—what’s the output, and why?\n",
        "\n",
        "\n",
        ">>> X = 'iNeuron'\n",
        ">>> def func():\n",
        "X = 'NI'\n",
        "def nested():\n",
        "print(X)\n",
        "nested()\n",
        "\n",
        "\n",
        ">>> func()\n",
        ">>> X\n"
      ],
      "metadata": {
        "id": "AwzdSDKOKIe8"
      }
    },
    {
      "cell_type": "code",
      "source": [
        "x=\"iNeuron\"\n",
        "def func():\n",
        "  x=\"NI!\"\n",
        "  def nested():\n",
        "    print(x)\n",
        "  nested()\n",
        "func()\n",
        "x"
      ],
      "metadata": {
        "colab": {
          "base_uri": "https://localhost:8080/",
          "height": 53
        },
        "id": "KZiJ-_YeNtMI",
        "outputId": "340f29a9-841c-44d7-bb8a-0f4c597b8860"
      },
      "execution_count": 7,
      "outputs": [
        {
          "output_type": "stream",
          "name": "stdout",
          "text": [
            "NI!\n"
          ]
        },
        {
          "output_type": "execute_result",
          "data": {
            "application/vnd.google.colaboratory.intrinsic+json": {
              "type": "string"
            },
            "text/plain": [
              "'iNeuron'"
            ]
          },
          "metadata": {},
          "execution_count": 7
        }
      ]
    },
    {
      "cell_type": "markdown",
      "source": [
        "Sol: In this program, nested function is depicted. \n",
        "def nested() is a function which is nestedly defined inside the other def func().\n",
        "for def func() - x = \"iNeuron\" is a global variable. Whereas, for def nested()- x = \"NI!\" is a global variable.\n",
        "Hence the print statement inside def nested() prints \"NI!\"\n",
        "And the last statement x gives the value of global x i.e. \"iNeuron\"."
      ],
      "metadata": {
        "id": "RoD_GMW8OEDI"
      }
    },
    {
      "cell_type": "markdown",
      "source": [
        "Q6. How about this code: what is its output in Python 3, and explain?\n",
        "\n",
        "\n",
        ">>> def func():\n",
        "X = 'NI'\n",
        "def nested():\n",
        "nonlocal X\n",
        "X = 'Spam'\n",
        "nested()\n",
        "print(X)\n",
        "\n",
        "\n",
        ">>> func()\n"
      ],
      "metadata": {
        "id": "VWVCTFtgKRcx"
      }
    },
    {
      "cell_type": "code",
      "source": [
        "def func():\n",
        "  x= \"NI!\"\n",
        "  def nested():\n",
        "    nonlocal x\n",
        "    x=\"spam\"\n",
        "    \n",
        "  nested()\n",
        "  print(x)\n",
        "func()"
      ],
      "metadata": {
        "colab": {
          "base_uri": "https://localhost:8080/"
        },
        "id": "kOmsnH7zIlLs",
        "outputId": "e4413fda-d411-4b67-a306-abb178108f59"
      },
      "execution_count": 8,
      "outputs": [
        {
          "output_type": "stream",
          "name": "stdout",
          "text": [
            "spam\n"
          ]
        }
      ]
    },
    {
      "cell_type": "markdown",
      "source": [
        "Sol 6: In this program, the local variable, x = \"NI!\" whereas nonlocal variable x = \"spam\". The scope of non-local variable is neither local nor global.\n",
        "Non-local variables are defined inside the nested function.\n",
        "In a way, the non-local variable acted as a global variable for the outside function."
      ],
      "metadata": {
        "id": "cYhi5ekKUUlb"
      }
    }
  ]
}
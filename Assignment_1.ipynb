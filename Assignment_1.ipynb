{
  "nbformat": 4,
  "nbformat_minor": 0,
  "metadata": {
    "colab": {
      "name": "Assignment 1",
      "provenance": []
    },
    "kernelspec": {
      "name": "python3",
      "display_name": "Python 3"
    },
    "language_info": {
      "name": "python"
    }
  },
  "cells": [
    {
      "cell_type": "code",
      "execution_count": null,
      "metadata": {
        "id": "bgvXZo9QFi6D"
      },
      "outputs": [],
      "source": [
        "1.\tIn the below elements which of them are values or an expression? eg:- values can be integer or string and expressions will be mathematical operators."
      ]
    },
    {
      "cell_type": "markdown",
      "source": [
        "Expression = * , - , /, +  \t\n",
        "Values = 'hello' , -87.8, 6\n"
      ],
      "metadata": {
        "id": "V53Zb5U_Fkz0"
      }
    },
    {
      "cell_type": "markdown",
      "source": [
        "2. What is the difference between string and variable?\n",
        "Sol:  String: String is the data type of the programming language which are made up of ordered sequence of Characters.\n",
        "\n",
        "Anything that is enclosed in the double or single quotes are the strings. \n",
        "Not only the alphabets, but the Numerals can also be converted into strings by enclosing them into the quotes .(“….”)\n",
        "Ex : “Hello World”, “Dance”, “98”\n",
        "\n",
        "Variables: Variables are defined as the place which is used to store  the values. \n",
        "Ex:  a=10 ; b=20 . Here, a and b are variables which are used to store the values i.e. 10 and 20 respectively. \n"
      ],
      "metadata": {
        "id": "4og9GKiYF_kw"
      }
    },
    {
      "cell_type": "markdown",
      "source": [
        "3. Describe three different data types.\n",
        " \n",
        " Sol : In python we have data that is in the form of different types:\n",
        "1.\t**Numeric and Characters:** Data expressed in the form of numerals and aplphabets. \n",
        "Ex: Integer, Floats, Complex, String.\n",
        "2.**\tSequence **: Data expressed in the form of series. \n",
        "Ex: List, Tuple, Set\n",
        "3.**\tMap **: Data Expressed with key and Value Pair. \n",
        "Example: Dictionary\n"
      ],
      "metadata": {
        "id": "POdWGvAHGIEc"
      }
    },
    {
      "cell_type": "markdown",
      "source": [
        "4.\tWhat is an expression made up of? What do all expressions do?\n",
        "Sol : An expression is made up of operators and operands. \n",
        "Example:    2 + 6 = 8\n",
        "**Operators** : + and =\n",
        "**Operands **: 2, 6 and 8\n"
      ],
      "metadata": {
        "id": "3VEsD23BGYXG"
      }
    },
    {
      "cell_type": "markdown",
      "source": [
        "5.\tThis assignment statements, like spam = 10. What is the difference between an expression and a statement?\n",
        "\n",
        "Sol: Expression yields the result. While the statement represents an action or command.\n",
        "\n",
        "Expression consists of operators and operands.Ex: 2+6=8\n",
        "\n",
        "Statements does something. Ex:print(“….”) statement\n"
      ],
      "metadata": {
        "id": "8m0iKp26GpnW"
      }
    },
    {
      "cell_type": "markdown",
      "source": [
        "6. After running the following code, what does the variable bacon contain?\n",
        "bacon = 22\n",
        "bacon + 1\n",
        "\n"
      ],
      "metadata": {
        "id": "tFU3Nx9pG3rG"
      }
    },
    {
      "cell_type": "code",
      "source": [
        "bacon = 22 "
      ],
      "metadata": {
        "id": "4QuRg39SHEBI"
      },
      "execution_count": 4,
      "outputs": []
    },
    {
      "cell_type": "code",
      "source": [
        " bacon + 1\n"
      ],
      "metadata": {
        "colab": {
          "base_uri": "https://localhost:8080/"
        },
        "id": "JJaM_jg_HEot",
        "outputId": "5dd08776-8c97-4fcc-c4eb-b5fcbd942714"
      },
      "execution_count": 6,
      "outputs": [
        {
          "output_type": "execute_result",
          "data": {
            "text/plain": [
              "23"
            ]
          },
          "metadata": {},
          "execution_count": 6
        }
      ]
    },
    {
      "cell_type": "code",
      "source": [
        "bacon"
      ],
      "metadata": {
        "colab": {
          "base_uri": "https://localhost:8080/"
        },
        "id": "M9gDeixaHMNY",
        "outputId": "e9d95de4-9463-4ca0-de55-1079abefa47f"
      },
      "execution_count": 5,
      "outputs": [
        {
          "output_type": "execute_result",
          "data": {
            "text/plain": [
              "22"
            ]
          },
          "metadata": {},
          "execution_count": 5
        }
      ]
    },
    {
      "cell_type": "markdown",
      "source": [
        "7. What should the values of the following two terms be?\n",
        "\n",
        "1. 'spam' + 'spamspam'\n",
        "2. 'spam' * 3\n",
        "\n",
        "Sol:  1. ‘spamspamspam’\n",
        "2. ‘spamspamspam’\n",
        "\n",
        "\n"
      ],
      "metadata": {
        "id": "GUiTm8RRHhuv"
      }
    },
    {
      "cell_type": "markdown",
      "source": [
        "8. Why is eggs a valid variable name while 100 is invalid?\n",
        "\n",
        "Sol: The name of the variable can only start with alphabets but not with numbers and special characters. \n",
        "\n",
        "Hence eggs can be a valid variable while 100 is not.\n"
      ],
      "metadata": {
        "id": "BxJ2Mi_rHshG"
      }
    },
    {
      "cell_type": "markdown",
      "source": [
        "9. What three functions can be used to get the integer, floating-point number, or string version of a value?\n",
        "\n",
        "Sol : Functions used to get:\n",
        "Interger :int()\n",
        "Floating – point Number :   float()\n",
        "String : str()\n"
      ],
      "metadata": {
        "id": "4gKwPhJZH0E1"
      }
    },
    {
      "cell_type": "markdown",
      "source": [
        "10. Why does this expression cause an error? How can you fix it?\n",
        "\n",
        "'I have eaten ' + 99 + ' burritos.'\n",
        "\n",
        "Sol: This expression contains an error because we can add two different Data Types.\n",
        "Here, in this expression ; we are adding str and int. which is not possible.\n"
      ],
      "metadata": {
        "id": "kv33FznyH8eF"
      }
    },
    {
      "cell_type": "code",
      "source": [
        "'I have eaten ' + 99 + ' burritos.'"
      ],
      "metadata": {
        "colab": {
          "base_uri": "https://localhost:8080/",
          "height": 165
        },
        "id": "QmmnhMKXIGlw",
        "outputId": "e5df9b70-3ab8-4d12-9795-d4a7a53ec14c"
      },
      "execution_count": 7,
      "outputs": [
        {
          "output_type": "error",
          "ename": "TypeError",
          "evalue": "ignored",
          "traceback": [
            "\u001b[0;31m---------------------------------------------------------------------------\u001b[0m",
            "\u001b[0;31mTypeError\u001b[0m                                 Traceback (most recent call last)",
            "\u001b[0;32m<ipython-input-7-d24137131a5c>\u001b[0m in \u001b[0;36m<module>\u001b[0;34m()\u001b[0m\n\u001b[0;32m----> 1\u001b[0;31m \u001b[0;34m'I have eaten '\u001b[0m \u001b[0;34m+\u001b[0m \u001b[0;36m99\u001b[0m \u001b[0;34m+\u001b[0m \u001b[0;34m' burritos.'\u001b[0m\u001b[0;34m\u001b[0m\u001b[0;34m\u001b[0m\u001b[0m\n\u001b[0m",
            "\u001b[0;31mTypeError\u001b[0m: can only concatenate str (not \"int\") to str"
          ]
        }
      ]
    },
    {
      "cell_type": "markdown",
      "source": [
        "Process to fix:  Converting int() into the str()"
      ],
      "metadata": {
        "id": "XpzMuScvIPfP"
      }
    },
    {
      "cell_type": "code",
      "source": [
        "'I have eaten ' + str(99) + ' burritos.'"
      ],
      "metadata": {
        "colab": {
          "base_uri": "https://localhost:8080/",
          "height": 35
        },
        "id": "GwDlfGx6IVOV",
        "outputId": "6208a653-a4c5-41a5-f6c2-98174a9c3b36"
      },
      "execution_count": 9,
      "outputs": [
        {
          "output_type": "execute_result",
          "data": {
            "application/vnd.google.colaboratory.intrinsic+json": {
              "type": "string"
            },
            "text/plain": [
              "'I have eaten 99 burritos.'"
            ]
          },
          "metadata": {},
          "execution_count": 9
        }
      ]
    },
    {
      "cell_type": "code",
      "source": [
        ""
      ],
      "metadata": {
        "id": "gRN51yapIV6T"
      },
      "execution_count": null,
      "outputs": []
    }
  ]
}
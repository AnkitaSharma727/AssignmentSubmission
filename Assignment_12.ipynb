{
  "nbformat": 4,
  "nbformat_minor": 0,
  "metadata": {
    "colab": {
      "name": "Assignment_12.ipynb",
      "provenance": []
    },
    "kernelspec": {
      "name": "python3",
      "display_name": "Python 3"
    },
    "language_info": {
      "name": "python"
    }
  },
  "cells": [
    {
      "cell_type": "markdown",
      "source": [
        "Q 1.\tWrite a Python program to Extract Unique values dictionary values?"
      ],
      "metadata": {
        "id": "zFFO5ZL21n6i"
      }
    },
    {
      "cell_type": "code",
      "source": [
        "dict= {1: [1,2,3,4], 2: [2,3,5,6], 3: [5,4,6,7,8,9,12], 4: [3,6,7,2,8,9], 5: [3,5,6,7,12,10]}\n",
        "res = list(sorted({ele for val in dict.values() for ele in val}))\n",
        "print(\"The unique value list is :\",str(res))"
      ],
      "metadata": {
        "colab": {
          "base_uri": "https://localhost:8080/"
        },
        "id": "YeWORTts1__f",
        "outputId": "31a936c2-ed35-47b4-dbfd-2acc40f2ce48"
      },
      "execution_count": 1,
      "outputs": [
        {
          "output_type": "stream",
          "name": "stdout",
          "text": [
            "The unique value list is : [1, 2, 3, 4, 5, 6, 7, 8, 9, 10, 12]\n"
          ]
        }
      ]
    },
    {
      "cell_type": "markdown",
      "source": [
        "Q 2.\tWrite a Python program to find the sum of all items in a dictionary?"
      ],
      "metadata": {
        "id": "Mo9_kZK_1ru4"
      }
    },
    {
      "cell_type": "code",
      "source": [
        "def add(dict):\n",
        " sum = 0\n",
        " for i in dict.values():\n",
        "   sum = sum+i\n",
        " return sum\n",
        "\n",
        "\n",
        "\n",
        "dict = { 1 : 200 , 2: 400, 3: 500}\n",
        "print(\"sum :\",add(dict))"
      ],
      "metadata": {
        "colab": {
          "base_uri": "https://localhost:8080/"
        },
        "id": "N-L96mh04KAL",
        "outputId": "1405cfe2-c1c1-47f3-ea68-505155746da1"
      },
      "execution_count": 3,
      "outputs": [
        {
          "output_type": "stream",
          "name": "stdout",
          "text": [
            "sum : 1100\n"
          ]
        }
      ]
    },
    {
      "cell_type": "markdown",
      "source": [
        "Q 3.\tWrite a Python program to Merging two Dictionaries?"
      ],
      "metadata": {
        "id": "CcJ_89U01u8T"
      }
    },
    {
      "cell_type": "code",
      "source": [
        "def merge(dict1,dict2):\n",
        "  return(dict2.update(dict1))\n",
        "\n",
        "dict1 = {\"a\" : \"good\", \"b\" : \"bad\"}\n",
        "dict2 = {\"c\" : \"summer\", \"d\" : \"winter\"}\n",
        "print(merge(dict1,dict2))\n",
        "print(dict2)"
      ],
      "metadata": {
        "colab": {
          "base_uri": "https://localhost:8080/"
        },
        "id": "HGGUoI9T5fzY",
        "outputId": "1178d8f1-f2e9-494e-98ff-c88d14f1552b"
      },
      "execution_count": 6,
      "outputs": [
        {
          "output_type": "stream",
          "name": "stdout",
          "text": [
            "None\n",
            "{'c': 'summer', 'd': 'winter', 'a': 'good', 'b': 'bad'}\n"
          ]
        }
      ]
    },
    {
      "cell_type": "markdown",
      "source": [
        "Q 4.\tWrite a Python program to convert key-values list to flat dictionary?"
      ],
      "metadata": {
        "id": "DHUWtG-S1yTO"
      }
    },
    {
      "cell_type": "code",
      "source": [
        "keys = [1,2,3,4,5]\n",
        "values = [ \"Jan\", \"Feb\", \"Mar\", \"April\", \"May\"]\n",
        "data = dict(zip(keys,values))\n",
        "print(data)"
      ],
      "metadata": {
        "colab": {
          "base_uri": "https://localhost:8080/"
        },
        "id": "AZz5F0_x6XdN",
        "outputId": "6dd0bad0-df33-4429-8c35-6a7c8c5a5878"
      },
      "execution_count": 2,
      "outputs": [
        {
          "output_type": "stream",
          "name": "stdout",
          "text": [
            "{1: 'Jan', 2: 'Feb', 3: 'Mar', 4: 'April', 5: 'May'}\n"
          ]
        }
      ]
    },
    {
      "cell_type": "markdown",
      "source": [
        "Q 5.\tWrite a Python program to insertion at the beginning in OrderedDict?"
      ],
      "metadata": {
        "id": "SKkvWWIK102t"
      }
    },
    {
      "cell_type": "code",
      "source": [
        "from collections import OrderedDict\n",
        "dict1 = OrderedDict([(\"a\", \"Apple\"), (\"b\", \"Boy\")])\n",
        "dict2 = OrderedDict([(\"c\", \"Catterpillar\"), (\"d\", \"Dinosuarous\")])\n",
        "both = (list(dict2.items()) + list(dict1.items()))\n",
        "print(\"Required Dictionary :\" + str(both))"
      ],
      "metadata": {
        "colab": {
          "base_uri": "https://localhost:8080/"
        },
        "id": "Mp81OPGdY3de",
        "outputId": "541d2d2a-6e85-494a-f5fc-7c716e507024"
      },
      "execution_count": 8,
      "outputs": [
        {
          "output_type": "stream",
          "name": "stdout",
          "text": [
            "Required Dictionary :[('c', 'Catterpillar'), ('d', 'Dinosuarous'), ('a', 'Apple'), ('b', 'Boy')]\n"
          ]
        }
      ]
    },
    {
      "cell_type": "markdown",
      "source": [
        "Q 6.\tWrite a Python program to check order of character in string using OrderedDict()?"
      ],
      "metadata": {
        "id": "NmjsPinI13tg"
      }
    },
    {
      "cell_type": "code",
      "source": [
        "from collections import OrderedDict\n",
        "def checkOrder(input, pattern):\n",
        "  dict = OrderedDict.fromkeys(input)\n",
        "  ptrlen=0\n",
        "  for key,value in dict.items():\n",
        "    if (key == pattern[ptrlen]):\n",
        "      ptrlen = ptrlen+1\n",
        "    if (ptrlen == (len(pattern))):\n",
        "      return \"true\"\n",
        "  return \"false\"\n",
        "if __name__ == \"__main__\":\n",
        "  input = \"engineering books\"\n",
        "  pattern = \"egr\"\n",
        "  print(checkOrder(input, pattern))"
      ],
      "metadata": {
        "colab": {
          "base_uri": "https://localhost:8080/"
        },
        "id": "ae9CvqfugUhf",
        "outputId": "50f5b60a-d653-4c4b-9bae-f955b4712786"
      },
      "execution_count": 11,
      "outputs": [
        {
          "output_type": "stream",
          "name": "stdout",
          "text": [
            "true\n"
          ]
        }
      ]
    },
    {
      "cell_type": "markdown",
      "source": [
        "Q 7.\tWrite a Python program to sort Python Dictionaries by Key or Value?"
      ],
      "metadata": {
        "id": "W4ccNFLh17b3"
      }
    },
    {
      "cell_type": "code",
      "source": [
        "def dict():\n",
        "  key_value = {}\n",
        "  key_value[2]= 66\n",
        "  key_value[1]= 34\n",
        "  key_value[3]= 23\n",
        "  key_value[4]= 86\n",
        "  key_value[6]= 37\n",
        "  key_value[5]= 49\n",
        "  print(\"Task 1: - \\n\")\n",
        "  print(\"Keys are :\")\n",
        "  for i in sorted(key_value.keys()):\n",
        "    print((i, key_value[i]), end=\" \")\n",
        "def main():\n",
        "  dict()\n",
        "if __name__ == \"__main__\":\n",
        "  main()"
      ],
      "metadata": {
        "colab": {
          "base_uri": "https://localhost:8080/"
        },
        "id": "iuBRU3PTik6M",
        "outputId": "e39f2a21-78d2-46c0-de85-d52577db6b77"
      },
      "execution_count": 14,
      "outputs": [
        {
          "output_type": "stream",
          "name": "stdout",
          "text": [
            "Task 1: - \n",
            "\n",
            "Keys are :\n",
            "(1, 34) (2, 66) (3, 23) (4, 86) (5, 49) (6, 37) "
          ]
        }
      ]
    }
  ]
}
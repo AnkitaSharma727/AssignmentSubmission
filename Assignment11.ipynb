{
  "nbformat": 4,
  "nbformat_minor": 0,
  "metadata": {
    "colab": {
      "name": "Assignment11.ipynb",
      "provenance": []
    },
    "kernelspec": {
      "name": "python3",
      "display_name": "Python 3"
    },
    "language_info": {
      "name": "python"
    }
  },
  "cells": [
    {
      "cell_type": "markdown",
      "source": [
        "Q1.Create an assert statement that throws an AssertionError if the variable spam is a negative integer."
      ],
      "metadata": {
        "id": "Vv3XNCCvWlgW"
      }
    },
    {
      "cell_type": "code",
      "source": [
        "#  Syntax for assertion\n",
        "# assert condition [, Error Message] \n",
        "spam =int( input(\"Enter the number\"))\n",
        "assert spam >= 0, 'The spam variable is a negative number.'\n",
        "print(\"Entered number is a positive integer\")"
      ],
      "metadata": {
        "colab": {
          "base_uri": "https://localhost:8080/",
          "height": 234
        },
        "id": "lLppkwJFW9Be",
        "outputId": "b8360ec4-101f-4e50-d43d-2d036baa5a5b"
      },
      "execution_count": 8,
      "outputs": [
        {
          "name": "stdout",
          "output_type": "stream",
          "text": [
            "Enter the number-2\n"
          ]
        },
        {
          "output_type": "error",
          "ename": "AssertionError",
          "evalue": "ignored",
          "traceback": [
            "\u001b[0;31m---------------------------------------------------------------------------\u001b[0m",
            "\u001b[0;31mAssertionError\u001b[0m                            Traceback (most recent call last)",
            "\u001b[0;32m<ipython-input-8-8d4eb40aff8a>\u001b[0m in \u001b[0;36m<module>\u001b[0;34m()\u001b[0m\n\u001b[1;32m      2\u001b[0m \u001b[0;31m# assert condition [, Error Message]\u001b[0m\u001b[0;34m\u001b[0m\u001b[0;34m\u001b[0m\u001b[0;34m\u001b[0m\u001b[0m\n\u001b[1;32m      3\u001b[0m \u001b[0mspam\u001b[0m \u001b[0;34m=\u001b[0m\u001b[0mint\u001b[0m\u001b[0;34m(\u001b[0m \u001b[0minput\u001b[0m\u001b[0;34m(\u001b[0m\u001b[0;34m\"Enter the number\"\u001b[0m\u001b[0;34m)\u001b[0m\u001b[0;34m)\u001b[0m\u001b[0;34m\u001b[0m\u001b[0;34m\u001b[0m\u001b[0m\n\u001b[0;32m----> 4\u001b[0;31m \u001b[0;32massert\u001b[0m \u001b[0mspam\u001b[0m \u001b[0;34m>=\u001b[0m \u001b[0;36m0\u001b[0m\u001b[0;34m,\u001b[0m \u001b[0;34m'The spam variable is a negative number.'\u001b[0m\u001b[0;34m\u001b[0m\u001b[0;34m\u001b[0m\u001b[0m\n\u001b[0m\u001b[1;32m      5\u001b[0m \u001b[0mprint\u001b[0m\u001b[0;34m(\u001b[0m\u001b[0;34m\"Entered number is a positive integer\"\u001b[0m\u001b[0;34m)\u001b[0m\u001b[0;34m\u001b[0m\u001b[0;34m\u001b[0m\u001b[0m\n",
            "\u001b[0;31mAssertionError\u001b[0m: The spam variable is a negative number."
          ]
        }
      ]
    },
    {
      "cell_type": "markdown",
      "source": [
        "Q2. Write an assert statement that triggers an AssertionError if the variables eggs and bacon contain strings that are the same as each other, even if their cases are different (that is, 'hello' and 'hello' are considered the same, and 'goodbye' and 'GOODbye' are also considered the same)."
      ],
      "metadata": {
        "id": "OJkCwGBuXEDi"
      }
    },
    {
      "cell_type": "code",
      "execution_count": 14,
      "metadata": {
        "colab": {
          "base_uri": "https://localhost:8080/",
          "height": 217
        },
        "id": "6Lcy0oj-Wakf",
        "outputId": "70df6507-1ed8-4432-ba05-95e39bae333f"
      },
      "outputs": [
        {
          "output_type": "error",
          "ename": "AssertionError",
          "evalue": "ignored",
          "traceback": [
            "\u001b[0;31m---------------------------------------------------------------------------\u001b[0m",
            "\u001b[0;31mAssertionError\u001b[0m                            Traceback (most recent call last)",
            "\u001b[0;32m<ipython-input-14-c945bb998b9a>\u001b[0m in \u001b[0;36m<module>\u001b[0;34m()\u001b[0m\n\u001b[1;32m      2\u001b[0m \u001b[0mbacon\u001b[0m \u001b[0;34m=\u001b[0m \u001b[0;34m\"HELLO\"\u001b[0m\u001b[0;34m\u001b[0m\u001b[0;34m\u001b[0m\u001b[0m\n\u001b[1;32m      3\u001b[0m \u001b[0;34m\u001b[0m\u001b[0m\n\u001b[0;32m----> 4\u001b[0;31m \u001b[0;32massert\u001b[0m \u001b[0meggs\u001b[0m\u001b[0;34m.\u001b[0m\u001b[0mlower\u001b[0m\u001b[0;34m(\u001b[0m\u001b[0;34m)\u001b[0m \u001b[0;34m!=\u001b[0m \u001b[0mbacon\u001b[0m\u001b[0;34m.\u001b[0m\u001b[0mlower\u001b[0m\u001b[0;34m(\u001b[0m\u001b[0;34m)\u001b[0m\u001b[0;34m,\u001b[0m \u001b[0;34m'The eggs and bacon variables are the same!'\u001b[0m\u001b[0;34m\u001b[0m\u001b[0;34m\u001b[0m\u001b[0m\n\u001b[0m\u001b[1;32m      5\u001b[0m \u001b[0;32massert\u001b[0m \u001b[0meggs\u001b[0m\u001b[0;34m.\u001b[0m\u001b[0mupper\u001b[0m\u001b[0;34m(\u001b[0m\u001b[0;34m)\u001b[0m \u001b[0;34m!=\u001b[0m \u001b[0mbacon\u001b[0m\u001b[0;34m.\u001b[0m\u001b[0mupper\u001b[0m\u001b[0;34m(\u001b[0m\u001b[0;34m)\u001b[0m\u001b[0;34m,\u001b[0m \u001b[0;34m'The eggs and bacon variables are the same!'\u001b[0m\u001b[0;34m\u001b[0m\u001b[0;34m\u001b[0m\u001b[0m\n",
            "\u001b[0;31mAssertionError\u001b[0m: The eggs and bacon variables are the same!"
          ]
        }
      ],
      "source": [
        "eggs = \"hello\"\n",
        "bacon = \"HELLO\"\n",
        "\n",
        "assert eggs.lower() != bacon.lower(), 'The eggs and bacon variables are the same!' \n",
        "assert eggs.upper() != bacon.upper(), 'The eggs and bacon variables are the same!'"
      ]
    },
    {
      "cell_type": "markdown",
      "source": [
        "Q3. Create an assert statement that throws an AssertionError every time."
      ],
      "metadata": {
        "id": "yjh-BYU0aJ5y"
      }
    },
    {
      "cell_type": "markdown",
      "source": [
        "Sol: assert(False, 'This assertion always triggers.')"
      ],
      "metadata": {
        "id": "5uAZh6gWaRhb"
      }
    },
    {
      "cell_type": "markdown",
      "source": [
        "Q4. . What are the two lines that must be present in your software in order to call logging.debug()?"
      ],
      "metadata": {
        "id": "1GVkwzW3aWXs"
      }
    },
    {
      "cell_type": "markdown",
      "source": [
        "Sol: To be able to call logging.debug(), you must have these two lines at the start of your program:\n",
        "import logging \n",
        "logging.basicConfig(level=logging.DEBUG, format=' %(asctime)s - %(levelname)s - %(message)s')"
      ],
      "metadata": {
        "id": "R0A4TEvIagM6"
      }
    },
    {
      "cell_type": "markdown",
      "source": [
        "Q5. What are the two lines that your program must have in order to have logging.debug() send a logging message to a file named programLog.txt?"
      ],
      "metadata": {
        "id": "JyI44kD9apoD"
      }
    },
    {
      "cell_type": "markdown",
      "source": [
        "Sol: import logging\n",
        "logging.basicConfig(filename='programLog.txt', level=logging.DEBUG, format=' %(asctime)s - %(levelname)s - %(message)s')"
      ],
      "metadata": {
        "id": "MU2crbQqaz09"
      }
    },
    {
      "cell_type": "markdown",
      "source": [
        "Q6. What are the five levels of logging?"
      ],
      "metadata": {
        "id": "fwFUyBSha2hB"
      }
    },
    {
      "cell_type": "markdown",
      "source": [
        "Sol: 1. DEBUG\n",
        "2. INFO\n",
        "3. WARNING \n",
        "4. ERROR\n",
        "5. CRITICAL"
      ],
      "metadata": {
        "id": "qnDyFLSca5vA"
      }
    },
    {
      "cell_type": "markdown",
      "source": [
        "Q7. What line of code would you add to your software to disable all logging messages?"
      ],
      "metadata": {
        "id": "It7AxwCObDo_"
      }
    },
    {
      "cell_type": "markdown",
      "source": [
        "Sol: logging.disable(logging.CRITICAL)"
      ],
      "metadata": {
        "id": "AVo2CyivbUVm"
      }
    },
    {
      "cell_type": "markdown",
      "source": [
        "Q8. Why is using logging messages better than using print() to display the same message?"
      ],
      "metadata": {
        "id": "i_wmJ8KMbYu2"
      }
    },
    {
      "cell_type": "markdown",
      "source": [
        "Sol: 1. Logging message provides Timestamp. \n",
        "2. Logging messages can be disabled without removing the logging function call.\n",
        "3. Lower - level logging messages can be selectively disabled."
      ],
      "metadata": {
        "id": "LRuOHyM2boyu"
      }
    },
    {
      "cell_type": "markdown",
      "source": [
        "Q9. What are the differences between the Step Over, Step In, and Step Out buttons in the debugger?"
      ],
      "metadata": {
        "id": "1WZYynPucMBC"
      }
    },
    {
      "cell_type": "markdown",
      "source": [
        "Sol: The Step button will move the debugger into a function call. The Over button will quickly execute the function call without stepping into it. The Out button will quickly execute the rest of the code until it steps out of the function it currently is in."
      ],
      "metadata": {
        "id": "Fz0A4GMqcT-M"
      }
    },
    {
      "cell_type": "markdown",
      "source": [
        "Q 10. After you click Continue, when will the debugger stop ?"
      ],
      "metadata": {
        "id": "BMlZDlwucWYh"
      }
    },
    {
      "cell_type": "markdown",
      "source": [
        "Sol: Continue execution, only stop when a breakpoint is encountered. \n",
        "Set the next line that will be executed. Only available in the bottom-most frame. This lets you jump back and execute code again, or jump forward to skip code that you don't want to run."
      ],
      "metadata": {
        "id": "Phu2M2Tgcv4X"
      }
    },
    {
      "cell_type": "markdown",
      "source": [
        "Q11. What is the concept of a breakpoint?"
      ],
      "metadata": {
        "id": "n8STC-xyc0Y4"
      }
    },
    {
      "cell_type": "markdown",
      "source": [
        "Sol: Breakpoint is a setting on a line of code that causes the debugger to pause when the program execution reaches the line.\n",
        "A breakpoint is a means of acquiring knowledge about a program during its execution.\n",
        "It is also sometimes simply referred to as a pause."
      ],
      "metadata": {
        "id": "NStazDpadBZH"
      }
    },
    {
      "cell_type": "code",
      "source": [
        ""
      ],
      "metadata": {
        "id": "vVxjuh_WXJbh"
      },
      "execution_count": null,
      "outputs": []
    }
  ]
}
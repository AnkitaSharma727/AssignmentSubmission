{
  "nbformat": 4,
  "nbformat_minor": 0,
  "metadata": {
    "colab": {
      "name": "Assignment23.ipynb",
      "provenance": []
    },
    "kernelspec": {
      "name": "python3",
      "display_name": "Python 3"
    },
    "language_info": {
      "name": "python"
    }
  },
  "cells": [
    {
      "cell_type": "markdown",
      "source": [
        "Q1. What is the result of the code, and why?\n",
        ">>> def func(a, b=6, c=8):\n",
        "print(a, b, c)\n",
        ">>> func(1, 2)\n"
      ],
      "metadata": {
        "id": "wiICseBxoI3m"
      }
    },
    {
      "cell_type": "code",
      "execution_count": 1,
      "metadata": {
        "colab": {
          "base_uri": "https://localhost:8080/"
        },
        "id": "zv6X6AjToF0w",
        "outputId": "20625ee0-76a4-4d43-ef43-b2066c2668a0"
      },
      "outputs": [
        {
          "output_type": "stream",
          "name": "stdout",
          "text": [
            "1 2 8\n"
          ]
        }
      ],
      "source": [
        "def func(a, b=6, c=8): \n",
        "  print(a, b, c) \n",
        "func(1, 2)"
      ]
    },
    {
      "cell_type": "markdown",
      "source": [
        "Sol: Result of this code is (1,2,8). \n",
        "As the values of a = 1 ,b = 2 and c= 8(keyword argument)"
      ],
      "metadata": {
        "id": "bSknrfn3otCK"
      }
    },
    {
      "cell_type": "markdown",
      "source": [
        "2. What is the result of this code, and why?\n",
        ">>> def func(a, b, c=5):\n",
        "print(a, b, c)\n",
        ">>> func(1, c=3, b=2)\n"
      ],
      "metadata": {
        "id": "zRJGM13_ocSr"
      }
    },
    {
      "cell_type": "code",
      "source": [
        "def func(a, b, c=5): \n",
        "  print(a, b, c) \n",
        "func(1, c=3, b=2)"
      ],
      "metadata": {
        "colab": {
          "base_uri": "https://localhost:8080/"
        },
        "id": "8BEtNrt0pKxr",
        "outputId": "ba7ac5f7-b9f6-4881-edd3-fd782e0b3a57"
      },
      "execution_count": 2,
      "outputs": [
        {
          "output_type": "stream",
          "name": "stdout",
          "text": [
            "1 2 3\n"
          ]
        }
      ]
    },
    {
      "cell_type": "markdown",
      "source": [
        "Sol: Due to keyword argument, b= 2 and c=3\n",
        "while due to argument assignment ; a=1"
      ],
      "metadata": {
        "id": "YHDh3cEppRQg"
      }
    },
    {
      "cell_type": "markdown",
      "source": [
        "Q3. How about this code: what is its result, and why?\n",
        ">>> def func(a, *pargs):\n",
        "print(a, pargs)\n",
        ">>> func(1, 2, 3)\n"
      ],
      "metadata": {
        "id": "O8sC9XroodVE"
      }
    },
    {
      "cell_type": "code",
      "source": [
        "def func(a, *pargs): \n",
        "  print(a, pargs) \n",
        "func(1, 2, 3)"
      ],
      "metadata": {
        "colab": {
          "base_uri": "https://localhost:8080/"
        },
        "id": "8LM3PBm3pezF",
        "outputId": "7e68b01d-b363-4f24-d571-c870decbc1a8"
      },
      "execution_count": 3,
      "outputs": [
        {
          "output_type": "stream",
          "name": "stdout",
          "text": [
            "1 (2, 3)\n"
          ]
        }
      ]
    },
    {
      "cell_type": "markdown",
      "source": [
        "Sol: Here, a = 1 \n",
        " and *pargs= (2,3) [*args]"
      ],
      "metadata": {
        "id": "OWfrfaehpec1"
      }
    },
    {
      "cell_type": "markdown",
      "source": [
        "Q4. What does this code print, and why?\n",
        ">>> def func(a, **kargs):\n",
        "print(a, kargs)\n",
        ">>> func(a=1, c=3, b=2)\n"
      ],
      "metadata": {
        "id": "Y_NtgEV1oghP"
      }
    },
    {
      "cell_type": "code",
      "source": [
        "def func(a, **kargs): \n",
        "  print(a, kargs) \n",
        "func(a=1, c=3, b=2)"
      ],
      "metadata": {
        "colab": {
          "base_uri": "https://localhost:8080/"
        },
        "id": "92_SsrPyp5P1",
        "outputId": "93a27e06-a72e-4e58-ae4b-0ad4998a14c3"
      },
      "execution_count": 4,
      "outputs": [
        {
          "output_type": "stream",
          "name": "stdout",
          "text": [
            "1 {'c': 3, 'b': 2}\n"
          ]
        }
      ]
    },
    {
      "cell_type": "markdown",
      "source": [
        "Sol : Here a = 1, \n",
        "  while b = 2 and c= 3 [**kwargs] . The values entered in this is in the format of dictionary i.e. key and value pair."
      ],
      "metadata": {
        "id": "k5RSrzTgp-RC"
      }
    },
    {
      "cell_type": "markdown",
      "source": [
        "Q5. What gets printed by this, and explain?\n",
        ">>> def func(a, b, c=8, d=5): print(a, b, c, d)\n",
        ">>> func(1, *(5, 6))\n"
      ],
      "metadata": {
        "id": "3x2WWn8JojiZ"
      }
    },
    {
      "cell_type": "code",
      "source": [
        "def func(a, b, c=8, d=5): \n",
        "  print(a, b, c, d) \n",
        "func(1, *(5, 6))"
      ],
      "metadata": {
        "colab": {
          "base_uri": "https://localhost:8080/"
        },
        "id": "eRoofeKbqURS",
        "outputId": "6021f7cd-fd76-4f4d-bf13-f6df15100e4f"
      },
      "execution_count": 5,
      "outputs": [
        {
          "output_type": "stream",
          "name": "stdout",
          "text": [
            "1 5 6 5\n"
          ]
        }
      ]
    },
    {
      "cell_type": "markdown",
      "source": [
        "Q6. what is the result of this, and explain?\n",
        ">>> def func(a, b, c): a = 2; b[0] = 'x'; c['a'] = 'y'\n",
        ">>> l=1; m=[1]; n={'a':0}\n",
        ">>> func(l, m, n)\n",
        ">>> l, m, n\n"
      ],
      "metadata": {
        "id": "CT0Ad5A6onI3"
      }
    },
    {
      "cell_type": "code",
      "source": [
        "def func(a, b, c):\n",
        "  a = 2; \n",
        "  b[0] = 'x'; \n",
        "  c['a'] = 'y' ;\n",
        "  l=1; \n",
        "  m=[1]; \n",
        "  n={'a':0} \n",
        "func(l,m,n) "
      ],
      "metadata": {
        "colab": {
          "base_uri": "https://localhost:8080/",
          "height": 200
        },
        "id": "3uqBpPYjoXcN",
        "outputId": "ebd4e39a-8b2f-457a-989a-037fd2f30bcc"
      },
      "execution_count": 3,
      "outputs": [
        {
          "output_type": "error",
          "ename": "NameError",
          "evalue": "ignored",
          "traceback": [
            "\u001b[0;31m---------------------------------------------------------------------------\u001b[0m",
            "\u001b[0;31mNameError\u001b[0m                                 Traceback (most recent call last)",
            "\u001b[0;32m<ipython-input-3-f8be4c0bb674>\u001b[0m in \u001b[0;36m<module>\u001b[0;34m()\u001b[0m\n\u001b[1;32m      6\u001b[0m   \u001b[0mm\u001b[0m\u001b[0;34m=\u001b[0m\u001b[0;34m[\u001b[0m\u001b[0;36m1\u001b[0m\u001b[0;34m]\u001b[0m\u001b[0;34m;\u001b[0m\u001b[0;34m\u001b[0m\u001b[0;34m\u001b[0m\u001b[0m\n\u001b[1;32m      7\u001b[0m   \u001b[0mn\u001b[0m\u001b[0;34m=\u001b[0m\u001b[0;34m{\u001b[0m\u001b[0;34m'a'\u001b[0m\u001b[0;34m:\u001b[0m\u001b[0;36m0\u001b[0m\u001b[0;34m}\u001b[0m\u001b[0;34m\u001b[0m\u001b[0;34m\u001b[0m\u001b[0m\n\u001b[0;32m----> 8\u001b[0;31m \u001b[0mfunc\u001b[0m\u001b[0;34m(\u001b[0m\u001b[0ma\u001b[0m\u001b[0;34m,\u001b[0m\u001b[0mb\u001b[0m\u001b[0;34m,\u001b[0m\u001b[0mc\u001b[0m\u001b[0;34m)\u001b[0m\u001b[0;34m\u001b[0m\u001b[0;34m\u001b[0m\u001b[0m\n\u001b[0m",
            "\u001b[0;31mNameError\u001b[0m: name 'a' is not defined"
          ]
        }
      ]
    },
    {
      "cell_type": "code",
      "source": [
        ""
      ],
      "metadata": {
        "id": "qXtucmWfqvkR"
      },
      "execution_count": null,
      "outputs": []
    }
  ]
}
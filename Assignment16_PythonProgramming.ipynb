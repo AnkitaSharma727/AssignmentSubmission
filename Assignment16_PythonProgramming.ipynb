{
  "nbformat": 4,
  "nbformat_minor": 0,
  "metadata": {
    "colab": {
      "provenance": []
    },
    "kernelspec": {
      "name": "python3",
      "display_name": "Python 3"
    },
    "language_info": {
      "name": "python"
    }
  },
  "cells": [
    {
      "cell_type": "markdown",
      "source": [
        "Question1. Write a function that stutters a word as if someone is struggling to read it. The first two letters are repeated twice with an ellipsis ... and space after each, and then the word is pronounced with a question mark ?.\n",
        "Examples\n",
        "stutter(\"incredible\") ➞ \"in... in... incredible?\"\n",
        "\n",
        "stutter(\"enthusiastic\") ➞ \"en... en... enthusiastic?\"\n",
        "\n",
        "stutter(\"outstanding\") ➞ \"ou... ou... outstanding?\"\n"
      ],
      "metadata": {
        "id": "nSH-B2KecDAM"
      }
    },
    {
      "cell_type": "code",
      "execution_count": 2,
      "metadata": {
        "id": "VaildVWnb81k"
      },
      "outputs": [],
      "source": [
        "def stutter(word):\n",
        "  s = word[0:2]\n",
        "  return (2*(s+ \"...\"))+word+\"?\"\n",
        "word=\"Dog\"\n",
        "x=stutter(word)"
      ]
    },
    {
      "cell_type": "code",
      "source": [
        "print(x)"
      ],
      "metadata": {
        "colab": {
          "base_uri": "https://localhost:8080/"
        },
        "id": "qdBfQwxCcvij",
        "outputId": "99546adb-1ada-4680-8d0b-6535e4dd97fd"
      },
      "execution_count": 4,
      "outputs": [
        {
          "output_type": "stream",
          "name": "stdout",
          "text": [
            "Do...Do...Dog?\n"
          ]
        }
      ]
    },
    {
      "cell_type": "markdown",
      "source": [
        "Question 2.Create a function that takes an angle in radians and returns the corresponding angle in degrees rounded to one decimal place.\n",
        "Examples\n",
        "radians_to_degrees(1) ➞ 57.3\n",
        "\n",
        "radians_to_degrees(20) ➞ 1145.9\n",
        "\n",
        "radians_to_degrees(50) ➞ 2864.8\n"
      ],
      "metadata": {
        "id": "iHUPbMKXc_AQ"
      }
    },
    {
      "cell_type": "code",
      "source": [
        "def con(rad):\n",
        "  pi= 3.14\n",
        "  degree = rad *(180/pi)\n",
        "  return degree\n",
        "rad = 1\n",
        "x= con(rad)"
      ],
      "metadata": {
        "id": "bzRK4YZec2Pj"
      },
      "execution_count": 5,
      "outputs": []
    },
    {
      "cell_type": "code",
      "source": [
        "x"
      ],
      "metadata": {
        "colab": {
          "base_uri": "https://localhost:8080/"
        },
        "id": "3-DxiR_vdvkb",
        "outputId": "30ad829b-7864-4ce1-b97e-dbf7c1e88bb6"
      },
      "execution_count": 6,
      "outputs": [
        {
          "output_type": "execute_result",
          "data": {
            "text/plain": [
              "57.324840764331206"
            ]
          },
          "metadata": {},
          "execution_count": 6
        }
      ]
    },
    {
      "cell_type": "markdown",
      "source": [
        "Question 3. In this challenge, establish if a given integer num is a Curzon number. If 1 plus 2 elevated to num is exactly divisible by 1 plus 2 multiplied by num, then num is a Curzon number.\n",
        "Given a non-negative integer num, implement a function that returns True if num is a Curzon number, or False otherwise.\n",
        "Examples\n",
        "is_curzon(5) ➞ True\n",
        "# 2 ** 5 + 1 = 33\n",
        "# 2 * 5 + 1 = 11\n",
        "# 33 is a multiple of 11\n",
        "\n",
        "is_curzon(10) ➞ False\n",
        "# 2 ** 10 + 1 = 1025\n",
        "# 2 * 10 + 1 = 21\n",
        "# 1025 is not a multiple of 21\n",
        "\n",
        "is_curzon(14) ➞ True\n",
        "# 2 ** 14 + 1 = 16385\n",
        "# 2 * 14 + 1 = 29\n",
        "# 16385 is a multiple of 29\n"
      ],
      "metadata": {
        "id": "hL75gYqXdxg6"
      }
    },
    {
      "cell_type": "code",
      "source": [
        "def cur(n):\n",
        "  x= 2**n + 1\n",
        "  y = 2*n +1\n",
        "\n",
        "  if x % y == 0:\n",
        "    print(\"Given Number is Curzon Number\")\n",
        "  else:\n",
        "    print(\"Not Curzon\")\n",
        "\n",
        "cur(10)"
      ],
      "metadata": {
        "colab": {
          "base_uri": "https://localhost:8080/"
        },
        "id": "l-GukO0Kdweh",
        "outputId": "6488f8ea-6b61-479b-8b9e-c420b3b47e27"
      },
      "execution_count": 15,
      "outputs": [
        {
          "output_type": "stream",
          "name": "stdout",
          "text": [
            "Not Curzon\n"
          ]
        }
      ]
    },
    {
      "cell_type": "markdown",
      "source": [
        "Question 4.Given the side length x find the area of a hexagon.\n",
        " \n",
        "Examples\n",
        "area_of_hexagon(1) ➞ 2.6\n",
        "\n",
        "area_of_hexagon(2) ➞ 10.4\n",
        "\n",
        "area_of_hexagon(3) ➞ 23.4\n"
      ],
      "metadata": {
        "id": "WOtvwAZwht1e"
      }
    },
    {
      "cell_type": "code",
      "source": [
        "\n",
        "from math import sqrt\n",
        "\n",
        "def area(n):\n",
        "  Area = 3/2 * sqrt(3) * n**2\n",
        "  return Area\n",
        "\n",
        "n=int(input(\"Enter the side of the hexagon\"))\n",
        "x=area(n)\n",
        "print(n)"
      ],
      "metadata": {
        "colab": {
          "base_uri": "https://localhost:8080/",
          "height": 130
        },
        "id": "gosKNEX9er_Q",
        "outputId": "1cd7df6b-6b8d-4496-a326-abfbbf4ead4c"
      },
      "execution_count": 21,
      "outputs": [
        {
          "output_type": "error",
          "ename": "IndentationError",
          "evalue": "ignored",
          "traceback": [
            "\u001b[0;36m  File \u001b[0;32m\"<ipython-input-21-1ab69113ae52>\"\u001b[0;36m, line \u001b[0;32m2\u001b[0m\n\u001b[0;31m    from math import sqrt\u001b[0m\n\u001b[0m    ^\u001b[0m\n\u001b[0;31mIndentationError\u001b[0m\u001b[0;31m:\u001b[0m expected an indented block\n"
          ]
        }
      ]
    },
    {
      "cell_type": "markdown",
      "source": [
        "Question 5. Create a function that returns a base-2 (binary) representation of a base-10 (decimal) string number. To convert is simple: ((2) means base-2 and (10) means base-10) 010101001(2) = 1 + 8 + 32 + 128.\n",
        "Going from right to left, the value of the most right bit is 1, now from that every bit to the left will be x2 the value, value of an 8 bit binary numbers are (256, 128, 64, 32, 16, 8, 4, 2, 1).\n"
      ],
      "metadata": {
        "id": "qnuyRnC9iyf3"
      }
    },
    {
      "cell_type": "code",
      "source": [
        "try:\n",
        "  def fun5(n):\n",
        "    s = \"\"\n",
        "    while n !=0:\n",
        "      if n%2 == 0:\n",
        "        s = \"0\" + s\n",
        "      else:\n",
        "        s = \"1\"+ s\n",
        "        \n",
        "      n = n//2\n",
        "    print(s)\n",
        "except Exception as e:\n",
        "  print(e)"
      ],
      "metadata": {
        "id": "0GUwUt-jiags"
      },
      "execution_count": 19,
      "outputs": []
    },
    {
      "cell_type": "code",
      "source": [
        "fun5(16)"
      ],
      "metadata": {
        "colab": {
          "base_uri": "https://localhost:8080/"
        },
        "id": "4bp6i6G5mSDU",
        "outputId": "2189ab9e-281b-4057-e4ed-b4f38304a2d5"
      },
      "execution_count": 21,
      "outputs": [
        {
          "output_type": "stream",
          "name": "stdout",
          "text": [
            "10000\n"
          ]
        }
      ]
    },
    {
      "cell_type": "code",
      "source": [],
      "metadata": {
        "id": "6O6N1OKBCo9w"
      },
      "execution_count": null,
      "outputs": []
    }
  ]
}
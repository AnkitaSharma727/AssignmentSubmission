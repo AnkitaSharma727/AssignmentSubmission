{
  "nbformat": 4,
  "nbformat_minor": 0,
  "metadata": {
    "colab": {
      "name": "Assignment_7A.ipynb",
      "provenance": []
    },
    "kernelspec": {
      "name": "python3",
      "display_name": "Python 3"
    },
    "language_info": {
      "name": "python"
    }
  },
  "cells": [
    {
      "cell_type": "markdown",
      "source": [
        "Q1. What is the purpose of the try statement?"
      ],
      "metadata": {
        "id": "uYti27Un7wAS"
      }
    },
    {
      "cell_type": "markdown",
      "source": [
        "Sol: The purpose of Try block is to write the critical code in it. And once the error occured, that can be handled by the Except block."
      ],
      "metadata": {
        "id": "cN1c1n7t77tX"
      }
    },
    {
      "cell_type": "markdown",
      "source": [
        "Q2. What are the two most popular try statement variations?"
      ],
      "metadata": {
        "id": "o35gDwMT7xzi"
      }
    },
    {
      "cell_type": "markdown",
      "source": [
        "Sol: The most popular Try - Statement variations:\n",
        "1. Try - Except - Else\n",
        "2. Try - Except - Finally"
      ],
      "metadata": {
        "id": "TsB21Kfu87S9"
      }
    },
    {
      "cell_type": "markdown",
      "source": [
        "Q3. What is the purpose of the raise statement?"
      ],
      "metadata": {
        "id": "pVAWrNc-7z_4"
      }
    },
    {
      "cell_type": "markdown",
      "source": [
        "Sol: Raise Excption stops the execution process the moment error occurs and transfer the control to an exception handler."
      ],
      "metadata": {
        "id": "WAuMrK-_9MxS"
      }
    },
    {
      "cell_type": "markdown",
      "source": [
        "Q4. What does the assert statement do, and what other statement is it like?"
      ],
      "metadata": {
        "id": "0GcFaXVa72A9"
      }
    },
    {
      "cell_type": "markdown",
      "source": [
        "Sol: Assert statement is used to check types, values of argument and the output of the function.\n",
        "Assert statement is used as debugging tool as it halts the program at the point where an error occurs."
      ],
      "metadata": {
        "id": "WvPqYWod9-VE"
      }
    },
    {
      "cell_type": "markdown",
      "source": [
        "Q5. What is the purpose of the with/as argument, and what other statement is it like?"
      ],
      "metadata": {
        "id": "TJRcEWCv74fp"
      }
    },
    {
      "cell_type": "markdown",
      "source": [
        "Sol: With/as argument is used to simplifies the management of common resources like file streams."
      ],
      "metadata": {
        "id": "TfPFWheJAPZ2"
      }
    },
    {
      "cell_type": "code",
      "source": [
        "# file handling\n",
        "  \n",
        "# 1) without using with statement\n",
        "file = open('file_path', 'w')\n",
        "file.write('hello world !')\n",
        "file.close()\n",
        "  \n",
        "# 2) without using with statement\n",
        "file = open('file_path', 'w')\n",
        "try:\n",
        "    file.write('hello world')\n",
        "finally:\n",
        "    file.close()\n",
        " \n",
        "\n",
        "# using with statement\n",
        "with open('file_path', 'w') as file:\n",
        "    file.write('hello world !')"
      ],
      "metadata": {
        "id": "MrqmOUJiBQEQ"
      },
      "execution_count": null,
      "outputs": []
    },
    {
      "cell_type": "markdown",
      "source": [
        "The with statement itself ensures proper acquisition and release of resources. An exception during the file.write() call in the first implementation can prevent the file from closing properly which may introduce several bugs in the code, i.e. many changes in files do not go into effect until the file is properly closed."
      ],
      "metadata": {
        "id": "BLmXQrL8BeJD"
      }
    }
  ]
}
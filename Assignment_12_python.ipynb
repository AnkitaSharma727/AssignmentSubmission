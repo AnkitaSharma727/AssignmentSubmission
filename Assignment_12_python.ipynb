{
  "nbformat": 4,
  "nbformat_minor": 0,
  "metadata": {
    "colab": {
      "provenance": []
    },
    "kernelspec": {
      "name": "python3",
      "display_name": "Python 3"
    },
    "language_info": {
      "name": "python"
    }
  },
  "cells": [
    {
      "cell_type": "markdown",
      "source": [
        "Q1 In what modes should the PdfFileReader() and PdfFileWriter() File objects will be opened?"
      ],
      "metadata": {
        "id": "RF_D1vRDWLcB"
      }
    },
    {
      "cell_type": "markdown",
      "source": [
        "Ans: PdfFileReader() should be open in rb(read binary) mode while PdfFileWriter() should be open in wb(write binary) mode"
      ],
      "metadata": {
        "id": "BL-gGoKyWT7a"
      }
    },
    {
      "cell_type": "markdown",
      "source": [
        "Q2. From a PdfFileReader object, how do you get a Page object for page 5?"
      ],
      "metadata": {
        "id": "y3S5fau6Wk6S"
      }
    },
    {
      "cell_type": "markdown",
      "source": [
        "Ans: We can get the page object by calling the getpage() method and passing the page number of the desired page."
      ],
      "metadata": {
        "id": "CpXXOzR7W1x3"
      }
    },
    {
      "cell_type": "markdown",
      "source": [
        "Q3. What PdfFileReader variable stores the number of pages in the PDF document?"
      ],
      "metadata": {
        "id": "SnOlzNmpXMvf"
      }
    },
    {
      "cell_type": "code",
      "source": [
        "Ans: numPages attribute of the pdfFileReader object"
      ],
      "metadata": {
        "id": "sKozT1B9XaU8"
      },
      "execution_count": null,
      "outputs": []
    },
    {
      "cell_type": "markdown",
      "source": [
        "Q4. If a PdfFileReader object’s PDF is encrypted with the password swordfish, what must you do before you can obtain Page objects from it?"
      ],
      "metadata": {
        "id": "2YdrxFX7XjSF"
      }
    },
    {
      "cell_type": "markdown",
      "source": [
        "Ans: If not aware of the password swordfish,  first read the pdf using the pdfFileReader class."
      ],
      "metadata": {
        "id": "UNrzfjqVXxQL"
      }
    },
    {
      "cell_type": "markdown",
      "source": [
        "Q5. What methods do you use to rotate a page?"
      ],
      "metadata": {
        "id": "hCdAG17LX_2p"
      }
    },
    {
      "cell_type": "markdown",
      "source": [
        "Ans: The page can be rotated using the getRotation() method.\n",
        "PyPDF2 package provide 2 methods to rotate the page in the increment of 90 degree rotation.\n",
        "1. rotateclockwise() - to rotate in clockwose direction.\n",
        "2. rotatecounterclockwise() - to rotate in anti-clockwise direction."
      ],
      "metadata": {
        "id": "7loMk_JpYRQ_"
      }
    },
    {
      "cell_type": "markdown",
      "source": [
        "Q6. What is the difference between a Run object and a Paragraph object?"
      ],
      "metadata": {
        "id": "MRr5qU9GYaeC"
      }
    },
    {
      "cell_type": "markdown",
      "source": [
        "Ans: A Run Object demarcates a region of text inside the paragraph.\n",
        "A Paragraph Object provides access to the formatting properties for this paragraph, such as line spacing and indentation."
      ],
      "metadata": {
        "id": "JtexMmUPY3iD"
      }
    },
    {
      "cell_type": "markdown",
      "source": [
        "Q7. How do you obtain a list of Paragraph objects for a Document object that’s stored in a variable named doc?"
      ],
      "metadata": {
        "id": "P-891ctPZUio"
      }
    },
    {
      "cell_type": "markdown",
      "source": [
        "from doc import Document\n",
        "doc = Document(\"sample_file.doc\")\n",
        "print(doc.paragraph)\n",
        "for paragraph in doc.paragraph:\n",
        " print(paragraph.txt)"
      ],
      "metadata": {
        "id": "p-ta52BYLUoa"
      }
    },
    {
      "cell_type": "markdown",
      "source": [
        "Q8. What type of object has bold, underline, italic, strike, and outline variables?\n"
      ],
      "metadata": {
        "id": "BbaVe0nbMCVh"
      }
    },
    {
      "cell_type": "markdown",
      "source": [
        "Ans: Run Object has bold, Underline, Italic, Strike and Outline variables.\n"
      ],
      "metadata": {
        "id": "fLwRkepSMHtt"
      }
    },
    {
      "cell_type": "markdown",
      "source": [
        "Q9. What is the difference between False, True, and None for the bold variable?"
      ],
      "metadata": {
        "id": "nNWLQqR7MaDq"
      }
    },
    {
      "cell_type": "markdown",
      "source": [
        "Ans: bold = True  # Style Set to Bold\n",
        "     bold = False # Style Not Set to Bold\n",
        "     bold = None # Style is Not Applicable"
      ],
      "metadata": {
        "id": "pGEPkB5eMioo"
      }
    },
    {
      "cell_type": "markdown",
      "source": [
        "Q10. How do you create a Document object for a new Word document?"
      ],
      "metadata": {
        "id": "cd2d1f4FMpKM"
      }
    },
    {
      "cell_type": "code",
      "source": [
        "from docx import Document\n",
        "document = Document()\n",
        "document.add_paragraph(\"Understanding the Data Science\")\n",
        "document.save('mydocument.docx')"
      ],
      "metadata": {
        "id": "O2RX3u2gM3bA"
      },
      "execution_count": null,
      "outputs": []
    },
    {
      "cell_type": "markdown",
      "source": [
        "Q11. How do you add a paragraph with the text 'Hello, there!' to a Document object stored in a variable named doc?"
      ],
      "metadata": {
        "id": "Ru-UYki3NEzB"
      }
    },
    {
      "cell_type": "code",
      "source": [
        "from docx import Document\n",
        "doc = Document()\n",
        "doc.add_paragraph('Hello, there!')\n",
        "doc.save('hello.docx')"
      ],
      "metadata": {
        "id": "P7WLSbByM-tg"
      },
      "execution_count": null,
      "outputs": []
    },
    {
      "cell_type": "markdown",
      "source": [
        "Q12. What integers represent the levels of headings available in Word documents?"
      ],
      "metadata": {
        "id": "_gU5ibMgNrrE"
      }
    },
    {
      "cell_type": "markdown",
      "source": [
        "Ans: The level of the heading can be specified using the level attribute inside the add_heading method.\n",
        "In total , there are 5 levels starting from 0 to 4.\n",
        "where level 0 makes a headline with the horizontal line below the text, whereas the heading level 1 is the main heading. Similarly, the other headings are sub-heading with their's font-sizes in decreasing order."
      ],
      "metadata": {
        "id": "nvFZ1CCVN1S6"
      }
    }
  ]
}
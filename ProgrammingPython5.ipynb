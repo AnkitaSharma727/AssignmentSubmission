{
  "nbformat": 4,
  "nbformat_minor": 0,
  "metadata": {
    "colab": {
      "name": "ProgrammingPython5.ipynb",
      "provenance": []
    },
    "kernelspec": {
      "name": "python3",
      "display_name": "Python 3"
    },
    "language_info": {
      "name": "python"
    }
  },
  "cells": [
    {
      "cell_type": "markdown",
      "source": [
        "1. Write a python program to find the LCM."
      ],
      "metadata": {
        "id": "jP1ZRYIMl2Yc"
      }
    },
    {
      "cell_type": "code",
      "source": [
        "\n",
        "def lcm(x,y):\n",
        "\n",
        "  if x>y:\n",
        "    Greater = x\n",
        "  else:\n",
        "    Greater = y\n",
        "  while (True):\n",
        "    if ((Greater%x==0) and (Greater%y==0)):\n",
        "      lcm=Greater\n",
        "      break\n",
        "    else:\n",
        "      Greater+=1\n",
        "  return lcm\n",
        "result=lcm(54,24)\n",
        "print(result)"
      ],
      "metadata": {
        "id": "_ciz-n0OmISJ",
        "colab": {
          "base_uri": "https://localhost:8080/"
        },
        "outputId": "7a030a4a-04a1-4f41-8c9f-9953ef07de78"
      },
      "execution_count": 8,
      "outputs": [
        {
          "output_type": "stream",
          "name": "stdout",
          "text": [
            "216\n"
          ]
        }
      ]
    },
    {
      "cell_type": "markdown",
      "source": [
        "2. Write a python program to find the HCF.\n"
      ],
      "metadata": {
        "id": "QOCLq4gZCKb2"
      }
    },
    {
      "cell_type": "code",
      "source": [
        "def hcf(x,y):\n",
        "  if x<y:\n",
        "    smaller = x\n",
        "  else:\n",
        "    smaller = y\n",
        "  while (True):\n",
        "    if((x%smaller ==0) and (y%smaller ==0)):\n",
        "      hcf=smaller\n",
        "      break\n",
        "    else:\n",
        "      smaller-=1\n",
        "  return hcf\n",
        "result=hcf(72,24)\n",
        "print(result)"
      ],
      "metadata": {
        "colab": {
          "base_uri": "https://localhost:8080/"
        },
        "id": "f9ZEHWBUKJOL",
        "outputId": "7fdcb4ad-6877-47f0-dcfc-e5b8e86896c9"
      },
      "execution_count": 12,
      "outputs": [
        {
          "output_type": "stream",
          "name": "stdout",
          "text": [
            "24\n"
          ]
        }
      ]
    },
    {
      "cell_type": "markdown",
      "source": [
        "3. Write  a python program to convert decimal to Binary, Octal and Hexadecimal."
      ],
      "metadata": {
        "id": "7_dloz8NpQFa"
      }
    },
    {
      "cell_type": "code",
      "source": [
        "n=int(input(\"Enter the Number\"))\n",
        "a=bin(n)\n",
        "b=oct(n)\n",
        "c=hex(n)\n",
        "print(a)\n",
        "print(b)\n",
        "print(c)"
      ],
      "metadata": {
        "colab": {
          "base_uri": "https://localhost:8080/"
        },
        "id": "rb2CV9bCpiX9",
        "outputId": "ca08eaf2-0f42-4d3a-b9d9-519243f598dc"
      },
      "execution_count": null,
      "outputs": [
        {
          "output_type": "stream",
          "name": "stdout",
          "text": [
            "Enter the Number12\n",
            "0b1100\n",
            "0o14\n",
            "0xc\n"
          ]
        }
      ]
    },
    {
      "cell_type": "markdown",
      "source": [
        "4. Write a Python program to find ASCII value of a character?"
      ],
      "metadata": {
        "id": "oSe_ZP2pyrDm"
      }
    },
    {
      "cell_type": "code",
      "source": [
        "x = input(\"Enter the alphabet\")\n",
        "print(\"The ASCII value is\", ord(x))\n",
        "y = int(input(\"Enter the value\"))\n",
        "print(\"The code is\",chr(y))"
      ],
      "metadata": {
        "colab": {
          "base_uri": "https://localhost:8080/"
        },
        "id": "vu48m2YPy4Tk",
        "outputId": "5151e22b-0e7c-4a33-98b2-0d92797f79e7"
      },
      "execution_count": null,
      "outputs": [
        {
          "output_type": "stream",
          "name": "stdout",
          "text": [
            "Enter the alphabety\n",
            "The ASCII value is 121\n",
            "Enter the value126\n",
            "The code is ~\n"
          ]
        }
      ]
    },
    {
      "cell_type": "markdown",
      "source": [
        "5. Writa a python program to make a simple calculator with 4 basic mathematical operator."
      ],
      "metadata": {
        "id": "pS9kkH4smwuI"
      }
    },
    {
      "cell_type": "code",
      "source": [
        "def add(x,y):\n",
        "  return x+y\n",
        "def sub(x,y):\n",
        "  if x<y:\n",
        "    x,y=y,x\n",
        "  return x-y\n",
        "def mul(x,y):\n",
        "  return x*y\n",
        "def div(x,y):\n",
        "  if x<y:\n",
        "    x,y=y,x\n",
        "  return x/y"
      ],
      "metadata": {
        "id": "EeOqUQtmnHGo"
      },
      "execution_count": null,
      "outputs": []
    },
    {
      "cell_type": "code",
      "source": [
        "add(7,8)"
      ],
      "metadata": {
        "colab": {
          "base_uri": "https://localhost:8080/"
        },
        "id": "PYoT8ABjoHDW",
        "outputId": "f42d7f5e-b07a-4609-ad98-b53c853445ad"
      },
      "execution_count": null,
      "outputs": [
        {
          "output_type": "execute_result",
          "data": {
            "text/plain": [
              "15"
            ]
          },
          "metadata": {},
          "execution_count": 3
        }
      ]
    },
    {
      "cell_type": "code",
      "source": [
        "sub(7,8)"
      ],
      "metadata": {
        "colab": {
          "base_uri": "https://localhost:8080/"
        },
        "id": "N36vVj_poUYI",
        "outputId": "086bda8a-5e64-4434-e3b3-6ad88f9fe43d"
      },
      "execution_count": null,
      "outputs": [
        {
          "output_type": "execute_result",
          "data": {
            "text/plain": [
              "1"
            ]
          },
          "metadata": {},
          "execution_count": 4
        }
      ]
    },
    {
      "cell_type": "code",
      "source": [
        "mul(7,8)"
      ],
      "metadata": {
        "colab": {
          "base_uri": "https://localhost:8080/"
        },
        "id": "sSS00XjHobaO",
        "outputId": "cb095595-16b9-4021-cc88-3637bd7cb032"
      },
      "execution_count": null,
      "outputs": [
        {
          "output_type": "execute_result",
          "data": {
            "text/plain": [
              "56"
            ]
          },
          "metadata": {},
          "execution_count": 7
        }
      ]
    },
    {
      "cell_type": "code",
      "source": [
        "div(7,8)"
      ],
      "metadata": {
        "colab": {
          "base_uri": "https://localhost:8080/"
        },
        "id": "-pZnhgenodTZ",
        "outputId": "bf7b85ef-4a41-4a6a-9718-4d2459ddbc13"
      },
      "execution_count": null,
      "outputs": [
        {
          "output_type": "execute_result",
          "data": {
            "text/plain": [
              "1"
            ]
          },
          "metadata": {},
          "execution_count": 9
        }
      ]
    },
    {
      "cell_type": "markdown",
      "source": [
        ""
      ],
      "metadata": {
        "id": "AQSqQTlMo3MG"
      }
    },
    {
      "cell_type": "code",
      "source": [
        ""
      ],
      "metadata": {
        "id": "xT4pLmByoolt"
      },
      "execution_count": null,
      "outputs": []
    }
  ]
}
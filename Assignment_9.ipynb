{
  "nbformat": 4,
  "nbformat_minor": 0,
  "metadata": {
    "colab": {
      "name": "Assignment_9.ipynb",
      "provenance": []
    },
    "kernelspec": {
      "name": "python3",
      "display_name": "Python 3"
    },
    "language_info": {
      "name": "python"
    }
  },
  "cells": [
    {
      "cell_type": "markdown",
      "source": [
        "Q1. To what does a relative path refer?"
      ],
      "metadata": {
        "id": "ehXru36vN7F0"
      }
    },
    {
      "cell_type": "markdown",
      "source": [
        "Sol: A relative path refers to a location that is relative to a current directory. Relative paths make use of two special symbols, a dot (.) ... The current directory is sometimes referred to as the root directory."
      ],
      "metadata": {
        "id": "0d1U7129OGds"
      }
    },
    {
      "cell_type": "markdown",
      "source": [
        "Q2. What does an absolute path start with your operating system?"
      ],
      "metadata": {
        "id": "SDrKaSlzOISC"
      }
    },
    {
      "cell_type": "markdown",
      "source": [
        "Sol: An absolute path refers to the complete details needed to locate a file or folder, starting from the root element and ending with the other subdirectories. Absolute paths are used in websites and operating systems for locating files and folders. An absolute path is also known as an absolute pathname or full path."
      ],
      "metadata": {
        "id": "5pZRvTiTOVN9"
      }
    },
    {
      "cell_type": "markdown",
      "source": [
        "Q3. What do the functions os.getcwd() and os.chdir() do?"
      ],
      "metadata": {
        "id": "fo2TsSidOWpE"
      }
    },
    {
      "cell_type": "markdown",
      "source": [
        "Sol: os.getcwd() = It  is used to get the current working directory.\n",
        " os.chdir() = It is used to change the current working directory."
      ],
      "metadata": {
        "id": "naJaS0XTOnea"
      }
    },
    {
      "cell_type": "markdown",
      "source": [
        "Q4. What are the . and .. folders?"
      ],
      "metadata": {
        "id": "uF0ZXe_QO8-S"
      }
    },
    {
      "cell_type": "markdown",
      "source": [
        "Sol : '.' is used to signify the current directory. While '..' signifies the parent directory."
      ],
      "metadata": {
        "id": "UdEbTdCfPGR9"
      }
    },
    {
      "cell_type": "markdown",
      "source": [
        "Q5. In C:\\bacon\\eggs\\spam.txt, which part is the dir name, and which part is the base name?"
      ],
      "metadata": {
        "id": "2bukVNzPPZzS"
      }
    },
    {
      "cell_type": "markdown",
      "source": [
        "Sol : C:\\bacon\\eggs is the dir name\n",
        "while spam.txt is the base name."
      ],
      "metadata": {
        "id": "jNSDqnQzPjVK"
      }
    },
    {
      "cell_type": "markdown",
      "source": [
        "Q6. What are the three “mode” arguments that can be passed to the open() function?"
      ],
      "metadata": {
        "id": "dmETd5B3Pp4w"
      }
    },
    {
      "cell_type": "markdown",
      "source": [
        "Sol: “x”: This string is used to create a specific file.\n",
        "“b”: This string is used when the user wants to handle the file in binary mode. This is generally used to handle image files. \n",
        "“t”: This string is used to handle files in text mode."
      ],
      "metadata": {
        "id": "Sk_c_BPmPzTl"
      }
    },
    {
      "cell_type": "markdown",
      "source": [
        "Q7. What happens if an existing file is opened in write mode?"
      ],
      "metadata": {
        "id": "fcHAh6IvP32-"
      }
    },
    {
      "cell_type": "markdown",
      "source": [
        "Sol: To open a file in write mode, “w” is specified. When mode “w” is specified, it creates an empty file for output operations. What if the file already exists? If a file with the same name already exists, its contents are discarded and the file is treated as a new empty file."
      ],
      "metadata": {
        "id": "ow9VXRzmQJW_"
      }
    },
    {
      "cell_type": "markdown",
      "source": [
        "Q8. How do you tell the difference between read() and readlines()?"
      ],
      "metadata": {
        "id": "KNZbzQvVQK2X"
      }
    },
    {
      "cell_type": "markdown",
      "source": [
        "Sol: read() reads all of the file's contents into a string, \n",
        "while readline() reads just a single line from the file."
      ],
      "metadata": {
        "id": "76h9HPTaQTXP"
      }
    },
    {
      "cell_type": "markdown",
      "source": [
        "Q9. What data structure does a shelf value resemble?"
      ],
      "metadata": {
        "id": "ZP1npnETQYcO"
      }
    },
    {
      "cell_type": "markdown",
      "source": [
        "Sol: A shelf value resembles a dictionary value; it has keys and values, along with keys() and values() methods that work similarly to the dictionary methods of the same names."
      ],
      "metadata": {
        "id": "UfsDSr-jQfZE"
      }
    }
  ]
}
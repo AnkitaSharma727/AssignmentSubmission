{
  "nbformat": 4,
  "nbformat_minor": 0,
  "metadata": {
    "colab": {
      "name": "Assignment_4A.ipynb",
      "provenance": []
    },
    "kernelspec": {
      "name": "python3",
      "display_name": "Python 3"
    },
    "language_info": {
      "name": "python"
    }
  },
  "cells": [
    {
      "cell_type": "markdown",
      "source": [
        "Q1. Which two operator overloading methods can you use in your classes to support iteration?"
      ],
      "metadata": {
        "id": "z9V1nBtc5YTL"
      }
    },
    {
      "cell_type": "markdown",
      "source": [
        "Sol: The __iter__ returns the iterator object and is implicitly called at the start of loops. \n",
        "The __next__ method returns the next value and is implicitly called at each loop increment."
      ],
      "metadata": {
        "id": "McDeKLMT5qXd"
      }
    },
    {
      "cell_type": "markdown",
      "source": [
        "Q2. In what contexts do the two operator overloading methods manage printing?"
      ],
      "metadata": {
        "id": "GOBHlJSx5Z-9"
      }
    },
    {
      "cell_type": "markdown",
      "source": [
        "Sol: The __iter__ returns the iterator object and is implicitly called at the start of loops. The __next__ method returns the next value and is implicitly called at each loop increment. __next__ raises a StopIteration exception when there are no more value to return, which is implicitly captured by looping constructs to stop iterating."
      ],
      "metadata": {
        "id": "fNM5PPu_AvHS"
      }
    },
    {
      "cell_type": "markdown",
      "source": [
        "Q3. In a class, how do you intercept slice operations?"
      ],
      "metadata": {
        "id": "Hoya4ihG5csC"
      }
    },
    {
      "cell_type": "markdown",
      "source": [
        "Sol: Slice is a constructor in Python that creates slice object to represent set of indices that the range(start, stop, step) specifies. __getitem__ method can be implement in a class, and the behavior of slicing can be defined inside it."
      ],
      "metadata": {
        "id": "WTcftHFRAubd"
      }
    },
    {
      "cell_type": "markdown",
      "source": [
        "Q4. In a class, how do you capture in-place addition?"
      ],
      "metadata": {
        "id": "CQZ_ns2K5fL2"
      }
    },
    {
      "cell_type": "markdown",
      "source": [
        "Sol: Python in its definition provides methods to perform inplace operations, i.e doing assignment and computation in a single statement using “operator” module.\n",
        "\n",
        "x += y is equivalent to x = operator.iadd(x, y)"
      ],
      "metadata": {
        "id": "2KtiqI_QAtoe"
      }
    },
    {
      "cell_type": "markdown",
      "source": [
        "Q5. When is it appropriate to use operator overloading?"
      ],
      "metadata": {
        "id": "HkYX-ZQS5h-M"
      }
    },
    {
      "cell_type": "markdown",
      "source": [
        "Sol: The purpose of operator overloading is to provide a special meaning of an operator for a user-defined data type. With the help of operator overloading, you can redefine the majority of the operators. You can also use operator overloading to perform different operations using one operator."
      ],
      "metadata": {
        "id": "enaWQK_hAsmo"
      }
    }
  ]
}
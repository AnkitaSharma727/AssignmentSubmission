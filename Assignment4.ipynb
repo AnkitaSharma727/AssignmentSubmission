{
  "nbformat": 4,
  "nbformat_minor": 0,
  "metadata": {
    "colab": {
      "name": "Assignment4.ipynb",
      "provenance": []
    },
    "kernelspec": {
      "name": "python3",
      "display_name": "Python 3"
    },
    "language_info": {
      "name": "python"
    }
  },
  "cells": [
    {
      "cell_type": "markdown",
      "source": [
        "Q1. What exactly is []?"
      ],
      "metadata": {
        "id": "l3WvVVJuzncy"
      }
    },
    {
      "cell_type": "markdown",
      "source": [
        "Sol: The symbol [] is used for list. \n",
        "Blank [] indicates empty list having no elements."
      ],
      "metadata": {
        "id": "nXdxh14xzqDs"
      }
    },
    {
      "cell_type": "markdown",
      "source": [
        "Q2. In a list of values stored in a variable called spam, how would you assign the value 'hello' as the third value? (Assume [2, 4, 6, 8, 10] are in spam.)"
      ],
      "metadata": {
        "id": "xOkbtrHszzlw"
      }
    },
    {
      "cell_type": "code",
      "execution_count": 19,
      "metadata": {
        "colab": {
          "base_uri": "https://localhost:8080/"
        },
        "id": "ea9QKRO2zh03",
        "outputId": "cb3babd3-5636-472d-8946-acddaf29b9f7"
      },
      "outputs": [
        {
          "output_type": "execute_result",
          "data": {
            "text/plain": [
              "[2, 4, 'hello', 8, 10]"
            ]
          },
          "metadata": {},
          "execution_count": 19
        }
      ],
      "source": [
        "spam = [2, 4, 6, 8, 10]\n",
        "spam[2]=\"hello\"\n",
        "spam"
      ]
    },
    {
      "cell_type": "markdown",
      "source": [
        "Let's pretend the spam includes the list ['a', 'b', 'c', 'd'] for the next three queries.\n",
        "\n"
      ],
      "metadata": {
        "id": "E4XlyXcWzmUC"
      }
    },
    {
      "cell_type": "markdown",
      "source": [
        "Q3. What is the value of spam[int(int('3' * 2) / 11)]?"
      ],
      "metadata": {
        "id": "F6CfuRMvAopK"
      }
    },
    {
      "cell_type": "code",
      "source": [
        "[int(int('3' * 2) / 11)]"
      ],
      "metadata": {
        "colab": {
          "base_uri": "https://localhost:8080/"
        },
        "id": "WPK0tVCl0T9-",
        "outputId": "9e31e717-5c09-4a66-fe26-7193ac87eba1"
      },
      "execution_count": 4,
      "outputs": [
        {
          "output_type": "execute_result",
          "data": {
            "text/plain": [
              "[3]"
            ]
          },
          "metadata": {},
          "execution_count": 4
        }
      ]
    },
    {
      "cell_type": "markdown",
      "source": [
        "Q4. What is the value of spam[-1]?"
      ],
      "metadata": {
        "id": "GXryxcT-1CDu"
      }
    },
    {
      "cell_type": "code",
      "source": [
        "spam = ['a', 'b', 'c', 'd']\n",
        "spam[-1]"
      ],
      "metadata": {
        "colab": {
          "base_uri": "https://localhost:8080/",
          "height": 35
        },
        "id": "iNKoAImr0xuF",
        "outputId": "16c53995-1b42-4af6-b177-b3388f59886d"
      },
      "execution_count": 11,
      "outputs": [
        {
          "output_type": "execute_result",
          "data": {
            "application/vnd.google.colaboratory.intrinsic+json": {
              "type": "string"
            },
            "text/plain": [
              "'d'"
            ]
          },
          "metadata": {},
          "execution_count": 11
        }
      ]
    },
    {
      "cell_type": "markdown",
      "source": [
        "Q5. What is the value of spam[:2]?"
      ],
      "metadata": {
        "id": "8SUtyA821fjk"
      }
    },
    {
      "cell_type": "code",
      "source": [
        "spam = ['a', 'b', 'c', 'd']\n",
        "spam[:2]"
      ],
      "metadata": {
        "colab": {
          "base_uri": "https://localhost:8080/"
        },
        "id": "-kjQwAaE1RCE",
        "outputId": "5388bbda-9cfe-4b7a-a2bf-3eccbf5558a1"
      },
      "execution_count": 12,
      "outputs": [
        {
          "output_type": "execute_result",
          "data": {
            "text/plain": [
              "['a', 'b']"
            ]
          },
          "metadata": {},
          "execution_count": 12
        }
      ]
    },
    {
      "cell_type": "markdown",
      "source": [
        "Let's pretend bacon has the list [3.14, 'cat,' 11, 'cat,' True] for the next three questions.\n"
      ],
      "metadata": {
        "id": "bfTO5XAy1sik"
      }
    },
    {
      "cell_type": "markdown",
      "source": [
        "Q6. What is the value of bacon.index('cat')?"
      ],
      "metadata": {
        "id": "Ub-L0rO8Awv7"
      }
    },
    {
      "cell_type": "code",
      "source": [
        "bacon = [3.14, 'cat', 11, 'cat', True]\n",
        "bacon.index(\"cat\")"
      ],
      "metadata": {
        "colab": {
          "base_uri": "https://localhost:8080/"
        },
        "id": "eFgP_r3v1lZU",
        "outputId": "7661f199-1b6a-4713-d0d0-e2b634d01766"
      },
      "execution_count": 14,
      "outputs": [
        {
          "output_type": "execute_result",
          "data": {
            "text/plain": [
              "1"
            ]
          },
          "metadata": {},
          "execution_count": 14
        }
      ]
    },
    {
      "cell_type": "markdown",
      "source": [
        "Q7. How does bacon.append(99) change the look of the list value in bacon?"
      ],
      "metadata": {
        "id": "Cdjo93Tj2C-p"
      }
    },
    {
      "cell_type": "code",
      "source": [
        "bacon = [3.14, 'cat', 11, 'cat', True]\n",
        "bacon.append(99)\n",
        "bacon"
      ],
      "metadata": {
        "colab": {
          "base_uri": "https://localhost:8080/"
        },
        "id": "gWESnjGz16zu",
        "outputId": "59b25b6a-182c-4807-a667-2a1e6f42df3e"
      },
      "execution_count": 16,
      "outputs": [
        {
          "output_type": "execute_result",
          "data": {
            "text/plain": [
              "[3.14, 'cat', 11, 'cat', True, 99]"
            ]
          },
          "metadata": {},
          "execution_count": 16
        }
      ]
    },
    {
      "cell_type": "markdown",
      "source": [
        "Q8. How does bacon.remove('cat') change the look of the list in bacon?"
      ],
      "metadata": {
        "id": "Qb8HEuKb2Pl6"
      }
    },
    {
      "cell_type": "code",
      "source": [
        "bacon = [3.14, 'cat', 11, 'cat', True]\n",
        "bacon.remove('cat')\n",
        "bacon"
      ],
      "metadata": {
        "colab": {
          "base_uri": "https://localhost:8080/"
        },
        "id": "7CmymCn02K6o",
        "outputId": "e4864755-a0e3-4eff-ec77-f8d8b31e4e90"
      },
      "execution_count": 17,
      "outputs": [
        {
          "output_type": "execute_result",
          "data": {
            "text/plain": [
              "[3.14, 11, 'cat', True]"
            ]
          },
          "metadata": {},
          "execution_count": 17
        }
      ]
    },
    {
      "cell_type": "markdown",
      "source": [
        "Q9. What are the list concatenation and list replication operators?"
      ],
      "metadata": {
        "id": "2cXY0gbj2mi1"
      }
    },
    {
      "cell_type": "markdown",
      "source": [
        "Sol : Operator for list concatenation = \"+\"\n",
        "      Operator for list replication = \"*\""
      ],
      "metadata": {
        "id": "PJ4vNksk3ddL"
      }
    },
    {
      "cell_type": "markdown",
      "source": [
        "Q10. What is difference between the list methods append() and insert()?"
      ],
      "metadata": {
        "id": "Kb_RVft-3hsv"
      }
    },
    {
      "cell_type": "markdown",
      "source": [
        "Sol: List method append(): It add the value at the last of the list and takes only 1 argument.\n",
        "List method insert: It insert the value at  the particular index. It takes two arguments. \n",
        "List.insert(index,value)"
      ],
      "metadata": {
        "id": "HL0YcWXn3lN0"
      }
    },
    {
      "cell_type": "code",
      "source": [
        "l=[1,2,3,4,5]\n",
        "l.append(3)\n",
        "l\n",
        "l.insert(2,8)\n",
        "l"
      ],
      "metadata": {
        "colab": {
          "base_uri": "https://localhost:8080/"
        },
        "id": "99EjUIs33bpj",
        "outputId": "81422d73-3799-4012-91cd-38b76e20b971"
      },
      "execution_count": 26,
      "outputs": [
        {
          "output_type": "execute_result",
          "data": {
            "text/plain": [
              "[1, 2, 8, 3, 4, 5, 3]"
            ]
          },
          "metadata": {},
          "execution_count": 26
        }
      ]
    },
    {
      "cell_type": "markdown",
      "source": [
        "Q11. What are the two methods for removing items from a list?"
      ],
      "metadata": {
        "id": "0lUm7NEQ4ns6"
      }
    },
    {
      "cell_type": "markdown",
      "source": [
        "Sol: Two methods that are used for removing items from a list.\n",
        "1. del() - This method is used to remove more than one elements from the list \n",
        "2. remove() - This method is used to remove one element at a item."
      ],
      "metadata": {
        "id": "j7EAX4px4rRc"
      }
    },
    {
      "cell_type": "code",
      "source": [
        "l=[1,2,3,4,5,6,7,8,9,10]\n",
        "l.remove(5)\n",
        "l\n",
        "del l[0:2]\n",
        "l"
      ],
      "metadata": {
        "colab": {
          "base_uri": "https://localhost:8080/"
        },
        "id": "Oqs2lPPU4EB7",
        "outputId": "27edde0d-e7cc-4a49-af95-9caf2086ee91"
      },
      "execution_count": 34,
      "outputs": [
        {
          "output_type": "execute_result",
          "data": {
            "text/plain": [
              "[3, 4, 6, 7, 8, 9, 10]"
            ]
          },
          "metadata": {},
          "execution_count": 34
        }
      ]
    },
    {
      "cell_type": "markdown",
      "source": [
        "Q 12. Describe how list values and string values are identical."
      ],
      "metadata": {
        "id": "1wfrQkvk78PF"
      }
    },
    {
      "cell_type": "markdown",
      "source": [
        "Sol: List values and String values are identical because both of them are iterable. Means we can traverse over all the elements mentioned in them."
      ],
      "metadata": {
        "id": "TyInL2fM8Bil"
      }
    },
    {
      "cell_type": "markdown",
      "source": [
        "Q13.  What's the difference between tuples and lists?"
      ],
      "metadata": {
        "id": "NDynETzD8doK"
      }
    },
    {
      "cell_type": "markdown",
      "source": [
        "Sol: Major difference between the Tuple and Lists is Lists are Immutable means their elements can be altered at any point of time whereas Tuple are Mutable. Elements once assigned can not be altered in tuple. \n",
        "Elements of the tuple can be altered by only first typecasted them into List. And then alter them as per need."
      ],
      "metadata": {
        "id": "Lj0haEMy8hOd"
      }
    },
    {
      "cell_type": "markdown",
      "source": [
        "Q14. How do you type a tuple value that only contains the integer 42?"
      ],
      "metadata": {
        "id": "UCe4rGiQ9OrC"
      }
    },
    {
      "cell_type": "code",
      "source": [
        "T=(42,)"
      ],
      "metadata": {
        "id": "h62OmQRk47WB"
      },
      "execution_count": 38,
      "outputs": []
    },
    {
      "cell_type": "code",
      "source": [
        "type(T)"
      ],
      "metadata": {
        "colab": {
          "base_uri": "https://localhost:8080/"
        },
        "id": "6lLaOmWa9TdA",
        "outputId": "2f36b0a0-9979-4f87-e708-cf77e8d10245"
      },
      "execution_count": 39,
      "outputs": [
        {
          "output_type": "execute_result",
          "data": {
            "text/plain": [
              "tuple"
            ]
          },
          "metadata": {},
          "execution_count": 39
        }
      ]
    },
    {
      "cell_type": "markdown",
      "source": [
        "Q15. How do you get a list value's tuple form? How do you get a tuple value's list form?"
      ],
      "metadata": {
        "id": "u8mf0J3A9cUy"
      }
    },
    {
      "cell_type": "markdown",
      "source": [
        "Sol: List value can be converted into Tuple by typecasting and vice-versa."
      ],
      "metadata": {
        "id": "4whQs9Q89il6"
      }
    },
    {
      "cell_type": "code",
      "source": [
        "L=[1,2,3,4,5,6,7]\n",
        "T=tuple(L)\n",
        "T"
      ],
      "metadata": {
        "colab": {
          "base_uri": "https://localhost:8080/"
        },
        "id": "oUyBuB1D9XdP",
        "outputId": "1a56aacf-d1ba-46fc-8593-d5ab04be3ba9"
      },
      "execution_count": 42,
      "outputs": [
        {
          "output_type": "execute_result",
          "data": {
            "text/plain": [
              "(1, 2, 3, 4, 5, 6, 7)"
            ]
          },
          "metadata": {},
          "execution_count": 42
        }
      ]
    },
    {
      "cell_type": "code",
      "source": [
        "t=(1,2,3,4,5,6)\n",
        "l=list(t)\n",
        "l"
      ],
      "metadata": {
        "colab": {
          "base_uri": "https://localhost:8080/"
        },
        "id": "dJ3EMzV590sT",
        "outputId": "306702d3-ab0f-47f2-9efb-aacdcfe8a048"
      },
      "execution_count": 44,
      "outputs": [
        {
          "output_type": "execute_result",
          "data": {
            "text/plain": [
              "[1, 2, 3, 4, 5, 6]"
            ]
          },
          "metadata": {},
          "execution_count": 44
        }
      ]
    },
    {
      "cell_type": "markdown",
      "source": [
        "Q16. Variables that \"contain\" list values are not necessarily lists themselves. Instead, what do they contain?"
      ],
      "metadata": {
        "id": "oweZtSnL-BsG"
      }
    },
    {
      "cell_type": "markdown",
      "source": [
        "Sol: Variables contain refrence to list values rather than the list values themselves. But for the string and integer values, variables simply contain the string or integer value. "
      ],
      "metadata": {
        "id": "h907OOlpBj1o"
      }
    },
    {
      "cell_type": "markdown",
      "source": [
        "Q17. How do you distinguish between copy.copy() and copy.deepcopy()?"
      ],
      "metadata": {
        "id": "GdmFpfvZCKe4"
      }
    },
    {
      "cell_type": "markdown",
      "source": [
        "Sol: .copy() = It represents shallow copying. Means it inserts a new copound object and then inserts refrence into it to the object found in the original.\n",
        ".deepcopy() = It represents deep copying. It constructs a new compound object and then, recursively, inserts copies into it of the objects found in the original."
      ],
      "metadata": {
        "id": "m0kjs8HgHbkc"
      }
    },
    {
      "cell_type": "code",
      "source": [
        "l=[1,2,3,4,5,6]\n"
      ],
      "metadata": {
        "id": "HYMHcc129-tV"
      },
      "execution_count": 48,
      "outputs": []
    },
    {
      "cell_type": "code",
      "source": [
        "# Deep copy \n",
        "l[1]=9\n",
        "x=l.copy()\n",
        "x"
      ],
      "metadata": {
        "colab": {
          "base_uri": "https://localhost:8080/"
        },
        "id": "5oTN4prbE5MV",
        "outputId": "d36e5fa1-1612-4007-9d6f-76bc9b63269f"
      },
      "execution_count": 50,
      "outputs": [
        {
          "output_type": "execute_result",
          "data": {
            "text/plain": [
              "[1, 9, 3, 4, 5, 6]"
            ]
          },
          "metadata": {},
          "execution_count": 50
        }
      ]
    },
    {
      "cell_type": "code",
      "source": [
        ""
      ],
      "metadata": {
        "id": "EFrFMmckHPoN"
      },
      "execution_count": null,
      "outputs": []
    }
  ]
}
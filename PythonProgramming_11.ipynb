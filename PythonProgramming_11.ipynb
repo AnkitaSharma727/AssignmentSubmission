{
  "cells": [
    {
      "cell_type": "markdown",
      "metadata": {
        "id": "S7KVQjGv-c3I"
      },
      "source": [
        "Q1.\tWrite a Python program to find words which are greater than given length k?"
      ]
    },
    {
      "cell_type": "code",
      "execution_count": null,
      "metadata": {
        "colab": {
          "base_uri": "https://localhost:8080/"
        },
        "id": "V3MESDXN-Wtm",
        "outputId": "99ab738f-1d08-47df-8b1f-0dd8d76cedf3"
      },
      "outputs": [
        {
          "name": "stdout",
          "output_type": "stream",
          "text": [
            "Enter the length of list5\n",
            "Enter the names in listadan\n",
            "Enter the names in listmadam\n",
            "Enter the names in listmadamssd\n",
            "Enter the names in listertgtrgrtw\n",
            "Enter the names in listvfewbgwetgae\n",
            "Enter the length of k5\n"
          ]
        },
        {
          "data": {
            "text/plain": [
              "4"
            ]
          },
          "execution_count": 2,
          "metadata": {},
          "output_type": "execute_result"
        }
      ],
      "source": [
        "def fun():\n",
        "  '''function to find words which are greater than given length k'''\n",
        "  x=int(input(\"Enter the length of list\"))\n",
        "\n",
        "  m=[]\n",
        "  for i in range(x):\n",
        "    y=input(\"Enter the names in list\")\n",
        "    m.append(y)\n",
        "  k = int(input(\"Enter the length of k\"))\n",
        "  count=0\n",
        "  for i in m:\n",
        "    if len(i)>k:\n",
        "      count+=1\n",
        "  return count\n",
        "fun()"
      ]
    },
    {
      "cell_type": "markdown",
      "metadata": {
        "id": "Pf00LNLv_sgs"
      },
      "source": [
        "Q2.\tWrite a Python program for removing i-th character from a string?"
      ]
    },
    {
      "cell_type": "code",
      "execution_count": null,
      "metadata": {
        "colab": {
          "base_uri": "https://localhost:8080/"
        },
        "id": "drNJdSDO_d4R",
        "outputId": "fd27b600-602a-4b93-bb5e-af749672068b"
      },
      "outputs": [
        {
          "name": "stdout",
          "output_type": "stream",
          "text": [
            "Enter the string : This is dancing\n",
            "Enter the position of the character want to remove  4\n",
            "Thi is dancing"
          ]
        }
      ],
      "source": [
        "x=input(\"Enter the string : \")\n",
        "i = int(input(\"Enter the position of the character want to remove  \"))\n",
        "for k in range(len(x)):\n",
        "  if i == (k+1):\n",
        "    continue\n",
        "  print(x[k],end=\"\")"
      ]
    },
    {
      "cell_type": "markdown",
      "metadata": {
        "id": "PplEzV96Cw5k"
      },
      "source": [
        "Q3.\tWrite a Python program to split and join a string?"
      ]
    },
    {
      "cell_type": "code",
      "execution_count": null,
      "metadata": {
        "colab": {
          "base_uri": "https://localhost:8080/"
        },
        "id": "YXffUZDTAlMp",
        "outputId": "3d7be7b1-4964-47c7-c992-0e2cf987b6bd"
      },
      "outputs": [
        {
          "name": "stdout",
          "output_type": "stream",
          "text": [
            "Enter the stringThis is dancing doll\n",
            "['This', 'is', 'dancing', 'doll']\n",
            "T+h+i+s+ +i+s+ +d+a+n+c+i+n+g+ +d+o+l+l\n",
            "This+is+dancing+doll\n"
          ]
        }
      ],
      "source": [
        "def split():\n",
        "  x= input(\"Enter the string \")\n",
        "  f= x.split()\n",
        "  print(f)\n",
        "  h= \"+\".join(x)\n",
        "  m= \"+\".join(f)\n",
        "  print(h)\n",
        "  print(m)\n",
        "split()"
      ]
    },
    {
      "cell_type": "markdown",
      "metadata": {
        "id": "nBnkGYamGP3R"
      },
      "source": [
        "Q4.\tWrite a Python to check if a given string is binary string or not?"
      ]
    },
    {
      "cell_type": "code",
      "execution_count": 8,
      "metadata": {
        "colab": {
          "base_uri": "https://localhost:8080/"
        },
        "id": "Vytds4hSCOsA",
        "outputId": "9c1a4b45-6bbc-48d3-ec03-1439bc775e82"
      },
      "outputs": [
        {
          "output_type": "stream",
          "name": "stdout",
          "text": [
            "binary\n"
          ]
        }
      ],
      "source": [
        "def check(string):\n",
        "    p = set(string)\n",
        "    s = {'0', '1'}\n",
        "    if s == p or p == {'0'} or p == {'1'}:\n",
        "        print('binary')\n",
        "    else:\n",
        "        print(\"not binary\")\n",
        "string=\"010101\"\n",
        "check(string)"
      ]
    },
    {
      "cell_type": "markdown",
      "metadata": {
        "id": "Z9iQVAlgQpvk"
      },
      "source": [
        "Q5.\tWrite a Python program to find uncommon words from two Strings?"
      ]
    },
    {
      "cell_type": "code",
      "execution_count": 5,
      "metadata": {
        "colab": {
          "base_uri": "https://localhost:8080/"
        },
        "id": "_iqocVYQLxE_",
        "outputId": "0effd9dc-de76-44d0-e2be-d953ce58d86c"
      },
      "outputs": [
        {
          "output_type": "execute_result",
          "data": {
            "text/plain": [
              "['is', 'very', 'boring', 'i', 'want', 'to']"
            ]
          },
          "metadata": {},
          "execution_count": 5
        }
      ],
      "source": [
        "\n",
        "def uncommon(A,B):\n",
        "  a=A.split()\n",
        "  b=B.split()\n",
        "  uc=[]\n",
        "  for i in a:\n",
        "    if i not in b:\n",
        "      uc.append(i)\n",
        "\n",
        "  for j in b:\n",
        "    if j not in a:\n",
        "      uc.append(j)\n",
        "\n",
        "  return uc\n",
        "\n",
        "A= \"this dance in party is very boring\"\n",
        "B = \"i want to dance in this party\"\n",
        "uncommon(A,B)\n"
      ]
    },
    {
      "cell_type": "markdown",
      "source": [
        "Q6.\tWrite a Python to find all duplicate characters in string?"
      ],
      "metadata": {
        "id": "34EJq5gfdEMI"
      }
    },
    {
      "cell_type": "code",
      "execution_count": 22,
      "metadata": {
        "id": "XMztxcByUxnV",
        "colab": {
          "base_uri": "https://localhost:8080/",
          "height": 322
        },
        "outputId": "fc98a303-d794-4b5d-a91e-899c058fd6b2"
      },
      "outputs": [
        {
          "output_type": "error",
          "ename": "TypeError",
          "evalue": "ignored",
          "traceback": [
            "\u001b[0;31m---------------------------------------------------------------------------\u001b[0m",
            "\u001b[0;31mTypeError\u001b[0m                                 Traceback (most recent call last)",
            "\u001b[0;32m<ipython-input-22-d4763f1ee3ba>\u001b[0m in \u001b[0;36m<module>\u001b[0;34m()\u001b[0m\n\u001b[1;32m     13\u001b[0m \u001b[0;34m\u001b[0m\u001b[0m\n\u001b[1;32m     14\u001b[0m \u001b[0;34m\u001b[0m\u001b[0m\n\u001b[0;32m---> 15\u001b[0;31m \u001b[0mdup\u001b[0m\u001b[0;34m(\u001b[0m\u001b[0;34m)\u001b[0m\u001b[0;34m\u001b[0m\u001b[0;34m\u001b[0m\u001b[0m\n\u001b[0m",
            "\u001b[0;32m<ipython-input-22-d4763f1ee3ba>\u001b[0m in \u001b[0;36mdup\u001b[0;34m()\u001b[0m\n\u001b[1;32m      4\u001b[0m \u001b[0;32mdef\u001b[0m \u001b[0mdup\u001b[0m\u001b[0;34m(\u001b[0m\u001b[0;34m)\u001b[0m\u001b[0;34m:\u001b[0m\u001b[0;34m\u001b[0m\u001b[0;34m\u001b[0m\u001b[0m\n\u001b[1;32m      5\u001b[0m   \u001b[0;31m# string=\"assasination\"\u001b[0m\u001b[0;34m\u001b[0m\u001b[0;34m\u001b[0m\u001b[0;34m\u001b[0m\u001b[0m\n\u001b[0;32m----> 6\u001b[0;31m   \u001b[0mstring\u001b[0m\u001b[0;34m=\u001b[0m\u001b[0minput\u001b[0m\u001b[0;34m(\u001b[0m\u001b[0;34m\"Enter the value\"\u001b[0m\u001b[0;34m)\u001b[0m\u001b[0;34m\u001b[0m\u001b[0;34m\u001b[0m\u001b[0m\n\u001b[0m\u001b[1;32m      7\u001b[0m   \u001b[0mD\u001b[0m\u001b[0;34m=\u001b[0m\u001b[0;34m[\u001b[0m\u001b[0;34m]\u001b[0m\u001b[0;34m\u001b[0m\u001b[0;34m\u001b[0m\u001b[0m\n\u001b[1;32m      8\u001b[0m   \u001b[0;32mfor\u001b[0m \u001b[0mi\u001b[0m \u001b[0;32min\u001b[0m \u001b[0mstring\u001b[0m\u001b[0;34m:\u001b[0m\u001b[0;34m\u001b[0m\u001b[0;34m\u001b[0m\u001b[0m\n",
            "\u001b[0;31mTypeError\u001b[0m: 'str' object is not callable"
          ]
        }
      ],
      "source": [
        "\n",
        "from collections import Counter\n",
        "  \n",
        "def dup():\n",
        "  string=\"assasination\"\n",
        "  D=[]\n",
        "  for i in string:\n",
        "    if string.count(i)>1:\n",
        "      if i not in D:\n",
        "        D.append(i)\n",
        "  return D\n",
        "\n",
        "\n",
        "dup()"
      ]
    },
    {
      "cell_type": "code",
      "source": [
        ""
      ],
      "metadata": {
        "id": "Hc9jWmBQhbG5"
      },
      "execution_count": null,
      "outputs": []
    }
  ],
  "metadata": {
    "colab": {
      "name": "PythonProgramming_11.ipynb",
      "provenance": []
    },
    "kernelspec": {
      "display_name": "Python 3",
      "name": "python3"
    },
    "language_info": {
      "name": "python"
    }
  },
  "nbformat": 4,
  "nbformat_minor": 0
}
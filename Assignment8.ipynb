{
  "nbformat": 4,
  "nbformat_minor": 0,
  "metadata": {
    "colab": {
      "name": "Assignment8.ipynb",
      "provenance": []
    },
    "kernelspec": {
      "name": "python3",
      "display_name": "Python 3"
    },
    "language_info": {
      "name": "python"
    }
  },
  "cells": [
    {
      "cell_type": "markdown",
      "source": [
        "Q1. Is the Python Standard Library included with PyInputPlus?"
      ],
      "metadata": {
        "id": "4XSfm2cZ9tGY"
      }
    },
    {
      "cell_type": "markdown",
      "source": [
        "Sol: pip command is used to install PyInputPlus"
      ],
      "metadata": {
        "id": "L9y_leqoHHcR"
      }
    },
    {
      "cell_type": "code",
      "execution_count": null,
      "metadata": {
        "id": "3iBcmZx_9pOy"
      },
      "outputs": [],
      "source": [
        "pip install PyInputPlus"
      ]
    },
    {
      "cell_type": "markdown",
      "source": [
        "Q2. Why is PyInputPlus commonly imported with import pyinputplus as pypi?"
      ],
      "metadata": {
        "id": "2J9LamWgHYOd"
      }
    },
    {
      "cell_type": "markdown",
      "source": [
        "Sol: You can import the module with import pyinputplus as pyip so that you can enter a shorter name when calling the module's functions. PyInputPlus has functions for entering a variety of input, including strings, numbers, dates, yes/no, True/False, emails, and files."
      ],
      "metadata": {
        "id": "HXDIMVRjHmC6"
      }
    },
    {
      "cell_type": "markdown",
      "source": [
        "Q3. How do you distinguish between inputInt() and inputFloat()?"
      ],
      "metadata": {
        "id": "9WV5ZZ3OHzVg"
      }
    },
    {
      "cell_type": "markdown",
      "source": [
        "Sol: inputInt() : Accepts an integer value. This also takes additional parameters 'min', 'max', 'greaterThan' and 'lessThan' for bounds. Returns an int. \n",
        "inputFloat() : Accepts a floating-point numeric value."
      ],
      "metadata": {
        "id": "k-8nVjL7Hz2D"
      }
    },
    {
      "cell_type": "markdown",
      "source": [
        "Q4. Using PyInputPlus, how do you ensure that the user enters a whole number between 0 and 99?"
      ],
      "metadata": {
        "id": "BqUsRt3mH7hw"
      }
    },
    {
      "cell_type": "code",
      "source": [
        "import pyinputplus as pyip\n",
        "inp=pyip.inputInt(prompt=\"Enter the number :\", min =0, max =99)\n",
        "print(inp)"
      ],
      "metadata": {
        "colab": {
          "base_uri": "https://localhost:8080/"
        },
        "id": "TO4-86_jHXG8",
        "outputId": "15302128-f782-4b99-d1d6-d386d67e92e7"
      },
      "execution_count": 2,
      "outputs": [
        {
          "output_type": "stream",
          "name": "stdout",
          "text": [
            "Enter the number :8\n",
            "8\n"
          ]
        }
      ]
    },
    {
      "cell_type": "markdown",
      "source": [
        "Q5. What is transferred to the keyword arguments allowRegexes and blockRegexes?"
      ],
      "metadata": {
        "id": "j2b3BO-UKopI"
      }
    },
    {
      "cell_type": "markdown",
      "source": [
        "Sol: If the regex set in allowRegexes matches any part of the input, the whole string will be valid (respectively invalid, if used in blockRegexes). The regex does not need to match the entire input."
      ],
      "metadata": {
        "id": "8QT1yVG3LdM1"
      }
    },
    {
      "cell_type": "markdown",
      "source": [
        "Q6. If a blank input is entered three times, what does inputStr(limit=3) do?"
      ],
      "metadata": {
        "id": "ZnLpaPUbMUBA"
      }
    },
    {
      "cell_type": "markdown",
      "source": [
        "Sol: inputStr() raises a TimeoutException exception. If the user answers incorrectly more than 3 times, it raises a RetryLimitException exception."
      ],
      "metadata": {
        "id": "SLSseCzMMatf"
      }
    },
    {
      "cell_type": "markdown",
      "source": [
        "Q7. If blank input is entered three times, what does inputStr(limit=3, default='hello') do?"
      ],
      "metadata": {
        "id": "VgTuIjk2MiiJ"
      }
    },
    {
      "cell_type": "code",
      "source": [
        "import pyinputplus as pyip\n",
        "inp = pyip.inputInt(prompt = \"Enter an Integer... \", \n",
        "                    default = \"Hello \", limit = 3)\n",
        "  \n",
        "print(inp)"
      ],
      "metadata": {
        "colab": {
          "base_uri": "https://localhost:8080/"
        },
        "id": "8ksXqHKlKLw-",
        "outputId": "3545bd87-a086-42b7-cde6-a3178f2d5682"
      },
      "execution_count": 1,
      "outputs": [
        {
          "output_type": "stream",
          "name": "stdout",
          "text": [
            "Enter an Integer... \n",
            "Blank values are not allowed.\n",
            "Enter an Integer... \n",
            "Blank values are not allowed.\n",
            "Enter an Integer... \n",
            "Blank values are not allowed.\n",
            "Hello \n"
          ]
        }
      ]
    }
  ]
}
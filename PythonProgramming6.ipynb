{
  "cells": [
    {
      "cell_type": "code",
      "execution_count": null,
      "metadata": {
        "id": "wZhuWItKQmDS"
      },
      "outputs": [],
      "source": [
        "1. Write a Python program to Display Fibonacci Sequence using Recursion?"
      ]
    },
    {
      "cell_type": "code",
      "execution_count": 10,
      "metadata": {
        "id": "tlImJCDqRAAa",
        "colab": {
          "base_uri": "https://localhost:8080/"
        },
        "outputId": "ce833188-8981-4b09-97ac-06509629eeae"
      },
      "outputs": [
        {
          "output_type": "stream",
          "name": "stdout",
          "text": [
            "34\n"
          ]
        }
      ],
      "source": [
        "def Fibonacci(n):\n",
        "\n",
        "    if n < 0:\n",
        "        print(\"Incorrect input\")\n",
        " \n",
        "    elif n == 0:\n",
        "        return 0\n",
        " \n",
        "    elif n == 1 or n == 2:\n",
        "        return 1\n",
        " \n",
        "    else:\n",
        "        return Fibonacci(n-1) + Fibonacci(n-2)\n",
        " \n",
        "print(Fibonacci(9))"
      ]
    },
    {
      "cell_type": "markdown",
      "metadata": {
        "id": "FUBqzIGgQrvj"
      },
      "source": [
        "2. 2. Write a Python Program to Find Factorial of Number Using Recursion?"
      ]
    },
    {
      "cell_type": "code",
      "execution_count": 8,
      "metadata": {
        "id": "VKaeTMaTR7yD",
        "colab": {
          "base_uri": "https://localhost:8080/"
        },
        "outputId": "1cc550ea-efbb-420e-cfbf-23440f48061e"
      },
      "outputs": [
        {
          "output_type": "stream",
          "name": "stdout",
          "text": [
            "120\n"
          ]
        }
      ],
      "source": [
        "def fact(n):\n",
        "    if n==0:\n",
        "        return 1\n",
        "    return n* fact(n-1)\n",
        "\n",
        "\n",
        "result=fact(5)\n",
        "print(result)"
      ]
    },
    {
      "cell_type": "markdown",
      "metadata": {
        "id": "v2HpvxMmR8ZM"
      },
      "source": [
        "3. Write a Python Program to calculate your Body Mass Index."
      ]
    },
    {
      "cell_type": "code",
      "execution_count": null,
      "metadata": {
        "id": "Od5bScLJSFw_",
        "colab": {
          "base_uri": "https://localhost:8080/"
        },
        "outputId": "80c9273a-a6b4-4756-b4d2-e34d48ba85a5"
      },
      "outputs": [
        {
          "output_type": "stream",
          "name": "stdout",
          "text": [
            "Enter the height170\n",
            "Enter the weight65\n",
            "0.7647058823529411\n"
          ]
        }
      ],
      "source": [
        "h=int(input(\"Enter the height in cms\"))\n",
        "w=int(input(\"Enter the weight in kg\"))\n",
        "def bmi(h,w):\n",
        "  bmi = w/h*2\n",
        "  return bmi\n",
        "result = bmi(h,w)\n",
        "print(result)\n"
      ]
    },
    {
      "cell_type": "markdown",
      "metadata": {
        "id": "8rOdEE2wSGK7"
      },
      "source": [
        "4. Write a PythonProgram to calculate the natural logarithm of any number."
      ]
    },
    {
      "cell_type": "code",
      "execution_count": 9,
      "metadata": {
        "id": "jRJVvbkwSUWO",
        "colab": {
          "base_uri": "https://localhost:8080/"
        },
        "outputId": "d1a18e23-0bc3-4710-cdea-ef4795d2ffa5"
      },
      "outputs": [
        {
          "output_type": "stream",
          "name": "stdout",
          "text": [
            "Enter the number10\n",
            "Enter the base10\n",
            "1.0\n"
          ]
        }
      ],
      "source": [
        "from math import *\n",
        "x=int(input(\"Enter the number\"))\n",
        "y=int(input(\"Enter the base\"))\n",
        "print(log(x,y)"
      ]
    },
    {
      "cell_type": "markdown",
      "metadata": {
        "id": "H55Z0_wvSVDj"
      },
      "source": [
        "5. Write a Python Program for cube sum of first n natural numbers."
      ]
    },
    {
      "cell_type": "code",
      "execution_count": null,
      "metadata": {
        "colab": {
          "background_save": true,
          "base_uri": "https://localhost:8080/",
          "height": 339
        },
        "id": "u32_01bsSg6M",
        "outputId": "ddf602ef-0cc5-4f86-d510-f87de590ada5"
      },
      "outputs": [
        {
          "ename": "TypeError",
          "evalue": "ignored",
          "output_type": "error",
          "traceback": [
            "\u001b[0;31m---------------------------------------------------------------------------\u001b[0m",
            "\u001b[0;31mTypeError\u001b[0m                                 Traceback (most recent call last)",
            "\u001b[0;32m<ipython-input-9-88051515dfea>\u001b[0m in \u001b[0;36m<module>\u001b[0;34m()\u001b[0m\n\u001b[1;32m      3\u001b[0m   \u001b[0my\u001b[0m \u001b[0;34m=\u001b[0m \u001b[0;34m(\u001b[0m\u001b[0mx\u001b[0m\u001b[0;34m*\u001b[0m\u001b[0mx\u001b[0m\u001b[0;34m)\u001b[0m\u001b[0;34m\u001b[0m\u001b[0;34m\u001b[0m\u001b[0m\n\u001b[1;32m      4\u001b[0m   \u001b[0;32mreturn\u001b[0m \u001b[0mint\u001b[0m\u001b[0;34m(\u001b[0m\u001b[0my\u001b[0m\u001b[0;34m)\u001b[0m\u001b[0;34m\u001b[0m\u001b[0;34m\u001b[0m\u001b[0m\n\u001b[0;32m----> 5\u001b[0;31m \u001b[0mresult\u001b[0m \u001b[0;34m=\u001b[0m \u001b[0msum\u001b[0m\u001b[0;34m(\u001b[0m\u001b[0;36m5\u001b[0m\u001b[0;34m)\u001b[0m\u001b[0;34m\u001b[0m\u001b[0;34m\u001b[0m\u001b[0m\n\u001b[0m\u001b[1;32m      6\u001b[0m \u001b[0mprint\u001b[0m\u001b[0;34m(\u001b[0m\u001b[0mresult\u001b[0m\u001b[0;34m)\u001b[0m\u001b[0;34m\u001b[0m\u001b[0;34m\u001b[0m\u001b[0m\n",
            "\u001b[0;32m<ipython-input-9-88051515dfea>\u001b[0m in \u001b[0;36msum\u001b[0;34m(n)\u001b[0m\n\u001b[1;32m      1\u001b[0m \u001b[0;32mdef\u001b[0m \u001b[0msum\u001b[0m\u001b[0;34m(\u001b[0m\u001b[0mn\u001b[0m\u001b[0;34m)\u001b[0m\u001b[0;34m:\u001b[0m\u001b[0;34m\u001b[0m\u001b[0;34m\u001b[0m\u001b[0m\n\u001b[0;32m----> 2\u001b[0;31m   \u001b[0mx\u001b[0m \u001b[0;34m=\u001b[0m \u001b[0;34m(\u001b[0m\u001b[0mn\u001b[0m\u001b[0;34m(\u001b[0m\u001b[0mn\u001b[0m\u001b[0;34m+\u001b[0m\u001b[0;36m1\u001b[0m\u001b[0;34m)\u001b[0m\u001b[0;34m/\u001b[0m\u001b[0;36m2\u001b[0m\u001b[0;34m)\u001b[0m\u001b[0;34m\u001b[0m\u001b[0;34m\u001b[0m\u001b[0m\n\u001b[0m\u001b[1;32m      3\u001b[0m   \u001b[0my\u001b[0m \u001b[0;34m=\u001b[0m \u001b[0;34m(\u001b[0m\u001b[0mx\u001b[0m\u001b[0;34m*\u001b[0m\u001b[0mx\u001b[0m\u001b[0;34m)\u001b[0m\u001b[0;34m\u001b[0m\u001b[0;34m\u001b[0m\u001b[0m\n\u001b[1;32m      4\u001b[0m   \u001b[0;32mreturn\u001b[0m \u001b[0mint\u001b[0m\u001b[0;34m(\u001b[0m\u001b[0my\u001b[0m\u001b[0;34m)\u001b[0m\u001b[0;34m\u001b[0m\u001b[0;34m\u001b[0m\u001b[0m\n\u001b[1;32m      5\u001b[0m \u001b[0mresult\u001b[0m \u001b[0;34m=\u001b[0m \u001b[0msum\u001b[0m\u001b[0;34m(\u001b[0m\u001b[0;36m5\u001b[0m\u001b[0;34m)\u001b[0m\u001b[0;34m\u001b[0m\u001b[0;34m\u001b[0m\u001b[0m\n",
            "\u001b[0;31mTypeError\u001b[0m: 'int' object is not callable"
          ]
        }
      ],
      "source": [
        "def sum(n):\n",
        "  x = (n(n+1)/2)\n",
        "  y = (x*x)\n",
        "  return int(y)\n",
        "result = sum(5)\n",
        "print(result)"
      ]
    },
    {
      "cell_type": "code",
      "execution_count": null,
      "metadata": {
        "id": "eumDneAyUxXM"
      },
      "outputs": [],
      "source": [
        ""
      ]
    }
  ],
  "metadata": {
    "colab": {
      "name": "PythonProgramming6.ipynb",
      "provenance": []
    },
    "kernelspec": {
      "display_name": "Python 3",
      "name": "python3"
    },
    "language_info": {
      "name": "python"
    }
  },
  "nbformat": 4,
  "nbformat_minor": 0
}
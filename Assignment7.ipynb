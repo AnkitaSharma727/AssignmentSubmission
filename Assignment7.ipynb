{
  "nbformat": 4,
  "nbformat_minor": 0,
  "metadata": {
    "colab": {
      "name": "Assignment7.ipynb",
      "provenance": []
    },
    "kernelspec": {
      "name": "python3",
      "display_name": "Python 3"
    },
    "language_info": {
      "name": "python"
    }
  },
  "cells": [
    {
      "cell_type": "markdown",
      "source": [
        "Q1. What is the name of the feature responsible for generating Regex objects?"
      ],
      "metadata": {
        "id": "mbNuoSWMkn1-"
      }
    },
    {
      "cell_type": "markdown",
      "source": [
        "Sol : The re.compile() function returns Regex object."
      ],
      "metadata": {
        "id": "Iu2kR2zQmrrr"
      }
    },
    {
      "cell_type": "markdown",
      "source": [
        "Q2. Why do raw strings often appear in Regex objects?"
      ],
      "metadata": {
        "id": "igB5ISh4m1Ge"
      }
    },
    {
      "cell_type": "markdown",
      "source": [
        "Sol: Raw strings are often used in Regex objects\n",
        "1. So that backslashes do not ahve to be escaped.\n",
        "2. keep regular expression meaningful and confusion - free.\n"
      ],
      "metadata": {
        "id": "6nSxmh23m4yT"
      }
    },
    {
      "cell_type": "markdown",
      "source": [
        "Q3. What is the return value of the search() method?"
      ],
      "metadata": {
        "id": "CrzBO26FnlSZ"
      }
    },
    {
      "cell_type": "markdown",
      "source": [
        "Sol: The search() function searches the string for a match, and returns a Match object if there is a match.\n",
        "It used to return the lowest index value of the first occurrence of the substring from the input string; else it returns -1. "
      ],
      "metadata": {
        "id": "GKEIYgOzn7cd"
      }
    },
    {
      "cell_type": "markdown",
      "source": [
        "Q4. From a Match item, how do you get the actual strings that match the pattern?"
      ],
      "metadata": {
        "id": "U1lYnmF2oFBk"
      }
    },
    {
      "cell_type": "markdown",
      "source": [
        "Sol: The group() method returns strings of the matched text."
      ],
      "metadata": {
        "id": "tNiPjuf3_Z46"
      }
    },
    {
      "cell_type": "markdown",
      "source": [
        "Q5. In the regex which created from the r'(\\d\\d\\d)-(\\d\\d\\d-\\d\\d\\d\\d)', what does group zero cover? Group 2? Group 1?"
      ],
      "metadata": {
        "id": "kUmKjQT6vaL6"
      }
    },
    {
      "cell_type": "code",
      "source": [
        "phoneNumRegex = re.compile(r'(\\d\\d\\d)-(\\d\\d\\d-\\d\\d\\d\\d)')\n",
        "mo = phoneNumRegex.search('My number is 415-555-4242.')\n",
        "mo.group(1)"
      ],
      "metadata": {
        "colab": {
          "base_uri": "https://localhost:8080/",
          "height": 35
        },
        "id": "YY1DEPz88ilo",
        "outputId": "76761689-369b-41f6-dc95-d99a21cd8b8f"
      },
      "execution_count": 7,
      "outputs": [
        {
          "output_type": "execute_result",
          "data": {
            "application/vnd.google.colaboratory.intrinsic+json": {
              "type": "string"
            },
            "text/plain": [
              "'415'"
            ]
          },
          "metadata": {},
          "execution_count": 7
        }
      ]
    },
    {
      "cell_type": "code",
      "source": [
        "mo.group(2)"
      ],
      "metadata": {
        "colab": {
          "base_uri": "https://localhost:8080/",
          "height": 35
        },
        "id": "BOV0wgiN8ybU",
        "outputId": "0e7ad9d7-0025-48a8-abfd-e4ef3276c29f"
      },
      "execution_count": 6,
      "outputs": [
        {
          "output_type": "execute_result",
          "data": {
            "application/vnd.google.colaboratory.intrinsic+json": {
              "type": "string"
            },
            "text/plain": [
              "'555-4242'"
            ]
          },
          "metadata": {},
          "execution_count": 6
        }
      ]
    },
    {
      "cell_type": "markdown",
      "source": [
        "Q6. In standard expression syntax, parentheses and intervals have distinct meanings. How can you tell a regex that you want it to fit real parentheses and periods?"
      ],
      "metadata": {
        "id": "sibaHG7zvcUe"
      }
    },
    {
      "cell_type": "markdown",
      "source": [
        "Sol: Periods and parentheses can be escaped with a backslash: \\., \\(, and \\)."
      ],
      "metadata": {
        "id": "Ed-nMVT08INp"
      }
    },
    {
      "cell_type": "markdown",
      "source": [
        "Q7. The findall() method returns a string list or a list of string tuples. What causes it to return one of the two options?"
      ],
      "metadata": {
        "id": "6DD2Q4-0vgQk"
      }
    },
    {
      "cell_type": "markdown",
      "source": [
        "Sol :  If the regex has no groups, a list of strings is returned. If the regex has groups, a list of tuples of strings is returned."
      ],
      "metadata": {
        "id": "SNr6bNH_MqpJ"
      }
    },
    {
      "cell_type": "markdown",
      "source": [
        "Q8. In standard expressions, what does the | character mean?"
      ],
      "metadata": {
        "id": "69EWP1jBvjfb"
      }
    },
    {
      "cell_type": "markdown",
      "source": [
        "Sol: The | character signifies matching \"either, or\" between two groups."
      ],
      "metadata": {
        "id": "MXSOvcCPG0B4"
      }
    },
    {
      "cell_type": "markdown",
      "source": [
        "Q9. In regular expressions, what does the character stand for?"
      ],
      "metadata": {
        "id": "_efZMXwlvntq"
      }
    },
    {
      "cell_type": "markdown",
      "source": [
        "Sol: A character set is an explicit list of the characters that may qualify for a match in a search. A character set is indicated by enclosing a set of characters in brackets ([ and ]). \n",
        "Ex: In regex, ^ means start with."
      ],
      "metadata": {
        "id": "0quh-SCR2Zq1"
      }
    },
    {
      "cell_type": "markdown",
      "source": [
        "Q10. In regular expressions, what is the difference between the + and * characters?"
      ],
      "metadata": {
        "id": "NbJS9At2vr7V"
      }
    },
    {
      "cell_type": "markdown",
      "source": [
        "Sol: The + matches one or more. The * matches zero or more."
      ],
      "metadata": {
        "id": "erETkXd0HNgV"
      }
    },
    {
      "cell_type": "markdown",
      "source": [
        "Q11. What is the difference between {4} and {4,5} in regular expression?"
      ],
      "metadata": {
        "id": "pkWgqGitvvD9"
      }
    },
    {
      "cell_type": "markdown",
      "source": [
        "Q12. What do you mean by the \\d, \\w, and \\s shorthand character classes signify in regular expressions?\n"
      ],
      "metadata": {
        "id": "xjWS609nvzQZ"
      }
    },
    {
      "cell_type": "markdown",
      "source": [
        "Sol: The \\d, \\w, and \\s shorthand character classes match a single digit, word, or space character, respectively."
      ],
      "metadata": {
        "id": "0HPH7XhO3CwQ"
      }
    },
    {
      "cell_type": "markdown",
      "source": [
        "Q 13. What do means by \\D, \\W, and \\S shorthand character classes signify in regular expressions?"
      ],
      "metadata": {
        "id": "5jmgwrspv4BI"
      }
    },
    {
      "cell_type": "markdown",
      "source": [
        "Sol: The \\d, \\w, and \\s shorthand character classes match a single digit, word, or space character, respectively."
      ],
      "metadata": {
        "id": "cfjSP2uO3KV5"
      }
    },
    {
      "cell_type": "markdown",
      "source": [
        "Q14. What is the difference between .*? and .*?"
      ],
      "metadata": {
        "id": "1i4-j7n4v8Od"
      }
    },
    {
      "cell_type": "markdown",
      "source": [
        "Sol: *? will search for a match using as few characters as possible. If you're matching \". *?\" against \"a\" \"b\" , the regex engine will report just \"a\" as a match. The greedy version \". *\" would report the entire string as a match because * wants to consume as much input as possible."
      ],
      "metadata": {
        "id": "83-2iuZu3wmF"
      }
    },
    {
      "cell_type": "markdown",
      "source": [
        "Q15. What is the syntax for matching both numbers and lowercase letters with a character class?"
      ],
      "metadata": {
        "id": "iEvz_psFv_uj"
      }
    },
    {
      "cell_type": "markdown",
      "source": [
        "Sol: [. -.] (Range Expression): Accept ANY ONE of the character in the range, e.g., [0-9] matches any digit; [A-Za-z] matches any uppercase or lowercase letters."
      ],
      "metadata": {
        "id": "n4tRQuCF384F"
      }
    },
    {
      "cell_type": "markdown",
      "source": [
        "Q16. What is the procedure for making a normal expression in regax case insensitive?"
      ],
      "metadata": {
        "id": "2B6rKhIWwCtW"
      }
    },
    {
      "cell_type": "markdown",
      "source": [
        "Sol: Use re. IGNORECASE to do case insensitive regular expressions"
      ],
      "metadata": {
        "id": "rvPeHeCrD-q9"
      }
    },
    {
      "cell_type": "markdown",
      "source": [
        "Q17. What does the . character normally match? What does it match if re.DOTALL is passed as 2nd argument in re.compile()?"
      ],
      "metadata": {
        "id": "z5d-T4YYwGnU"
      }
    },
    {
      "cell_type": "markdown",
      "source": [
        "Sol: Character normally matches any character except the newline character. If re. DOTALL is passed as the second argument to re. compile(), then the dot will also match newline characters."
      ],
      "metadata": {
        "id": "Zrc-lEQF4LQr"
      }
    },
    {
      "cell_type": "markdown",
      "source": [
        "Q 19. What does passing re.VERBOSE as the 2nd argument to re.compile() allow to do?"
      ],
      "metadata": {
        "id": "xVKpYW5mwNIc"
      }
    },
    {
      "cell_type": "markdown",
      "source": [
        "Sol: The re. VERBOSE argument allows you to add whitespace and comments to the string passed to re."
      ],
      "metadata": {
        "id": "1mW9b6vn42Xc"
      }
    },
    {
      "cell_type": "markdown",
      "source": [
        "Q 20. How would you write a regex that match a number with comma for every three digits? It must match the given following:\n",
        "'42'\n",
        "'1,234'\n",
        "'6,368,745'\n",
        "but not the following:\n",
        "'12,34,567' (which has only two digits between the commas)\n",
        "'1234' (which lacks commas)\n"
      ],
      "metadata": {
        "id": "-7N2TT8SwQKP"
      }
    },
    {
      "cell_type": "markdown",
      "source": [
        "Sol: ^\\d{1,3}(,\\d{3})*$"
      ],
      "metadata": {
        "id": "IYU_ya_65Rss"
      }
    },
    {
      "cell_type": "markdown",
      "source": [
        "Q 21. How would you write a regex that matches the full name of someone whose last name is Watanabe? You can assume that the first name that comes before it will always be one word that begins with a capital letter. The regex must match the following:\n",
        "'Haruto Watanabe'\n",
        "'Alice Watanabe'\n",
        "'RoboCop Watanabe'\n",
        "but not the following:\n",
        "'haruto Watanabe' (where the first name is not capitalized)\n",
        "'Mr. Watanabe' (where the preceding word has a nonletter character)\n",
        "'Watanabe' (which has no first name)\n",
        "'Haruto watanabe' (where Watanabe is not capitalized)\n"
      ],
      "metadata": {
        "id": "BogI8cVzwVz6"
      }
    },
    {
      "cell_type": "code",
      "source": [
        "import re\n",
        "\n",
        "heading = \"\"\"How would you write a regex that matches the full name of someone whose last name is Watanabe? You can assume that the first name that comes before it will always be one word that begins with a capital letter. The regex must match the following:\n",
        "\n",
        "'Haruto Watanabe'\n",
        "'Alice Watanabe'\n",
        "'RoboCop Watanabe'\n",
        "\n",
        "but not the following:\n",
        "\n",
        "'haruto Watanabe' (where the first name is not capitalized)\n",
        "'Mr. Watanabe' (where the preceding word has a nonletter character)\n",
        "'Watanabe' (which has no first name)\n",
        "'Haruto watanabe' (where Watanabe is not capitalized)\"\"\"\n",
        "\n",
        "print(heading)\n",
        "\n",
        "name_regex = re.compile(r'[A-Z](?:\\w)+\\sWatanabe')\n",
        "\n",
        "text = \"The regex must match the following: 'Haruto Watanabe' 'Alice Watanabe' 'RoboCop Watanabe' but not the following: 'haruto Watanabe' (where the first name is not capitalized) 'Mr. Watanabe' (where the preceding word has a nonletter character) 'Watanabe'(which has no first name) 'Haruto watanabe'.\"\n",
        "\n",
        "print(\"\\n\\n\\t*************\\n\\nThis is the result I get using my regex with search in text:\")\n",
        "mo0 = name_regex.search(text)\n",
        "found = mo0.group()\n",
        "print(found + '\\n\\n')\n",
        "\n",
        "mo1 = name_regex.search('Haruto Watanabe')\n",
        "mo2 = name_regex.search('Alice Watanabe')\n",
        "mo3 = name_regex.search('RoboCop Watanabe')\n",
        "mo4 = name_regex.search('Watanabe')\n",
        "mo5 = name_regex.search('Mr. Watanabe')\n",
        "mo6 = name_regex.search('Haruto watanabe')\n",
        "mo7 = name_regex.search('haruto watanabe')\n",
        "\n",
        "mo_l = [mo1, mo2, mo3, mo4, mo5, mo6, mo7]\n",
        "\n",
        "print(\"Next, the result of using my regex with search over each possible name to match:\")\n",
        "try:\n",
        "    for mo_x in mo_l:\n",
        "        mo = mo_x.group()\n",
        "        print(mo)\n",
        "except AttributeError:\n",
        "    pass"
      ],
      "metadata": {
        "colab": {
          "base_uri": "https://localhost:8080/"
        },
        "id": "kuxbq1DA6QMC",
        "outputId": "395e432c-59be-46fa-f0d6-f63ffea3d585"
      },
      "execution_count": 1,
      "outputs": [
        {
          "output_type": "stream",
          "name": "stdout",
          "text": [
            "How would you write a regex that matches the full name of someone whose last name is Watanabe? You can assume that the first name that comes before it will always be one word that begins with a capital letter. The regex must match the following:\n",
            "\n",
            "'Haruto Watanabe'\n",
            "'Alice Watanabe'\n",
            "'RoboCop Watanabe'\n",
            "\n",
            "but not the following:\n",
            "\n",
            "'haruto Watanabe' (where the first name is not capitalized)\n",
            "'Mr. Watanabe' (where the preceding word has a nonletter character)\n",
            "'Watanabe' (which has no first name)\n",
            "'Haruto watanabe' (where Watanabe is not capitalized)\n",
            "\n",
            "\n",
            "\t*************\n",
            "\n",
            "This is the result I get using my regex with search in text:\n",
            "Haruto Watanabe\n",
            "\n",
            "\n",
            "Next, the result of using my regex with search over each possible name to match:\n",
            "Haruto Watanabe\n",
            "Alice Watanabe\n",
            "RoboCop Watanabe\n"
          ]
        }
      ]
    },
    {
      "cell_type": "markdown",
      "source": [
        "Q 22. How would you write a regex that matches a sentence where the first word is either Alice, Bob, or Carol; the second word is either eats, pets, or throws; the third word is apples, cats, or baseballs; and the sentence ends with a period? This regex should be case-insensitive. It must match the following:\n",
        "'Alice eats apples.'\n",
        "'Bob pets cats.'\n",
        "'Carol throws baseballs.'\n",
        "'Alice throws Apples.'\n",
        "'BOB EATS CATS.'\n",
        "but not the following:\n",
        "'RoboCop eats apples.'\n",
        "'ALICE THROWS FOOTBALLS.'\n",
        "'Carol eats 7 cats.'\n"
      ],
      "metadata": {
        "id": "8dRMrVs9wZ44"
      }
    },
    {
      "cell_type": "code",
      "source": [
        "regex=re.compile(r'(Alice|Bob|Carol)\\s+(eats|pets|throws)\\s+(apples|cats|baseballs)\\.', re.IGNORECASE)"
      ],
      "metadata": {
        "id": "48__2emC6obw"
      },
      "execution_count": 3,
      "outputs": []
    },
    {
      "cell_type": "code",
      "source": [
        "regex=re.compile(r'Alice|Bob|Carol\\seats|pets|throws\\sapples\\.|cats\\.|baseballs\\.',re.IGNORECASE)\n",
        "mo=regex.search(str)\n",
        "ma=mo.group()"
      ],
      "metadata": {
        "id": "gdT-6Ufc60Gi"
      },
      "execution_count": null,
      "outputs": []
    }
  ]
}
{
  "nbformat": 4,
  "nbformat_minor": 0,
  "metadata": {
    "colab": {
      "name": "Assignment6.ipynb",
      "provenance": []
    },
    "kernelspec": {
      "name": "python3",
      "display_name": "Python 3"
    },
    "language_info": {
      "name": "python"
    }
  },
  "cells": [
    {
      "cell_type": "markdown",
      "source": [
        "Q1. What are escape characters, and how do you use them?"
      ],
      "metadata": {
        "id": "UQq8LanHyyCM"
      }
    },
    {
      "cell_type": "markdown",
      "source": [
        "Sol: In python, backslash, \"\\\" is termed as escape character which is used to insert various characters and whitespaces. \n",
        "there are several uses of escape character. \n",
        "1. \"\\n\" = used for new line\n",
        "2. \"\\t\" = tab spaces\n",
        "3. \"\\r\" = return carriage\n"
      ],
      "metadata": {
        "id": "gzAkSVf2y3QI"
      }
    },
    {
      "cell_type": "code",
      "source": [
        "print(\"Hello\\nHow are you\\tI\\'m good\\\\bad\")"
      ],
      "metadata": {
        "colab": {
          "base_uri": "https://localhost:8080/"
        },
        "id": "MQ-KNsMbz289",
        "outputId": "ce3bf1d5-8294-47bc-f47d-fee2efb312f8"
      },
      "execution_count": null,
      "outputs": [
        {
          "output_type": "stream",
          "name": "stdout",
          "text": [
            "Hello\n",
            "How are you\tI'm good\\bad\n"
          ]
        }
      ]
    },
    {
      "cell_type": "markdown",
      "source": [
        "Q2. What do the escape characters n and t stand for?"
      ],
      "metadata": {
        "id": "Kw6CckDvz7s3"
      }
    },
    {
      "cell_type": "markdown",
      "source": [
        "Sol: \"\\n\" = It stands for new line. \n",
        "\"\\t\" = It stands for tab spaces "
      ],
      "metadata": {
        "id": "n4OTEktZ0ACh"
      }
    },
    {
      "cell_type": "markdown",
      "source": [
        "Q3. What is the way to include backslash characters in a string?"
      ],
      "metadata": {
        "id": "xxnZgziI0OUk"
      }
    },
    {
      "cell_type": "markdown",
      "source": [
        "Sol: The backslash character in a string can be included using double backslash."
      ],
      "metadata": {
        "id": "SKkl7FsR0g_h"
      }
    },
    {
      "cell_type": "code",
      "execution_count": null,
      "metadata": {
        "colab": {
          "base_uri": "https://localhost:8080/"
        },
        "id": "h5OLGpeUys5W",
        "outputId": "c6fba7d7-9422-42e1-8f03-8a34cc137c70"
      },
      "outputs": [
        {
          "output_type": "stream",
          "name": "stdout",
          "text": [
            "Hello , How are you? This \\ That means \n"
          ]
        }
      ],
      "source": [
        "print(\"Hello , How are you? This \\\\ That means \")"
      ]
    },
    {
      "cell_type": "markdown",
      "source": [
        "Q4. The string \"Howl's Moving Castle\" is a correct value. Why isn't the single quote character in the word Howl's not escaped a problem?"
      ],
      "metadata": {
        "id": "ieG4n-glyxKl"
      }
    },
    {
      "cell_type": "markdown",
      "source": [
        "The sigle quote character in the word Howl's not escaped a problem because the string is enclosed within the double quotes. "
      ],
      "metadata": {
        "id": "pfLu__r97EHX"
      }
    },
    {
      "cell_type": "markdown",
      "source": [
        "Q5. How do you write a string of newlines if you don't want to use the n character?"
      ],
      "metadata": {
        "id": "ajHZLMaz7Zmy"
      }
    },
    {
      "cell_type": "markdown",
      "source": [
        "SOl: A string of newlines can be introduced without the use of n character by printing the separate statements for the string\n"
      ],
      "metadata": {
        "id": "pMUN9n_g73_j"
      }
    },
    {
      "cell_type": "code",
      "source": [
        "print(\"Good Morning\")\n",
        "print(\"How are you?\")"
      ],
      "metadata": {
        "colab": {
          "base_uri": "https://localhost:8080/"
        },
        "id": "9VfjXjOK62x9",
        "outputId": "9bed1f06-557b-4fa5-c3c6-e156b0257bc0"
      },
      "execution_count": null,
      "outputs": [
        {
          "output_type": "stream",
          "name": "stdout",
          "text": [
            "Good Morning\n",
            "How are you?\n"
          ]
        }
      ]
    },
    {
      "cell_type": "markdown",
      "source": [
        "Q6. What are the values of the given expressions?\n",
        "'Hello, world!'[1]\n",
        "'Hello, world!'[0:5]\n",
        "'Hello, world!'[:5]\n",
        "'Hello, world!'[3:]\n"
      ],
      "metadata": {
        "id": "cux9UE3z8TX-"
      }
    },
    {
      "cell_type": "code",
      "source": [
        "'Hello, world!'[1]"
      ],
      "metadata": {
        "colab": {
          "base_uri": "https://localhost:8080/",
          "height": 35
        },
        "id": "GcDZa4-k63WU",
        "outputId": "c1f37d1e-b29c-46c6-d105-0b1e25096074"
      },
      "execution_count": null,
      "outputs": [
        {
          "output_type": "execute_result",
          "data": {
            "application/vnd.google.colaboratory.intrinsic+json": {
              "type": "string"
            },
            "text/plain": [
              "'e'"
            ]
          },
          "metadata": {},
          "execution_count": 6
        }
      ]
    },
    {
      "cell_type": "code",
      "source": [
        "'Hello, world!'[0:5]"
      ],
      "metadata": {
        "colab": {
          "base_uri": "https://localhost:8080/",
          "height": 35
        },
        "id": "-MJEeXLg8YgN",
        "outputId": "b5d4ee0e-12c5-450e-eb15-46e7d6620630"
      },
      "execution_count": null,
      "outputs": [
        {
          "output_type": "execute_result",
          "data": {
            "application/vnd.google.colaboratory.intrinsic+json": {
              "type": "string"
            },
            "text/plain": [
              "'Hello'"
            ]
          },
          "metadata": {},
          "execution_count": 7
        }
      ]
    },
    {
      "cell_type": "code",
      "source": [
        "'Hello, world!'[:5]"
      ],
      "metadata": {
        "colab": {
          "base_uri": "https://localhost:8080/",
          "height": 35
        },
        "id": "nqHlYNO48c92",
        "outputId": "652f866f-e210-46e2-db3d-1211ce84045f"
      },
      "execution_count": null,
      "outputs": [
        {
          "output_type": "execute_result",
          "data": {
            "application/vnd.google.colaboratory.intrinsic+json": {
              "type": "string"
            },
            "text/plain": [
              "'Hello'"
            ]
          },
          "metadata": {},
          "execution_count": 8
        }
      ]
    },
    {
      "cell_type": "code",
      "source": [
        "'Hello, world!'[3:]"
      ],
      "metadata": {
        "colab": {
          "base_uri": "https://localhost:8080/",
          "height": 35
        },
        "id": "FcXLwyXg8gwl",
        "outputId": "b1dda8ca-ba88-4a1f-d753-ca1ea4394a87"
      },
      "execution_count": null,
      "outputs": [
        {
          "output_type": "execute_result",
          "data": {
            "application/vnd.google.colaboratory.intrinsic+json": {
              "type": "string"
            },
            "text/plain": [
              "'lo, world!'"
            ]
          },
          "metadata": {},
          "execution_count": 9
        }
      ]
    },
    {
      "cell_type": "markdown",
      "source": [
        "Q7. 7. What are the values of the following expressions?\n",
        "'Hello'.upper()\n",
        "'Hello'.upper().isupper()\n",
        "'Hello'.upper().lower()\n"
      ],
      "metadata": {
        "id": "MwUH-5d98nSF"
      }
    },
    {
      "cell_type": "code",
      "source": [
        "'Hello'.upper()\n"
      ],
      "metadata": {
        "colab": {
          "base_uri": "https://localhost:8080/",
          "height": 35
        },
        "id": "ism4GaGW8jy1",
        "outputId": "efaa1e12-aa58-4163-8061-a14340c247d6"
      },
      "execution_count": null,
      "outputs": [
        {
          "output_type": "execute_result",
          "data": {
            "application/vnd.google.colaboratory.intrinsic+json": {
              "type": "string"
            },
            "text/plain": [
              "'HELLO'"
            ]
          },
          "metadata": {},
          "execution_count": 11
        }
      ]
    },
    {
      "cell_type": "code",
      "source": [
        "'Hello'.upper().isupper()"
      ],
      "metadata": {
        "colab": {
          "base_uri": "https://localhost:8080/"
        },
        "id": "GkESktrM8qQU",
        "outputId": "46b15e00-f901-4dc5-9477-5b1124114aaa"
      },
      "execution_count": null,
      "outputs": [
        {
          "output_type": "execute_result",
          "data": {
            "text/plain": [
              "True"
            ]
          },
          "metadata": {},
          "execution_count": 12
        }
      ]
    },
    {
      "cell_type": "code",
      "source": [
        "'Hello'.upper().lower()"
      ],
      "metadata": {
        "colab": {
          "base_uri": "https://localhost:8080/",
          "height": 35
        },
        "id": "ZwSV20dX8uOb",
        "outputId": "ddfc8554-7091-42f5-8934-470f4fd5a391"
      },
      "execution_count": null,
      "outputs": [
        {
          "output_type": "execute_result",
          "data": {
            "application/vnd.google.colaboratory.intrinsic+json": {
              "type": "string"
            },
            "text/plain": [
              "'hello'"
            ]
          },
          "metadata": {},
          "execution_count": 13
        }
      ]
    },
    {
      "cell_type": "markdown",
      "source": [
        "Q8. What are the values of the following expressions?\n",
        "'Remember, remember, the fifth of July.'.split()\n",
        "'-'.join('There can only one.'.split())\n"
      ],
      "metadata": {
        "id": "-kLc97ex81PU"
      }
    },
    {
      "cell_type": "code",
      "source": [
        "'Remember, remember, the fifth of July.'.split()"
      ],
      "metadata": {
        "colab": {
          "base_uri": "https://localhost:8080/"
        },
        "id": "lhR5OCcw8yRU",
        "outputId": "69f00262-615e-450c-dd12-ef526d19cdaf"
      },
      "execution_count": null,
      "outputs": [
        {
          "output_type": "execute_result",
          "data": {
            "text/plain": [
              "['Remember,', 'remember,', 'the', 'fifth', 'of', 'July.']"
            ]
          },
          "metadata": {},
          "execution_count": 14
        }
      ]
    },
    {
      "cell_type": "code",
      "source": [
        "'-'.join('There can only one.'.split())"
      ],
      "metadata": {
        "colab": {
          "base_uri": "https://localhost:8080/",
          "height": 35
        },
        "id": "MGxOkTYS9EVN",
        "outputId": "2b674003-a0da-4d36-ca24-53d05198bdb7"
      },
      "execution_count": null,
      "outputs": [
        {
          "output_type": "execute_result",
          "data": {
            "application/vnd.google.colaboratory.intrinsic+json": {
              "type": "string"
            },
            "text/plain": [
              "'There-can-only-one.'"
            ]
          },
          "metadata": {},
          "execution_count": 15
        }
      ]
    },
    {
      "cell_type": "markdown",
      "source": [
        "Q9. What are the methods for right-justifying, left-justifying, and centering a string?"
      ],
      "metadata": {
        "id": "qFTwK_AO9R1D"
      }
    },
    {
      "cell_type": "markdown",
      "source": [
        "Sol: str.ljust(s, width[, fillchar])\n",
        "str.rjust(s, width[, fillchar])\n",
        "str.center(s, width[, fillchar])"
      ],
      "metadata": {
        "id": "NjwSzT-5-vGM"
      }
    },
    {
      "cell_type": "code",
      "source": [
        "print(\"The string is : \")\n",
        "x= \"I am learning Python.\"\n",
        "print(x.center(50))"
      ],
      "metadata": {
        "colab": {
          "base_uri": "https://localhost:8080/"
        },
        "id": "pUMC7JNb9H_Q",
        "outputId": "9c585f4e-93db-47c1-f910-4073089e4ed7"
      },
      "execution_count": null,
      "outputs": [
        {
          "output_type": "stream",
          "name": "stdout",
          "text": [
            "The string is : \n",
            "              I am learning Python.               \n"
          ]
        }
      ]
    },
    {
      "cell_type": "code",
      "source": [
        "print(\"The string is : \")\n",
        "x= \"I am learning Python.\"\n",
        "print(x.ljust(50,\"*\"))"
      ],
      "metadata": {
        "colab": {
          "base_uri": "https://localhost:8080/"
        },
        "id": "8-0K9P6K_Yr9",
        "outputId": "9dfceb77-b5b0-47e4-f6f4-4cd23c0baaeb"
      },
      "execution_count": null,
      "outputs": [
        {
          "output_type": "stream",
          "name": "stdout",
          "text": [
            "The string is : \n",
            "I am learning Python.*****************************\n"
          ]
        }
      ]
    },
    {
      "cell_type": "code",
      "source": [
        "print(\"The string is : \")\n",
        "x= \"I am learning Python.\"\n",
        "print(x.rjust(50,\"*\"))"
      ],
      "metadata": {
        "colab": {
          "base_uri": "https://localhost:8080/"
        },
        "id": "6FRdnLWdAHJX",
        "outputId": "aabf2187-2320-4fb8-d243-2c37493836bb"
      },
      "execution_count": null,
      "outputs": [
        {
          "output_type": "stream",
          "name": "stdout",
          "text": [
            "The string is : \n",
            "*****************************I am learning Python.\n"
          ]
        }
      ]
    },
    {
      "cell_type": "markdown",
      "source": [
        "Q10. What is the best way to remove whitespace characters from the start or end?"
      ],
      "metadata": {
        "id": "JBdg9jD7Am7L"
      }
    },
    {
      "cell_type": "markdown",
      "source": [
        "Sol: The trim() method is used to remove whitespace characters.\n",
        "To remove whitespace characters from the beginning or from the end of a string only, the trimStart() or trimEnd() method are used."
      ],
      "metadata": {
        "id": "hEOY8awPApPZ"
      }
    },
    {
      "cell_type": "code",
      "source": [
        ""
      ],
      "metadata": {
        "id": "iGteZVO4ANzh"
      },
      "execution_count": null,
      "outputs": []
    }
  ]
}
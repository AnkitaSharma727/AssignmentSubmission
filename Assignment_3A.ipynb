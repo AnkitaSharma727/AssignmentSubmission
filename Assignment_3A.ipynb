{
  "nbformat": 4,
  "nbformat_minor": 0,
  "metadata": {
    "colab": {
      "name": "Assignment_3A.ipynb",
      "provenance": []
    },
    "kernelspec": {
      "name": "python3",
      "display_name": "Python 3"
    },
    "language_info": {
      "name": "python"
    }
  },
  "cells": [
    {
      "cell_type": "markdown",
      "source": [
        "Q1. What is the concept of an abstract superclass?"
      ],
      "metadata": {
        "id": "vAE3ovAJTFRc"
      }
    },
    {
      "cell_type": "markdown",
      "source": [
        "Sol: A class is called an Abstract class if it contains one or more abstract methods. An abstract method is a method that is declared, but contains no implementation. Abstract classes may not be instantiated, and its abstract methods must be implemented by its subclasses."
      ],
      "metadata": {
        "id": "1HIbtGbhtdcn"
      }
    },
    {
      "cell_type": "markdown",
      "source": [
        "Q2. What happens when a class statement's top level contains a basic assignment statement?"
      ],
      "metadata": {
        "id": "iCieVQ2zuQgc"
      }
    },
    {
      "cell_type": "markdown",
      "source": [
        "Sol: Assignment operator are used to bind the names to values and to modify attributes and items of mutable objects.\n",
        "we see that declaration are statement as well as assignment so the class braces should be the block of code containing them.\n",
        "The basic assignment statement in class statement's top level are the statements which are used considered as class variable and have access all throughout the class and methods."
      ],
      "metadata": {
        "id": "xUSpM9dNuY5-"
      }
    },
    {
      "cell_type": "markdown",
      "source": [
        "Q3. Why does a class need to manually call a superclass's __init__ method?"
      ],
      "metadata": {
        "id": "Xoqxgmgnz0pN"
      }
    },
    {
      "cell_type": "markdown",
      "source": [
        "Sol: A class needs to manually call a superclass's __init__ method because __init_ method acts as an refrence to provide the values to the variables."
      ],
      "metadata": {
        "id": "5qViLXKqz3AB"
      }
    },
    {
      "cell_type": "markdown",
      "source": [
        "Q4. How can you augment, instead of completely replacing, an inherited method?"
      ],
      "metadata": {
        "id": "tVoobmh50MNq"
      }
    },
    {
      "cell_type": "markdown",
      "source": [
        "Sol: Each method that is inherited from a superclass can be augmented to perform some different action in the new class. If there is no augmentation then the inherited methods will perform as defined in the superclass.\n",
        "\n",
        "An inherited method is augmented simply by creating a new definition for the method in your class definition."
      ],
      "metadata": {
        "id": "ZFHGTh6y3uF1"
      }
    },
    {
      "cell_type": "markdown",
      "source": [
        "Q 5.How is the local scope of a class different from that of a function?"
      ],
      "metadata": {
        "id": "9DK9c1NB31Wj"
      }
    },
    {
      "cell_type": "markdown",
      "source": [
        "Sol: If a variable is declared without self then it is accesible within that function only is known as local variable.\n",
        "Local Variable has function scope."
      ],
      "metadata": {
        "id": "mannWh0V4OI-"
      }
    }
  ]
}
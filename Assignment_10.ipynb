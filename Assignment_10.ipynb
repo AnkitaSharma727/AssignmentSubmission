{
  "nbformat": 4,
  "nbformat_minor": 0,
  "metadata": {
    "colab": {
      "name": "Assignment_10.ipynb",
      "provenance": []
    },
    "kernelspec": {
      "name": "python3",
      "display_name": "Python 3"
    },
    "language_info": {
      "name": "python"
    }
  },
  "cells": [
    {
      "cell_type": "markdown",
      "source": [
        "Q1. How do you distinguish between shutil.copy() and shutil.copytree()?"
      ],
      "metadata": {
        "id": "wsElLr85RjLU"
      }
    },
    {
      "cell_type": "markdown",
      "source": [
        "Sol: While shutil. copy() will copy a single file, shutil. copytree() will copy an entire folder and every folder and file contained in it."
      ],
      "metadata": {
        "id": "bGh4cUNXRuEE"
      }
    },
    {
      "cell_type": "markdown",
      "source": [
        "Q2. What function is used to rename files?"
      ],
      "metadata": {
        "id": "NvWIN0QTRvaf"
      }
    },
    {
      "cell_type": "markdown",
      "source": [
        "Sol: os. rename() method in Python is used to rename a file or directory."
      ],
      "metadata": {
        "id": "kII5YJD7R0TH"
      }
    },
    {
      "cell_type": "markdown",
      "source": [
        "Q3. What is the difference between the delete functions in the send2trash and shutil modules?"
      ],
      "metadata": {
        "id": "f6qIlCQPSBa-"
      }
    },
    {
      "cell_type": "markdown",
      "source": [
        "Sol: The send2trash functions will move a file or folder to the recycle bin, while shutil functions will permanently delete files and folders."
      ],
      "metadata": {
        "id": "biVaFRUhSInN"
      }
    },
    {
      "cell_type": "markdown",
      "source": [
        "Q4. ZipFile objects have a close() method just like File objects’ close() method. What ZipFile method is equivalent to File objects’ open() method?"
      ],
      "metadata": {
        "id": "u7BnD-PaSJ4c"
      }
    },
    {
      "cell_type": "markdown",
      "source": [
        "Sol: OpenRead(String) Method."
      ],
      "metadata": {
        "id": "tWxg_z2zSNSL"
      }
    },
    {
      "cell_type": "markdown",
      "source": [
        "Q5. Create a programme that searches a folder tree for files with a certain file extension (such as .pdf or .jpg). Copy these files from whatever location they are in to a new folder."
      ],
      "metadata": {
        "id": "24U3Vf-5SdTi"
      }
    },
    {
      "cell_type": "code",
      "execution_count": 1,
      "metadata": {
        "colab": {
          "base_uri": "https://localhost:8080/"
        },
        "id": "BSJfIzd-RiVB",
        "outputId": "d783f830-9d75-4f94-a251-ed328c136820"
      },
      "outputs": [
        {
          "output_type": "stream",
          "name": "stdout",
          "text": [
            "Looking in /content/randomFolder for files with extensions of .php, .py\n"
          ]
        }
      ],
      "source": [
        "import os, shutil\n",
        "\n",
        "def selectiveCopy(folder, extensions, destFolder):\n",
        "\tfolder = os.path.abspath(folder)\n",
        "\tdestFolder = os.path.abspath(destFolder)\n",
        "\tprint('Looking in', folder, 'for files with extensions of', ', '.join(extensions))\n",
        "\tfor foldername, subfolders, filenames in os.walk(folder):\n",
        "\t\tfor filename in filenames:\n",
        "\t\t\tname, extension = os.path.splitext(filename)\n",
        "\t\t\tif extension in extensions:\n",
        "\t\t\t\tfileAbsPath = foldername + os.path.sep + filename\n",
        "\t\t\t\tprint('Coping', fileAbsPath, 'to', destFolder)\n",
        "\t\t\t\tshutil.copy(fileAbsPath, destFolder)\n",
        "\n",
        "extensions = ['.php', '.py']\n",
        "folder = 'randomFolder'\n",
        "destFolder = 'selectiveFolder'\n",
        "selectiveCopy(folder, extensions, destFolder)"
      ]
    },
    {
      "cell_type": "code",
      "source": [
        ""
      ],
      "metadata": {
        "id": "fe5wSWFYSu-F"
      },
      "execution_count": null,
      "outputs": []
    }
  ]
}